{
 "cells": [
  {
   "cell_type": "markdown",
   "metadata": {
    "deletable": false,
    "editable": false,
    "nbgrader": {
     "cell_type": "markdown",
     "checksum": "a50f3baf1424297da3e241225a26274a",
     "grade": false,
     "grade_id": "cell-f8987996be9f1238",
     "locked": true,
     "schema_version": 3,
     "solution": false,
     "task": false
    }
   },
   "source": [
    "# Banco Mundial: préstamos a países en desarrollo\n",
    "\n",
    "Detalles sobre la organización en: https://www.worldbank.org/en/about/what-we-do\n",
    "\n",
    "### Disponible en Kaggle en:\n",
    "https://www.kaggle.com/theworldbank/world-banks-major-contracts\n",
    "\n",
    "El Banco Mundial es una organización internacional que se fundó en 1944 para reconstruir Europa después de la Segunda Guerra Mundial. Es uno de una variedad de organizaciones que ayudan a dar forma y equilibrar la economía mundial. Hoy, su función principal es combatir la pobreza ofreciendo asistencia para el desarrollo a países del tercer mundo de ingresos medios y bajos.\n",
    "Según el propio Banco Mundial, la organización tiene dos objetivos muy específicos para 2030:\n",
    "* Poner fin a la pobreza extrema disminuyendo el porcentaje de personas que viven con menos de `$`1.90 por día a no más del 3% \n",
    "* Promover la prosperidad compartida fomentando el crecimiento de los ingresos del 40% inferior para cada país."
   ]
  },
  {
   "cell_type": "markdown",
   "metadata": {
    "deletable": false,
    "editable": false,
    "nbgrader": {
     "cell_type": "markdown",
     "checksum": "9a6b4dc108ddf890c659e33701965428",
     "grade": false,
     "grade_id": "cell-f74d7bfd01811789",
     "locked": true,
     "schema_version": 3,
     "solution": false,
     "task": false
    }
   },
   "source": [
    "### Variables y significado"
   ]
  },
  {
   "cell_type": "markdown",
   "metadata": {
    "deletable": false,
    "editable": false,
    "nbgrader": {
     "cell_type": "markdown",
     "checksum": "3e57aba0f703be119458d6e86e235d34",
     "grade": false,
     "grade_id": "cell-9cfb34982bd4eb04",
     "locked": true,
     "schema_version": 3,
     "solution": false,
     "task": false
    }
   },
   "source": [
    "1. As of Date: 6-Sep-17, date when the file was generated. \n",
    "2. Fiscal Year: año fiscal en el que se ha llevado a cabo el préstamo.\n",
    "3. Region: área geográfica del país al que se le ha concedido el préstamo.\n",
    "4. Borrower Country: país al que se le ha concedido el préstamo.\n",
    "5. Borrower Country Code: código de dicho país.\n",
    "6. Project ID: código interno del préstamo.\n",
    "7. Project Name: nombre del proyecto que se llevará a cabo.\n",
    "8. Procurement Type: área para la cual se utilizará el préstamo.\n",
    "9. Procurement Category: ídem al anterior pero con una categorización más amplia.\n",
    "10. Procurement Method: tipo de adjudicación.\n",
    "11. Product Line: área interna a la que se le ha concedido el préstamo.\n",
    "12. Major Sector: economic sector económico al que se destinará.\n",
    "13. WB Contract Number: número interno de contrato.\n",
    "14. Contract Description: descripción.\n",
    "15. Contract Signing Date: fecha en la que el contrato se oficializó.\n",
    "16. Supplier: proveedor principal que trabaja en el proyecto.\n",
    "17. Supplier Country: país del proveedor principal.\n",
    "18. Supplier Country Code: código del país del proveedor.\n",
    "19. Total Contract Amount (USD): cantidad total en dólares.\n",
    "20. Borrower Contract Reference Number: número de referencia del contrato."
   ]
  },
  {
   "cell_type": "markdown",
   "metadata": {},
   "source": [
    "**Nombre completo del alumno:**  "
   ]
  },
  {
   "cell_type": "markdown",
   "metadata": {
    "deletable": false,
    "editable": false,
    "nbgrader": {
     "cell_type": "markdown",
     "checksum": "76dc5b331cac3113e9e77522358617bf",
     "grade": false,
     "grade_id": "cell-b4f9c37a2b92d2e6",
     "locked": true,
     "schema_version": 3,
     "solution": false,
     "task": false
    }
   },
   "source": [
    "**INSTRUCCIONES**: en cada celda debes responder a la pregunta formulada, asegurándote de que el resultado queda guardado en la(s) variable(s) que por defecto vienen inicializadas a `None`. No se necesita usar variables intermedias, pero puedes hacerlo siempre que el resultado final del cálculo quede guardado exactamente en la variable que venía inicializada a None (debes reemplazar None por la secuencia de transformaciones necesarias, pero nunca cambiar el nombre de esa variable). **No olvides borrar la línea *raise NotImplementedError()* de cada celda cuando hayas completado la solución de esa celda y quieras probarla**.\n",
    "\n",
    "Después de cada celda evaluable verás una celda con código. Ejecútala (no modifiques su código) y te dirá si tu solución es correcta o no. En caso de ser correcta, se ejecutará correctamente y no mostrará nada, pero si no lo es mostrará un error. Además de esas pruebas, se realizarán algunas más (ocultas) a la hora de puntuar el ejercicio, pero evaluar dicha celda es un indicador bastante fiable acerca de si realmente has implementado la solución correcta o no. Asegúrate de que, al menos, todas las celdas indican que el código es correcto antes de enviar el notebook terminado."
   ]
  },
  {
   "cell_type": "markdown",
   "metadata": {
    "deletable": false,
    "editable": false,
    "nbgrader": {
     "cell_type": "markdown",
     "checksum": "a15e6bdf254d95783822f54de8f97ed8",
     "grade": false,
     "grade_id": "cell-69ec0993eeaff3ac",
     "locked": true,
     "schema_version": 3,
     "solution": false,
     "task": false
    }
   },
   "source": [
    "### Sobre el dataset anterior (Major_Contract_Awards.csv) se pide:"
   ]
  },
  {
   "cell_type": "markdown",
   "metadata": {},
   "source": [
    "**(1 punto)** Ejercicio 1\n",
    "\n",
    "* Leerlo tratando de que Spark infiera el tipo de dato de cada columna, y **cachearlo**. \n",
    "* Puesto que existen columnas que contienen una coma enmedio del valor, en esos casos los valores vienen entre comillas dobles. Spark ya contempla esta posibilidad y puede leerlas adecuadamente **si al leer le indicamos las siguientes opciones adicionales** además de las que ya sueles usar: `.option(\"quote\", \"\\\"\").option(\"escape\", \"\\\"\")`.\n",
    "* Asegúrate de que las **filas que no tienen el formato correcto sean descartadas**, indicando también la opción `mode` con el valor `DROPMALFORMED` como vimos en clase."
   ]
  },
  {
   "cell_type": "code",
   "execution_count": 2,
   "metadata": {
    "deletable": false,
    "nbgrader": {
     "cell_type": "code",
     "checksum": "4a5689cec8976cd801b0d58557d09856",
     "grade": false,
     "grade_id": "read_csv",
     "locked": false,
     "schema_version": 3,
     "solution": true,
     "task": false
    }
   },
   "outputs": [
    {
     "data": {
      "text/plain": [
       "DataFrame[As of Date: string, Fiscal Year: string, Region: string, Borrower Country: string, Borrower Country Code: string, Project ID: string, Project Name: string, Procurement Type: string, Procurement Category: string, Procurement Method: string, Product line: string, Major Sector: string, WB Contract Number: int, Contract Description: string, Contract Signing Date: string, Supplier: string, Supplier Country: string, Supplier Country Code: string, Total Contract Amount (USD): string, Borrower Contract Reference Number: string]"
      ]
     },
     "execution_count": 2,
     "metadata": {},
     "output_type": "execute_result"
    }
   ],
   "source": [
    "# LÍNEA EVALUABLE, NO RENOMBRAR LAS VARIABLES\n",
    "contractsDF = spark.read\\\n",
    "                .format(\"csv\")\\\n",
    "                .option(\"header\", \"true\")\\\n",
    "                .option(\"inferSchema\", \"true\")\\\n",
    "                .option(\"quote\", \"\\\"\").option(\"escape\", \"\\\"\")\\\n",
    "                .option(\"mode\", \"DROPMALFORMED\")\\\n",
    "                .load(\"Major_Contract_Awards.csv\")\n",
    "contractsDF.cache()"
   ]
  },
  {
   "cell_type": "code",
   "execution_count": null,
   "metadata": {
    "deletable": false,
    "editable": false,
    "nbgrader": {
     "cell_type": "code",
     "checksum": "07b97f6ed05070241779df7d74a36535",
     "grade": true,
     "grade_id": "read_csv_test",
     "locked": true,
     "points": 1,
     "schema_version": 3,
     "solution": false,
     "task": false
    }
   },
   "outputs": [],
   "source": [
    "from pyspark.sql.types import DoubleType\n",
    "assert(contractsDF.count() == 148515)"
   ]
  },
  {
   "cell_type": "markdown",
   "metadata": {
    "deletable": false,
    "editable": false,
    "nbgrader": {
     "cell_type": "markdown",
     "checksum": "b1847529747ff95f5b2f47e206383615",
     "grade": false,
     "grade_id": "cell-b90f5b934eda250e",
     "locked": true,
     "schema_version": 3,
     "solution": false,
     "task": false
    }
   },
   "source": [
    "**(1 punto)** Ejercicio 2\n",
    "\n",
    "* La columna **Total Contract Amount (USD)** es en realidad numérica, pero todas las cantidades incluyen el signo `$` por lo que Spark la reconoce como string. Para corregir este comportamiento, vamos a eliminar el `$` de todas las filas utilizando la función `F.regexp_replace(\"Total Contract Amount (USD)\", \"\\$\", \"\")` donde `\"\\$\"` es el string que queremos reemplazar (hay que escaparlo poniendo `\\` delante porque sino el `$` se interpreta como un carácter especial), y siendo el nuevo string el string vacío, `\"\"`. Esta función pertenece al paquete `pyspark.sql.functions`, por lo que ya funciona de manera distribuida, y devuelve como resultado un objeto columna transformado. \n",
    "\n",
    "* Aplica esta función dentro de la función `withColumn` para **reemplazar** la columna `Total Contract Amount (USD)` ya existente por la columna devuelta por `regexp_replace`. La manera de utilizarla es totalmente análoga a la utilización de, por ejemplo, la función `F.when` dentro de `withColumn`. \n",
    "* Aprovecha también para hacer un casting del objeto columna devuelto por regexp_replace, que es una columna de strings, a una columna de enteros: `F.regexp_replace(...).cast(...)`. Almacena el DF resultante en la variable `contractsDFenteros`, **cachéala** y utilízala a partir de este momento para trabajar en las celdas posteriores, salvo que la celda indique lo contrario."
   ]
  },
  {
   "cell_type": "code",
   "execution_count": 3,
   "metadata": {},
   "outputs": [
    {
     "name": "stdout",
     "output_type": "stream",
     "text": [
      "+---------------------------+\n",
      "|Total Contract Amount (USD)|\n",
      "+---------------------------+\n",
      "|                 $176578.47|\n",
      "|                  $38386.63|\n",
      "|                  $76773.25|\n",
      "|                  $92127.90|\n",
      "|                  $10615.20|\n",
      "|                  $95536.79|\n",
      "|                 $144317.85|\n",
      "|                 $115712.54|\n",
      "|                $5329142.50|\n",
      "|                $5144486.61|\n",
      "|                 $257620.49|\n",
      "|                $1214054.72|\n",
      "|                 $155622.19|\n",
      "|                 $881859.10|\n",
      "|                 $104317.13|\n",
      "|                   $8174.18|\n",
      "|                  $14596.75|\n",
      "|                  $12261.27|\n",
      "|                   $8758.05|\n",
      "|                  $14596.73|\n",
      "+---------------------------+\n",
      "only showing top 20 rows\n",
      "\n",
      "root\n",
      " |-- As of Date: string (nullable = true)\n",
      " |-- Fiscal Year: string (nullable = true)\n",
      " |-- Region: string (nullable = true)\n",
      " |-- Borrower Country: string (nullable = true)\n",
      " |-- Borrower Country Code: string (nullable = true)\n",
      " |-- Project ID: string (nullable = true)\n",
      " |-- Project Name: string (nullable = true)\n",
      " |-- Procurement Type: string (nullable = true)\n",
      " |-- Procurement Category: string (nullable = true)\n",
      " |-- Procurement Method: string (nullable = true)\n",
      " |-- Product line: string (nullable = true)\n",
      " |-- Major Sector: string (nullable = true)\n",
      " |-- WB Contract Number: integer (nullable = true)\n",
      " |-- Contract Description: string (nullable = true)\n",
      " |-- Contract Signing Date: string (nullable = true)\n",
      " |-- Supplier: string (nullable = true)\n",
      " |-- Supplier Country: string (nullable = true)\n",
      " |-- Supplier Country Code: string (nullable = true)\n",
      " |-- Total Contract Amount (USD): string (nullable = true)\n",
      " |-- Borrower Contract Reference Number: string (nullable = true)\n",
      "\n"
     ]
    }
   ],
   "source": [
    "contractsDF.select(\"Total Contract Amount (USD)\").show()\n",
    "contractsDF.printSchema()"
   ]
  },
  {
   "cell_type": "code",
   "execution_count": 4,
   "metadata": {
    "deletable": false,
    "nbgrader": {
     "cell_type": "code",
     "checksum": "977137be60e9665ab927a79808d4543e",
     "grade": false,
     "grade_id": "convert_dollars",
     "locked": false,
     "schema_version": 3,
     "solution": true,
     "task": false
    }
   },
   "outputs": [
    {
     "name": "stdout",
     "output_type": "stream",
     "text": [
      "+---------------------------+\n",
      "|Total Contract Amount (USD)|\n",
      "+---------------------------+\n",
      "|                     176578|\n",
      "|                      38386|\n",
      "|                      76773|\n",
      "|                      92127|\n",
      "|                      10615|\n",
      "|                      95536|\n",
      "|                     144317|\n",
      "|                     115712|\n",
      "|                    5329142|\n",
      "|                    5144486|\n",
      "|                     257620|\n",
      "|                    1214054|\n",
      "|                     155622|\n",
      "|                     881859|\n",
      "|                     104317|\n",
      "|                       8174|\n",
      "|                      14596|\n",
      "|                      12261|\n",
      "|                       8758|\n",
      "|                      14596|\n",
      "+---------------------------+\n",
      "only showing top 20 rows\n",
      "\n",
      "root\n",
      " |-- As of Date: string (nullable = true)\n",
      " |-- Fiscal Year: string (nullable = true)\n",
      " |-- Region: string (nullable = true)\n",
      " |-- Borrower Country: string (nullable = true)\n",
      " |-- Borrower Country Code: string (nullable = true)\n",
      " |-- Project ID: string (nullable = true)\n",
      " |-- Project Name: string (nullable = true)\n",
      " |-- Procurement Type: string (nullable = true)\n",
      " |-- Procurement Category: string (nullable = true)\n",
      " |-- Procurement Method: string (nullable = true)\n",
      " |-- Product line: string (nullable = true)\n",
      " |-- Major Sector: string (nullable = true)\n",
      " |-- WB Contract Number: integer (nullable = true)\n",
      " |-- Contract Description: string (nullable = true)\n",
      " |-- Contract Signing Date: string (nullable = true)\n",
      " |-- Supplier: string (nullable = true)\n",
      " |-- Supplier Country: string (nullable = true)\n",
      " |-- Supplier Country Code: string (nullable = true)\n",
      " |-- Borrower Contract Reference Number: string (nullable = true)\n",
      " |-- Total Contract Amount (USD): integer (nullable = true)\n",
      "\n"
     ]
    }
   ],
   "source": [
    "from pyspark.sql.functions import *\n",
    "from pyspark.sql import functions as F\n",
    "contractsDFenteros = contractsDF.withColumn(\"ColumnaAux\", regexp_replace(\"Total Contract Amount (USD)\", \"\\$\", \"\").cast(\"int\"))\\\n",
    "                                .drop(\"Total Contract Amount (USD)\")\\\n",
    "                                .withColumnRenamed(\"ColumnaAux\", \"Total Contract Amount (USD)\")\n",
    "contractsDFenteros.cache()\n",
    "contractsDFenteros.select(\"Total Contract Amount (USD)\").show()\n",
    "contractsDFenteros.printSchema()"
   ]
  },
  {
   "cell_type": "code",
   "execution_count": null,
   "metadata": {
    "deletable": false,
    "editable": false,
    "nbgrader": {
     "cell_type": "code",
     "checksum": "9cc3edd221bc783bd17056844aa009ec",
     "grade": true,
     "grade_id": "convert_dollars_tests",
     "locked": true,
     "points": 1,
     "schema_version": 3,
     "solution": false,
     "task": false
    }
   },
   "outputs": [],
   "source": [
    "from pyspark.sql.types import IntegerType\n",
    "assert(len(contractsDFenteros.columns) == len(contractsDF.columns))\n",
    "assert(contractsDFenteros.count() == contractsDF.count())\n",
    "assert(contractsDFenteros.schema[\"Total Contract Amount (USD)\"].dataType == IntegerType())"
   ]
  },
  {
   "cell_type": "markdown",
   "metadata": {
    "deletable": false,
    "editable": false,
    "nbgrader": {
     "cell_type": "markdown",
     "checksum": "2b79d2fd327fc5f60efc2db6180ce646",
     "grade": false,
     "grade_id": "cell-fc88821f19453a51",
     "locked": true,
     "schema_version": 3,
     "solution": false,
     "task": false
    }
   },
   "source": [
    "**(1 punto)** Ejercicio 3\n",
    "\n",
    "* Partiendo de `contractsDFenteros`, crear un nuevo DF donde la columna \"Region\" sea reemplazada por otra con mismo nombre, de tipo string en la que todos los valores de la columna original (LATIN AMERICA AND CARIBBEAN, SOUTH ASIA, OTHER ... etc) estén traducidos al español. Puedes elegir la traducción que más te guste, pero debe mantenerse el mismo número de categorías que ya había, que eran siete.\n",
    "* El evaluador oculto comprobará que sigue habiendo el mismo número de ejemplos en cada categoría con el nuevo nombre, y que las categorías efectivamente se han traducido (ninguna se debe llamar igual que antes). Puedes cambiar AFRICA por África."
   ]
  },
  {
   "cell_type": "code",
   "execution_count": null,
   "metadata": {},
   "outputs": [],
   "source": [
    "# import necessary libraries\n",
    "import pandas as pd\n",
    "from translate import Translator\n",
    "\n",
    "def traductor(text):\n",
    "    return translator.translate(text)\n",
    "# load data into a pandas data frame\n",
    "df_es = pd.read_csv('Major_Contract_Awards.csv',sep=',',encoding='utf-8')  \n",
    "translator= Translator(to_lang=\"es\")\n",
    "df_es[\"Region\"] = df_es[\"Region\"].apply(traductor)\n"
   ]
  },
  {
   "cell_type": "code",
   "execution_count": null,
   "metadata": {
    "deletable": false,
    "nbgrader": {
     "cell_type": "code",
     "checksum": "c9f4f02d9aedb81e093c55323eff9e3f",
     "grade": false,
     "grade_id": "renombrar_region",
     "locked": false,
     "schema_version": 3,
     "solution": true,
     "task": false
    }
   },
   "outputs": [],
   "source": [
    "# LÍNEA EVALUABLE, NO RENOMBRAR VARIABLES\n",
    "from googletrans import Translator\n",
    "from pyspark.sql import functions as F\n",
    "translator = Translator()\n",
    "contractsDFenteros.select(\"Region\").distinct().show(7, False)\n",
    "contractsTranslatedDF = contractsDFenteros.withColumn(\"columnAux\", when(col(\"Region\") == \"LATIN AMERICA AND CARIBBEAN\", translator.translate(\"LATIN AMERICA AND CARIBBEAN\",dest='es'))\\\n",
    "                                                                 .when(col(\"Region\") == \"SOUTH ASIA\", translator.translate(\"SOUTH ASIA\",dest='es'))\\\n",
    "                                                                 .when(col(\"Region\") == \"OTHER\", translator.translate(\"OTHER\",dest='es'))\\\n",
    "                                                                 .when(col(\"Region\") == \"AFRICA\", translator.translate(\"AFRICA\",dest='es'))\\\n",
    "                                                                 .when(col(\"Region\") == \"MIDDLE EAST AND NORTH AFRICA\", translator.translate(\"MIDDLE EAST AND NORTH AFRICA\",dest='es'))\\\n",
    "                                                                 .when(col(\"Region\") == \"EAST ASIA AND PACIFIC\", translator.translate(\"EAST ASIA AND PACIFIC\",dest='es'))\\\n",
    "                                                                 .when(col(\"Region\") == \"EUROPE AND CENTRAL ASIA\", translator.translate(\"EUROPE AND CENTRAL ASIA\",dest='es')))\\\n",
    "                                        .drop(\"Region\")\\\n",
    "                                        .withColumnRenamed(\"columnAux\",\"Region\")\n",
    "contractsTranslatedDF.select(\"Region\").distinct().show(7, False)"
   ]
  },
  {
   "cell_type": "code",
   "execution_count": 6,
   "metadata": {},
   "outputs": [
    {
     "name": "stdout",
     "output_type": "stream",
     "text": [
      "+----------------------------+\n",
      "|Region                      |\n",
      "+----------------------------+\n",
      "|LATIN AMERICA AND CARIBBEAN |\n",
      "|SOUTH ASIA                  |\n",
      "|OTHER                       |\n",
      "|AFRICA                      |\n",
      "|MIDDLE EAST AND NORTH AFRICA|\n",
      "|EAST ASIA AND PACIFIC       |\n",
      "|EUROPE AND CENTRAL ASIA     |\n",
      "+----------------------------+\n",
      "\n",
      "+--------------------------------+\n",
      "|Region                          |\n",
      "+--------------------------------+\n",
      "|ORIENTE MEDIO Y ÁFRICA DEL NORTE|\n",
      "|ASIA DEL SUR                    |\n",
      "|OTROS                           |\n",
      "|EUROPA Y ASIA CENTRAL           |\n",
      "|AMÉRICA LATINA Y CARIBE         |\n",
      "|ÁFRICA                          |\n",
      "|ASIA ORIENTAL Y EL PACÍFICO     |\n",
      "+--------------------------------+\n",
      "\n"
     ]
    }
   ],
   "source": [
    "# LÍNEA EVALUABLE, NO RENOMBRAR VARIABLES\n",
    "contractsDFenteros.select(\"Region\").distinct().show(7, False)\n",
    "contractsTranslatedDF = contractsDFenteros.withColumn(\"columnAux\", when(col(\"Region\") == \"LATIN AMERICA AND CARIBBEAN\", \"AMÉRICA LATINA Y CARIBE\")\\\n",
    "                                                                 .when(col(\"Region\") == \"SOUTH ASIA\", \"ASIA DEL SUR\")\\\n",
    "                                                                 .when(col(\"Region\") == \"OTHER\", \"OTROS\")\\\n",
    "                                                                 .when(col(\"Region\") == \"AFRICA\", \"ÁFRICA\")\\\n",
    "                                                                 .when(col(\"Region\") == \"MIDDLE EAST AND NORTH AFRICA\", \"ORIENTE MEDIO Y ÁFRICA DEL NORTE\")\\\n",
    "                                                                 .when(col(\"Region\") == \"EAST ASIA AND PACIFIC\", \"ASIA ORIENTAL Y EL PACÍFICO\")\\\n",
    "                                                                 .when(col(\"Region\") == \"EUROPE AND CENTRAL ASIA\", \"EUROPA Y ASIA CENTRAL\"))\\\n",
    "                                        .drop(\"Region\")\\\n",
    "                                        .withColumnRenamed(\"columnAux\",\"Region\")\n",
    "contractsTranslatedDF.select(\"Region\").distinct().show(7, False)"
   ]
  },
  {
   "cell_type": "code",
   "execution_count": null,
   "metadata": {},
   "outputs": [],
   "source": [
    "from google_trans_new import google_translator\n",
    "\n",
    "translator = google_translator()\n",
    "translator.translate(\"africa\")"
   ]
  },
  {
   "cell_type": "code",
   "execution_count": 21,
   "metadata": {},
   "outputs": [
    {
     "ename": "AttributeError",
     "evalue": "'NoneType' object has no attribute 'group'",
     "output_type": "error",
     "traceback": [
      "\u001b[1;31m---------------------------------------------------------------------------\u001b[0m",
      "\u001b[1;31mAttributeError\u001b[0m                            Traceback (most recent call last)",
      "\u001b[1;32m<ipython-input-21-33fa0052cf5f>\u001b[0m in \u001b[0;36m<module>\u001b[1;34m\u001b[0m\n\u001b[0;32m      1\u001b[0m \u001b[1;32mfrom\u001b[0m \u001b[0mgoogletrans\u001b[0m \u001b[1;32mimport\u001b[0m \u001b[0mTranslator\u001b[0m\u001b[1;33m\u001b[0m\u001b[1;33m\u001b[0m\u001b[0m\n\u001b[0;32m      2\u001b[0m \u001b[0mtranslator\u001b[0m \u001b[1;33m=\u001b[0m \u001b[0mTranslator\u001b[0m\u001b[1;33m(\u001b[0m\u001b[1;33m)\u001b[0m\u001b[1;33m\u001b[0m\u001b[1;33m\u001b[0m\u001b[0m\n\u001b[1;32m----> 3\u001b[1;33m \u001b[0mtranslator\u001b[0m\u001b[1;33m.\u001b[0m\u001b[0mtranslate\u001b[0m\u001b[1;33m(\u001b[0m\u001b[1;34m'Hello'\u001b[0m\u001b[1;33m,\u001b[0m \u001b[0mdest\u001b[0m\u001b[1;33m=\u001b[0m\u001b[1;34m'es'\u001b[0m\u001b[1;33m)\u001b[0m\u001b[1;33m\u001b[0m\u001b[1;33m\u001b[0m\u001b[0m\n\u001b[0m",
      "\u001b[1;32m~\\Anaconda3\\lib\\site-packages\\googletrans\\client.py\u001b[0m in \u001b[0;36mtranslate\u001b[1;34m(self, text, dest, src, **kwargs)\u001b[0m\n\u001b[0;32m    180\u001b[0m \u001b[1;33m\u001b[0m\u001b[0m\n\u001b[0;32m    181\u001b[0m         \u001b[0morigin\u001b[0m \u001b[1;33m=\u001b[0m \u001b[0mtext\u001b[0m\u001b[1;33m\u001b[0m\u001b[1;33m\u001b[0m\u001b[0m\n\u001b[1;32m--> 182\u001b[1;33m         \u001b[0mdata\u001b[0m \u001b[1;33m=\u001b[0m \u001b[0mself\u001b[0m\u001b[1;33m.\u001b[0m\u001b[0m_translate\u001b[0m\u001b[1;33m(\u001b[0m\u001b[0mtext\u001b[0m\u001b[1;33m,\u001b[0m \u001b[0mdest\u001b[0m\u001b[1;33m,\u001b[0m \u001b[0msrc\u001b[0m\u001b[1;33m,\u001b[0m \u001b[0mkwargs\u001b[0m\u001b[1;33m)\u001b[0m\u001b[1;33m\u001b[0m\u001b[1;33m\u001b[0m\u001b[0m\n\u001b[0m\u001b[0;32m    183\u001b[0m \u001b[1;33m\u001b[0m\u001b[0m\n\u001b[0;32m    184\u001b[0m         \u001b[1;31m# this code will be updated when the format is changed.\u001b[0m\u001b[1;33m\u001b[0m\u001b[1;33m\u001b[0m\u001b[1;33m\u001b[0m\u001b[0m\n",
      "\u001b[1;32m~\\Anaconda3\\lib\\site-packages\\googletrans\\client.py\u001b[0m in \u001b[0;36m_translate\u001b[1;34m(self, text, dest, src, override)\u001b[0m\n\u001b[0;32m     76\u001b[0m \u001b[1;33m\u001b[0m\u001b[0m\n\u001b[0;32m     77\u001b[0m     \u001b[1;32mdef\u001b[0m \u001b[0m_translate\u001b[0m\u001b[1;33m(\u001b[0m\u001b[0mself\u001b[0m\u001b[1;33m,\u001b[0m \u001b[0mtext\u001b[0m\u001b[1;33m,\u001b[0m \u001b[0mdest\u001b[0m\u001b[1;33m,\u001b[0m \u001b[0msrc\u001b[0m\u001b[1;33m,\u001b[0m \u001b[0moverride\u001b[0m\u001b[1;33m)\u001b[0m\u001b[1;33m:\u001b[0m\u001b[1;33m\u001b[0m\u001b[1;33m\u001b[0m\u001b[0m\n\u001b[1;32m---> 78\u001b[1;33m         \u001b[0mtoken\u001b[0m \u001b[1;33m=\u001b[0m \u001b[0mself\u001b[0m\u001b[1;33m.\u001b[0m\u001b[0mtoken_acquirer\u001b[0m\u001b[1;33m.\u001b[0m\u001b[0mdo\u001b[0m\u001b[1;33m(\u001b[0m\u001b[0mtext\u001b[0m\u001b[1;33m)\u001b[0m\u001b[1;33m\u001b[0m\u001b[1;33m\u001b[0m\u001b[0m\n\u001b[0m\u001b[0;32m     79\u001b[0m         params = utils.build_params(query=text, src=src, dest=dest,\n\u001b[0;32m     80\u001b[0m                                     token=token, override=override)\n",
      "\u001b[1;32m~\\Anaconda3\\lib\\site-packages\\googletrans\\gtoken.py\u001b[0m in \u001b[0;36mdo\u001b[1;34m(self, text)\u001b[0m\n\u001b[0;32m    192\u001b[0m \u001b[1;33m\u001b[0m\u001b[0m\n\u001b[0;32m    193\u001b[0m     \u001b[1;32mdef\u001b[0m \u001b[0mdo\u001b[0m\u001b[1;33m(\u001b[0m\u001b[0mself\u001b[0m\u001b[1;33m,\u001b[0m \u001b[0mtext\u001b[0m\u001b[1;33m)\u001b[0m\u001b[1;33m:\u001b[0m\u001b[1;33m\u001b[0m\u001b[1;33m\u001b[0m\u001b[0m\n\u001b[1;32m--> 194\u001b[1;33m         \u001b[0mself\u001b[0m\u001b[1;33m.\u001b[0m\u001b[0m_update\u001b[0m\u001b[1;33m(\u001b[0m\u001b[1;33m)\u001b[0m\u001b[1;33m\u001b[0m\u001b[1;33m\u001b[0m\u001b[0m\n\u001b[0m\u001b[0;32m    195\u001b[0m         \u001b[0mtk\u001b[0m \u001b[1;33m=\u001b[0m \u001b[0mself\u001b[0m\u001b[1;33m.\u001b[0m\u001b[0macquire\u001b[0m\u001b[1;33m(\u001b[0m\u001b[0mtext\u001b[0m\u001b[1;33m)\u001b[0m\u001b[1;33m\u001b[0m\u001b[1;33m\u001b[0m\u001b[0m\n\u001b[0;32m    196\u001b[0m         \u001b[1;32mreturn\u001b[0m \u001b[0mtk\u001b[0m\u001b[1;33m\u001b[0m\u001b[1;33m\u001b[0m\u001b[0m\n",
      "\u001b[1;32m~\\Anaconda3\\lib\\site-packages\\googletrans\\gtoken.py\u001b[0m in \u001b[0;36m_update\u001b[1;34m(self)\u001b[0m\n\u001b[0;32m     60\u001b[0m \u001b[1;33m\u001b[0m\u001b[0m\n\u001b[0;32m     61\u001b[0m         \u001b[1;31m# this will be the same as python code after stripping out a reserved word 'var'\u001b[0m\u001b[1;33m\u001b[0m\u001b[1;33m\u001b[0m\u001b[1;33m\u001b[0m\u001b[0m\n\u001b[1;32m---> 62\u001b[1;33m         \u001b[0mcode\u001b[0m \u001b[1;33m=\u001b[0m \u001b[0mself\u001b[0m\u001b[1;33m.\u001b[0m\u001b[0mRE_TKK\u001b[0m\u001b[1;33m.\u001b[0m\u001b[0msearch\u001b[0m\u001b[1;33m(\u001b[0m\u001b[0mr\u001b[0m\u001b[1;33m.\u001b[0m\u001b[0mtext\u001b[0m\u001b[1;33m)\u001b[0m\u001b[1;33m.\u001b[0m\u001b[0mgroup\u001b[0m\u001b[1;33m(\u001b[0m\u001b[1;36m1\u001b[0m\u001b[1;33m)\u001b[0m\u001b[1;33m.\u001b[0m\u001b[0mreplace\u001b[0m\u001b[1;33m(\u001b[0m\u001b[1;34m'var '\u001b[0m\u001b[1;33m,\u001b[0m \u001b[1;34m''\u001b[0m\u001b[1;33m)\u001b[0m\u001b[1;33m\u001b[0m\u001b[1;33m\u001b[0m\u001b[0m\n\u001b[0m\u001b[0;32m     63\u001b[0m         \u001b[1;31m# unescape special ascii characters such like a \\x3d(=)\u001b[0m\u001b[1;33m\u001b[0m\u001b[1;33m\u001b[0m\u001b[1;33m\u001b[0m\u001b[0m\n\u001b[0;32m     64\u001b[0m         \u001b[0mcode\u001b[0m \u001b[1;33m=\u001b[0m \u001b[0mcode\u001b[0m\u001b[1;33m.\u001b[0m\u001b[0mencode\u001b[0m\u001b[1;33m(\u001b[0m\u001b[1;33m)\u001b[0m\u001b[1;33m.\u001b[0m\u001b[0mdecode\u001b[0m\u001b[1;33m(\u001b[0m\u001b[1;34m'unicode-escape'\u001b[0m\u001b[1;33m)\u001b[0m\u001b[1;33m\u001b[0m\u001b[1;33m\u001b[0m\u001b[0m\n",
      "\u001b[1;31mAttributeError\u001b[0m: 'NoneType' object has no attribute 'group'"
     ]
    }
   ],
   "source": [
    "from googletrans import Translator\n",
    "translator = Translator()\n",
    "translator.translate('Hello', dest='es')"
   ]
  },
  {
   "cell_type": "code",
   "execution_count": null,
   "metadata": {
    "deletable": false,
    "editable": false,
    "nbgrader": {
     "cell_type": "code",
     "checksum": "c131f27e349e2368bb5e76ec548af6c9",
     "grade": true,
     "grade_id": "renombrar_region_test",
     "locked": true,
     "points": 1,
     "schema_version": 3,
     "solution": false,
     "task": false
    }
   },
   "outputs": [],
   "source": [
    "assert(contractsTranslatedDF.select(\"Region\").distinct().count() == 7)\n",
    "g1 = contractsDF.groupBy(\"Region\").count().withColumnRenamed(\"Region\", \"R1\")\n",
    "g2 = contractsTranslatedDF.groupBy(\"Region\").agg(F.count(\"*\").alias(\"c2\"))\n",
    "joinedDF = g1.join(g2, F.col(\"count\") == g2.c2)\n",
    "assert(joinedDF.count() == 7)\n",
    "assert(joinedDF.where(F.col(\"count\") == F.col(\"c2\")).count() == 7)\n",
    "assert(joinedDF.where(F.col(\"R1\") == F.col(\"Region\")).count() == 0)"
   ]
  },
  {
   "cell_type": "markdown",
   "metadata": {
    "deletable": false,
    "editable": false,
    "nbgrader": {
     "cell_type": "markdown",
     "checksum": "6d07e1344e1ccd02a8648e3756181c6f",
     "grade": false,
     "grade_id": "cell-a71a6b17b1e0d613",
     "locked": true,
     "schema_version": 3,
     "solution": false,
     "task": false
    }
   },
   "source": [
    "**(1 punto)** Ejercicio 4\n",
    "\n",
    "* Partiendo de `contractsTranslatedDF`, crear un nuevo DataFrame de **una sola fila** que contenga, **por este orden de columnas**, el **número** de categorías distintas existentes en cada una de las columnas `Procurement Type`, `Procurement Category` y `Procurement Method`. Pista: crear cada una de estas tres columnas al vuelo con `select`(). Renombrar cada columna de conteo para que se llame igual que la propia columna que estamos contando."
   ]
  },
  {
   "cell_type": "code",
   "execution_count": 7,
   "metadata": {
    "deletable": false,
    "nbgrader": {
     "cell_type": "code",
     "checksum": "760ca31245afc350de47c7cd98aa6950",
     "grade": false,
     "grade_id": "numero_categorias",
     "locked": false,
     "schema_version": 3,
     "solution": true,
     "task": false
    }
   },
   "outputs": [
    {
     "name": "stdout",
     "output_type": "stream",
     "text": [
      "+----------------+--------------------+------------------+-------------------------------------------+\n",
      "|Procurement Type|Procurement Category|Procurement Method|count(DISTINCT Total Contract Amount (USD))|\n",
      "+----------------+--------------------+------------------+-------------------------------------------+\n",
      "|              60|                   5|                18|                                     103231|\n",
      "+----------------+--------------------+------------------+-------------------------------------------+\n",
      "\n"
     ]
    }
   ],
   "source": [
    "# LÍNEA EVALUABLE, NO RENOMBRAR VARIABLES\n",
    "numeroCategoriasDF = contractsTranslatedDF.select(countDistinct(\"Procurement Type\").alias(\"Procurement Type\"),\n",
    "                                         countDistinct(\"Procurement Category\").alias(\"Procurement Category\"),\n",
    "                                        countDistinct(\"Procurement Method\").alias(\"Procurement Method\"),\n",
    "                                        countDistinct(\"Total Contract Amount (USD)\"))\n",
    "numeroCategoriasDF.show()"
   ]
  },
  {
   "cell_type": "code",
   "execution_count": 19,
   "metadata": {
    "deletable": false,
    "editable": false,
    "nbgrader": {
     "cell_type": "code",
     "checksum": "19e310dcb44cacbd5cb8f1e25eb687e5",
     "grade": true,
     "grade_id": "numero_categorias_test",
     "locked": true,
     "points": 1,
     "schema_version": 3,
     "solution": false,
     "task": false
    }
   },
   "outputs": [],
   "source": [
    "assert(len(numeroCategoriasDF.columns) == 3)\n",
    "assert(numeroCategoriasDF.count() == 1)\n",
    "categorias = numeroCategoriasDF.collect()[0]\n",
    "assert(categorias[\"Procurement Type\"] == 60)\n",
    "assert(categorias[\"Procurement Category\"] == 5)\n",
    "assert(categorias[\"Procurement Method\"] == 18)"
   ]
  },
  {
   "cell_type": "markdown",
   "metadata": {
    "deletable": false,
    "editable": false,
    "nbgrader": {
     "cell_type": "markdown",
     "checksum": "16cbef2aaa4c24857fa6d20d30300438",
     "grade": false,
     "grade_id": "cell-c5ec05706eccd480",
     "locked": true,
     "schema_version": 3,
     "solution": false,
     "task": false
    }
   },
   "source": [
    "**(3 puntos)** Ejercicio 5\n",
    "\n",
    "* Partiendo de `contractsDFenteros` definido anteriormente, crear un **pipeline** formado por dos etapas: un indexador de la columna categórica `Procurement Method` y un discretizador (bucketizer) de la columna numérica que habíamos convertido a entero al principio, `Total Contract Amount (USD)`, de manera que sea convertida en una columna de números reales empezando en 0 y cuya parte decimal siempre sea 0.\n",
    "* Para el indexador, si una vez entrenado le llegasen etiquetas que no ha visto antes, deberá eliminar esas filas (recordar la opción adecuada que vimos en clase). La columna de salida debe llamarse `ProcurementIndexed`.\n",
    "* Para el discretizador, utilizar como puntos de corte los siguientes: (-Inf, 0, 100000, 200000, 300000, 400000, Inf). La columna de salida debe llamarse `TotalDiscretized`.\n",
    "* Una vez creados ambos, componerlos para crear un Pipeline, y aplicarlo a `contractsDFenteros` para entrenar y a continuación también para predecir (es decir, transformarlo). El DF resultante de la transformación debe almacenarse en la variable `contractsTransformedDF`"
   ]
  },
  {
   "cell_type": "code",
   "execution_count": 16,
   "metadata": {
    "deletable": false,
    "nbgrader": {
     "cell_type": "code",
     "checksum": "0eb6a2f2b62f513e46c8795890b3b799",
     "grade": false,
     "grade_id": "pipeline",
     "locked": false,
     "schema_version": 3,
     "solution": true,
     "task": false
    }
   },
   "outputs": [],
   "source": [
    "from pyspark.ml.feature import StringIndexer\n",
    "from pyspark.ml.feature import Bucketizer\n",
    "from pyspark.ml import Pipeline\n",
    "\n",
    "splits = [-float(\"inf\"), 0, 100000, 200000, 300000, 400000, float(\"inf\")]\n",
    "bucketizer = Bucketizer(splits=splits, inputCol=\"Total Contract Amount (USD)\", outputCol=\"TotalDiscretized\")\n",
    "#bucketized = accidentesBucketizedDF = bucketizer.transform(contractsDFenteros)\n",
    "indexer = StringIndexer(inputCol=\"Procurement Method\", outputCol=\"ProcurementIndexed\").setHandleInvalid(\"skip\")\n",
    "#indexed = indexer.fit(contractsDFenteros).transform(contractsDFenteros)\n",
    "#indexed.select(\"Procurement Method\", \"ProcurementIndexed\").show()\n",
    "pipeline = Pipeline(stages=[indexer, bucketizer])\n",
    "model = pipeline.fit(contractsDFenteros)\n",
    "contractsTransformedDF = model.transform(contractsDFenteros)"
   ]
  },
  {
   "cell_type": "code",
   "execution_count": 17,
   "metadata": {
    "deletable": false,
    "editable": false,
    "nbgrader": {
     "cell_type": "code",
     "checksum": "c4436e144c2f5d1bd1bd657fe2cf1af6",
     "grade": true,
     "grade_id": "pipeline_test",
     "locked": true,
     "points": 3,
     "schema_version": 3,
     "solution": false,
     "task": false
    }
   },
   "outputs": [],
   "source": [
    "from pyspark.sql import functions as F\n",
    "assert(\"TotalDiscretized\" in contractsTransformedDF.columns)\n",
    "assert(\"ProcurementIndexed\" in contractsTransformedDF.columns)\n",
    "assert(len(contractsTransformedDF.columns) == len(contractsDFenteros.columns) + 2)\n",
    "assert(bucketizer in pipeline.getStages())\n",
    "assert(indexer in pipeline.getStages())\n",
    "from pyspark.sql.types import DoubleType\n",
    "assert(contractsTransformedDF.schema[\"TotalDiscretized\"].dataType == DoubleType())\n",
    "assert(contractsTransformedDF.schema[\"ProcurementIndexed\"].dataType == DoubleType())\n",
    "assert(bucketizer.getSplits() == [-float(\"Inf\"), 0, 100000, 200000, 300000, 400000, float(\"Inf\")])\n",
    "assert(bucketizer.getInputCol() == \"Total Contract Amount (USD)\")\n",
    "assert(bucketizer.getOutputCol() == \"TotalDiscretized\")\n",
    "assert(indexer.getInputCol() == \"Procurement Method\")\n",
    "assert(indexer.getOutputCol() == \"ProcurementIndexed\")\n",
    "assert(indexer.getHandleInvalid() == \"skip\")"
   ]
  },
  {
   "cell_type": "markdown",
   "metadata": {
    "deletable": false,
    "editable": false,
    "nbgrader": {
     "cell_type": "markdown",
     "checksum": "d9e849f75c135b49fbdae08ee5966518",
     "grade": false,
     "grade_id": "cell-9ebe35c4b4325269",
     "locked": true,
     "schema_version": 3,
     "solution": false,
     "task": false
    }
   },
   "source": [
    "**(3 puntos)** Ejercicio 6\n",
    "\n",
    "* Añadir una nueva columna al DF `contractsDFenteros` llamada `Total Pais` (sin tilde) que contenga en cada fila el **importe total prestado al país (Borrower Country Code) de esa fila (es decir, el total del país al que corresponde cada proyecto)**. El nuevo DF debe tener el mismo número de filas y una columna más. **NO DEBE UTILIZARSE JOIN sino funciones de ventana** con una ventana por país, que debe almacenarse en la variable `paisWindow`. El resultado sería equivalente a una agrupación por países y agregación de suma de importe, y después juntar cada total del país a cada celda (como si fuese un join por el país), pero **todo esto debe hacerse exclusivamente con ventanas y sin usar JOIN**.\n",
    "* Una vez hecho esto, añade una segunda columna nueva llamada `Porcentaje Pais` (sin tilde) que contenga el **porcentaje** que ha supuesto cada proyecto sobre el total destinado a ese país (dicho total ha sido calculado en el punto anterior). El porcentaje no debe ir en tanto por 1 sino en tanto por 100.\n",
    "* Añadir una tercera columna llamada `Media Pais` (sin tilde) que contenga en cada fila **el importe medio destinado a los proyectos del país al que corresponde el proyecto**. Debe utilizarse la misma ventana definida en el primer apartado, cambiando solo la función de agregación aplicada.\n",
    "* Añadir una cuarta columna llamada `Diff Porcentaje` que sea la diferencia, medida en porcentaje, entre el importe destinado al proyecto y el importe medio de un proyecto en ese país. Debe calcularse operando con las columnas existentes, restando a la columna `Total Contract Amount (USD)` el importe de `Media Pais`, dividiendo entre esta última y multiplicando por 100, **sin utilizar** en ningún caso la función `when`. Una diferencia positiva indicará que ese proyecto ha recibido más fondos que la media de los proyectos de ese país, y una diferencia negativa indicará lo contrario.\n",
    "* El DF resultante debe almacenarse en una variable `porcentajesDF` y debe tener el mismo número de filas que `contractsDFenteros`."
   ]
  },
  {
   "cell_type": "code",
   "execution_count": 29,
   "metadata": {},
   "outputs": [
    {
     "name": "stdout",
     "output_type": "stream",
     "text": [
      "root\n",
      " |-- As of Date: string (nullable = true)\n",
      " |-- Fiscal Year: string (nullable = true)\n",
      " |-- Region: string (nullable = true)\n",
      " |-- Borrower Country: string (nullable = true)\n",
      " |-- Borrower Country Code: string (nullable = true)\n",
      " |-- Project ID: string (nullable = true)\n",
      " |-- Project Name: string (nullable = true)\n",
      " |-- Procurement Type: string (nullable = true)\n",
      " |-- Procurement Category: string (nullable = true)\n",
      " |-- Procurement Method: string (nullable = true)\n",
      " |-- Product line: string (nullable = true)\n",
      " |-- Major Sector: string (nullable = true)\n",
      " |-- WB Contract Number: integer (nullable = true)\n",
      " |-- Contract Description: string (nullable = true)\n",
      " |-- Contract Signing Date: string (nullable = true)\n",
      " |-- Supplier: string (nullable = true)\n",
      " |-- Supplier Country: string (nullable = true)\n",
      " |-- Supplier Country Code: string (nullable = true)\n",
      " |-- Borrower Contract Reference Number: string (nullable = true)\n",
      " |-- Total Contract Amount (USD): integer (nullable = true)\n",
      "\n",
      "+----------+--------------------+---------------------------+\n",
      "|Project ID|    Borrower Country|Total Contract Amount (USD)|\n",
      "+----------+--------------------+---------------------------+\n",
      "|   P041723|                Mali|                     176578|\n",
      "|   P041723|                Mali|                      38386|\n",
      "|   P041723|                Mali|                      76773|\n",
      "|   P041723|                Mali|                      92127|\n",
      "|   P040528|           Indonesia|                      10615|\n",
      "|   P040528|           Indonesia|                      95536|\n",
      "|   P072647|         Timor-Leste|                     144317|\n",
      "|   P072647|         Timor-Leste|                     115712|\n",
      "|   P071435|          Bangladesh|                    5329142|\n",
      "|   P071435|          Bangladesh|                    5144486|\n",
      "|   P057570|              Bhutan|                     257620|\n",
      "|   P035158|               India|                    1214054|\n",
      "|   P050668|               India|                     155622|\n",
      "|   P050668|               India|                     881859|\n",
      "|   P074905|             Albania|                     104317|\n",
      "|   P070995|Bosnia and Herzeg...|                       8174|\n",
      "|   P070995|Bosnia and Herzeg...|                      14596|\n",
      "|   P070995|Bosnia and Herzeg...|                      12261|\n",
      "|   P070995|Bosnia and Herzeg...|                       8758|\n",
      "|   P070995|Bosnia and Herzeg...|                      14596|\n",
      "+----------+--------------------+---------------------------+\n",
      "only showing top 20 rows\n",
      "\n"
     ]
    }
   ],
   "source": [
    "contractsDFenteros.printSchema()\n",
    "contractsDFenteros.select(\"Project ID\",\"Borrower Country\", \"Total Contract Amount (USD)\").show()"
   ]
  },
  {
   "cell_type": "raw",
   "metadata": {},
   "source": []
  },
  {
   "cell_type": "code",
   "execution_count": 37,
   "metadata": {
    "deletable": false,
    "nbgrader": {
     "cell_type": "code",
     "checksum": "6b66c6fbed599ccb686931d3b809cbe1",
     "grade": false,
     "grade_id": "window",
     "locked": false,
     "schema_version": 3,
     "solution": true,
     "task": false
    }
   },
   "outputs": [
    {
     "name": "stdout",
     "output_type": "stream",
     "text": [
      "+----------+----------------+---------------------------+----------+-------------------+----------------+-------------------+\n",
      "|Project ID|Borrower Country|Total Contract Amount (USD)|Total Pais|    Porcentaje Pais|      Media Pais|    Diff Porcentaje|\n",
      "+----------+----------------+---------------------------+----------+-------------------+----------------+-------------------+\n",
      "|   P064921|         Algeria|                     213810|  70485209|0.30334023695666423|597332.279661017| -64.20585203911364|\n",
      "|   P070308|         Algeria|                     385757|  70485209| 0.5472878714171082|597332.279661017|-35.420031172781236|\n",
      "|   P004960|         Algeria|                     100571|  70485209|0.14268383598039697|597332.279661017| -83.16330735431316|\n",
      "|   P004960|         Algeria|                     673056|  70485209| 0.9548896989154136|597332.279661017| 12.676984472018793|\n",
      "|   P072458|         Algeria|                     820094|  70485209| 1.1634980042408614|597332.279661017| 37.292764500421626|\n",
      "|   P067567|         Algeria|                     149408|  70485209|0.21197071289098396|597332.279661017|  -74.9874558788639|\n",
      "|   P067605|         Algeria|                      55565|  70485209|0.07883214193207543|597332.279661017| -90.69780725201511|\n",
      "|   P067605|         Algeria|                     328764|  70485209| 0.4664297725214946|597332.279661017| -44.96128684246365|\n",
      "|   P067605|         Algeria|                      13891|  70485209| 0.0197076807986765|597332.279661017| -97.67449366575617|\n",
      "|   P067605|         Algeria|                      64826|  70485209|0.09197106871031624|597332.279661017| -89.14741389218268|\n",
      "|   P072458|         Algeria|                     667254|  70485209| 0.9466581846980123|597332.279661017| 11.705665794365443|\n",
      "|   P072458|         Algeria|                     255289|  70485209| 0.3621880443030253|597332.279661017| -57.26181077224302|\n",
      "|   P072458|         Algeria|                     335349|  70485209| 0.4757721580991552|597332.279661017|-43.858885344299686|\n",
      "|   P072458|         Algeria|                     267087|  70485209|0.37892630778749625|597332.279661017| -55.28669568107545|\n",
      "|   P072458|         Algeria|                     414931|  70485209| 0.5886781154327002|597332.279661017| -30.53598237894138|\n",
      "|   P072458|         Algeria|                     104194|  70485209|0.14782392146982212|597332.279661017| -82.55677726656099|\n",
      "|   P072458|         Algeria|                     255640|  70485209|0.36268602111969334|597332.279661017|-57.203049507876194|\n",
      "|   P072458|         Algeria|                     420532|  70485209| 0.5966244634388471|597332.279661017| -29.59831331421604|\n",
      "|   P072458|         Algeria|                     338582|  70485209| 0.4803589360145048|597332.279661017| -43.31764555028844|\n",
      "|   P069947|         Algeria|                   18316163|  70485209| 25.985824912571374|597332.279661017| 2966.3273396834215|\n",
      "+----------+----------------+---------------------------+----------+-------------------+----------------+-------------------+\n",
      "only showing top 20 rows\n",
      "\n"
     ]
    }
   ],
   "source": [
    "from pyspark.sql.window import Window\n",
    "paisWindow = contractsDFenteros.withColumn(\"Total Pais\", sum(\"Total Contract Amount (USD)\").over(Window.partitionBy(\"Borrower Country Code\")))\\\n",
    "                                .withColumn(\"Porcentaje Pais\", (col(\"Total Contract Amount (USD)\") / col(\"Total Pais\")) * 100)\\\n",
    "                                .withColumn(\"Media Pais\", avg(\"Total Contract Amount (USD)\").over(Window.partitionBy(\"Borrower Country Code\")))\\\n",
    "                                .withColumn(\"Diff Porcentaje\", ((col(\"Total Contract Amount (USD)\") - col(\"Media Pais\")) / col(\"Media Pais\")) * 100)\n",
    "porcentajesDF = paisWindow\n",
    "\n",
    "paisWindow.select(\"Project ID\",\"Borrower Country\", \"Total Contract Amount (USD)\", \"Total Pais\", \"Porcentaje Pais\", \"Media Pais\", \"Diff Porcentaje\").show()"
   ]
  },
  {
   "cell_type": "code",
   "execution_count": 38,
   "metadata": {
    "deletable": false,
    "editable": false,
    "nbgrader": {
     "cell_type": "code",
     "checksum": "6f5bb48e55affd76772a7952980ebce9",
     "grade": true,
     "grade_id": "window_tests",
     "locked": true,
     "points": 3,
     "schema_version": 3,
     "solution": false,
     "task": false
    }
   },
   "outputs": [],
   "source": [
    "assert(\"Total Pais\" in porcentajesDF.columns)\n",
    "assert(\"Porcentaje Pais\" in porcentajesDF.columns)\n",
    "r = porcentajesDF.where(\"`Project ID` = 'P069947'\").head()\n",
    "assert(r[\"Total Pais\"] == 70485209)\n",
    "assert(r[\"Porcentaje Pais\"] - 25.985824912571374 < 0.001)\n",
    "assert(r[\"Media Pais\"] - 597332.279661017 < 0.001)\n",
    "assert(r[\"Diff Porcentaje\"] - 2966.3273396834217 < 0.001)"
   ]
  }
 ],
 "metadata": {
  "kernelspec": {
   "display_name": "Python 3",
   "language": "python",
   "name": "python3"
  },
  "language_info": {
   "codemirror_mode": {
    "name": "ipython",
    "version": 3
   },
   "file_extension": ".py",
   "mimetype": "text/x-python",
   "name": "python",
   "nbconvert_exporter": "python",
   "pygments_lexer": "ipython3",
   "version": "3.8.8"
  }
 },
 "nbformat": 4,
 "nbformat_minor": 2
}
