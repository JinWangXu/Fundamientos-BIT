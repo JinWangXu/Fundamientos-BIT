{
 "cells": [
  {
   "cell_type": "markdown",
   "id": "5a684c2f",
   "metadata": {},
   "source": [
    "# Apuntes de Spark del libro\n",
    "\n",
    "Aquí detallaré todo lo aprendido del libro para que me sea útil a la hora de recordar la teoría de Spark.\n"
   ]
  },
  {
   "cell_type": "markdown",
   "id": "b03a6b36",
   "metadata": {},
   "source": [
    "# Capítulo 1: Introducción a Spark"
   ]
  },
  {
   "cell_type": "markdown",
   "id": "22beef9a",
   "metadata": {},
   "source": [
    "Para empezar definiremos qué es Apache Spark:\n",
    "Apache Spark es una herramienta unificada diseñada para realizar procesos paralelos teniendo muy en cuenta \n",
    "la eficacia y rapidez de sus procesos. \n",
    "Tiene muchas ventajas:\n",
    "\n",
    "1. Es muy rápido y esta optimizado.\n",
    "2. Fácil de usar\n",
    "3. Muy flexible y compatible con otros entornos y lenguajes de programación. \n",
    "4. No es necesario aprender individualmente las APIs de Spark, todo está unificado.\n",
    "5. Tolerancia a fallo, en el momento que un nodo falla, otro nodo asumirá el cargo y no es necesario reiniciar la ejecución.\n",
    "\n",
    "\n",
    "\n",
    "## Funcionamiento de Apache Spark\n",
    "\n",
    "Spark distribuye todos los datos de varias formas para optimizar y paralelizar el procesamiento de los datos.\n",
    "Todos los datos, son distribuidos en un clúster con una estructura jerárquica:\n",
    "\n",
    "1. El núcleo más importante es el Driver, ya que es el encargado de organizar las operaciones pararelas en el clúster.\n",
    "Es el que se encarga de comunicarse con las otras partes del clúster y mandar trabajo, con una Spark Session.\n",
    "\n",
    "2. El cluster Manager, es el responsable de manegar y distribuir los recursos del clúster a los nodos.\n",
    "\n",
    "3. Spark executor son como los nodos exclavos del clúster, se encargan de ejecutar los trabajos impartidos por el Driver.\n",
    "\n",
    "4. Gracias a la flexibilidad de SPark, se puede iniciar Apache Spark en diferentes entornos y aprovechando al máximo las capacidades.\n",
    "Esto se debe a que el clúster manager es adaptable al entorno. Puede ser iniciado en local, standalone, YARN o incluso en Kubernetes.\n",
    "\n",
    "5. Los datos almacenados en Spark se pueden particionar para realizar el paralelismo de mejor forma.\n",
    "\n",
    "Una de las importancias y ventajas que tiene Spark a la otra de la ejecución de un programa, es que el programador únicamente expresa\n",
    "qué quieres ejecutar en la herramienta, y Apache Spark se encarga de optimizar y organizar la forma de ejecutar dicho trabajo.\n",
    "Esto se debe al Cataclyst que viene incorporado en Apache Spark y de esta forma, el programador no se tiene que preocupar de cómo gestionar\n",
    "y organizar el programa para que sea más limpio y eficiente.\n",
    "\n"
   ]
  },
  {
   "cell_type": "code",
   "execution_count": null,
   "id": "4c491e3a",
   "metadata": {},
   "outputs": [],
   "source": [
    "#In python\n",
    "from __future__ import print_function\n",
    "from pyspark.sql import SparkSession\n",
    "from pyspark.sql.functions import *\n",
    "from pyspark.sql.types import *"
   ]
  },
  {
   "cell_type": "code",
   "execution_count": 23,
   "id": "38a95589",
   "metadata": {},
   "outputs": [
    {
     "data": {
      "text/plain": [
       "import org.apache.spark.sql.SparkSession\r\n",
       "import org.apache.spark.sql.functions._\r\n",
       "import org.apache.spark.sql.types._\r\n",
       "import org.apache.spark.sql.Row\r\n"
      ]
     },
     "execution_count": 23,
     "metadata": {},
     "output_type": "execute_result"
    }
   ],
   "source": [
    "//In scala \n",
    "import org.apache.spark.sql.SparkSession\n",
    "import org.apache.spark.sql.functions._\n",
    "import org.apache.spark.sql.types._\n",
    "import org.apache.spark.sql.Row\n"
   ]
  },
  {
   "cell_type": "markdown",
   "id": "0d58296b",
   "metadata": {},
   "source": [
    "# M&Ms for the Cookie Monster "
   ]
  },
  {
   "cell_type": "markdown",
   "id": "e537e990",
   "metadata": {},
   "source": [
    "### Python Version"
   ]
  },
  {
   "cell_type": "code",
   "execution_count": null,
   "id": "6823c69b",
   "metadata": {},
   "outputs": [],
   "source": [
    "from __future__ import print_function\n",
    "\n",
    "import sys\n",
    "\n",
    "from pyspark.sql import SparkSession\n",
    "from pyspark.sql import functions\n",
    "\n",
    "if __name__ == \"__main__\":\n",
    "    \n",
    "    spark = (SparkSession\n",
    "        .builder\n",
    "        .appName(\"PythonMnMCount\")\n",
    "        .getOrCreate())\n",
    "    # get the M&M data set file name\n",
    "    mnm_file = \"mnm_dataset.csv\"\n",
    "    # read the file into a Spark DataFrame\n",
    "    mnm_df = (spark.read.format(\"csv\")\n",
    "        .option(\"header\", \"true\")\n",
    "        .option(\"inferSchema\", \"true\")\n",
    "        .load(mnm_file))\n",
    "    mnm_df.show(n=5, truncate=False)\n",
    "\n",
    "    # aggregate count of all colors and groupBy state and color\n",
    "    # orderBy descending order\n",
    "    count_mnm_df = (mnm_df.select(\"State\", \"Color\", \"Count\")\n",
    "                    .groupBy(\"State\", \"Color\")\n",
    "                    .sum(\"Count\")\n",
    "                    .orderBy(\"sum(Count)\", ascending=False))\n",
    "    \n",
    "    # show all the resulting aggregation for all the dates and colors\n",
    "    count_mnm_df.show(n=60, truncate=False)\n",
    "    print(\"Total Rows = %d\" % (count_mnm_df.count()))\n",
    "\n",
    "    # find the aggregate count for California by filtering\n",
    "    ca_count_mnm_df = (mnm_df.select(\"*\")\n",
    "                       .where(mnm_df.State == 'CA')\n",
    "                       .groupBy(\"State\", \"Color\")\n",
    "                       .sum(\"Count\")\n",
    "                       .orderBy(\"sum(Count)\", ascending=False))\n",
    "\n",
    "    # show the resulting aggregation for California\n",
    "    ca_count_mnm_df.show(n=10, truncate=False)"
   ]
  },
  {
   "cell_type": "code",
   "execution_count": null,
   "id": "25f1cb0c",
   "metadata": {},
   "outputs": [],
   "source": [
    "from pyspark.sql import functions as F\n",
    "calculos_mnm= (mnm_df\n",
    "              .select(\"Count\",\"State\",\"Color\")\n",
    "              .groupBy(\"State\",\"Color\")\n",
    "              .agg(F.min(\"Count\"),F.max(\"Count\"), F.avg(\"Count\"), F.count(\"Count\"))\n",
    "              .orderBy(\"State\", \"Color\"))\n",
    "\n",
    "calculos_mnm.show(n=20, truncate=False)"
   ]
  },
  {
   "cell_type": "markdown",
   "id": "018db769",
   "metadata": {},
   "source": [
    "### Scala Version"
   ]
  },
  {
   "cell_type": "code",
   "execution_count": null,
   "id": "a1703346",
   "metadata": {},
   "outputs": [],
   "source": [
    "import org.apache.spark.sql.SparkSession\n",
    "import org.apache.spark.sql.functions._\n",
    "\n",
    "    val spark = SparkSession\n",
    "      .builder\n",
    "      .appName(\"MnMCount\")\n",
    "      .getOrCreate()\n",
    "    val mnmFile = \"mnm_dataset.csv\"\n",
    "    // read the file into a Spark DataFrame\n",
    "    val mnmDF = spark.read.format(\"csv\")\n",
    "      .option(\"header\", \"true\")\n",
    "      .option(\"inferSchema\", \"true\")\n",
    "      .load(mnmFile)\n",
    "    // display DataFrame\n",
    "    mnmDF.show(5, false)\n",
    "\n",
    "    // aggregate count of all colors and groupBy state and color\n",
    "    // orderBy descending order\n",
    "    val countMnMDF = mnmDF.select(\"State\", \"Color\", \"Count\")\n",
    "        .groupBy(\"State\", \"Color\")\n",
    "        .sum(\"Count\")\n",
    "        .orderBy(desc(\"sum(Count)\"))\n",
    "\n",
    "    // show all the resulting aggregation for all the dates and colors\n",
    "    countMnMDF.show(60)\n",
    "    println(s\"Total Rows = ${countMnMDF.count()}\")\n",
    "    println()\n",
    "\n",
    "    // find the aggregate count for California by filtering\n",
    "    val caCountMnNDF = mnmDF.select(\"*\")\n",
    "      .where(col(\"State\") === \"CA\")\n",
    "      .groupBy(\"State\", \"Color\")\n",
    "      .sum(\"Count\")\n",
    "      .orderBy(desc(\"sum(Count)\"))\n",
    "\n",
    "    // show the resulting aggregation for California\n",
    "    caCountMnNDF.show(10)"
   ]
  },
  {
   "cell_type": "markdown",
   "id": "d2b32913",
   "metadata": {},
   "source": [
    "### Ejecicios externos Capítulo 2"
   ]
  },
  {
   "cell_type": "code",
   "execution_count": null,
   "id": "195067c4",
   "metadata": {},
   "outputs": [],
   "source": [
    "//A | El Quijote\n",
    "\n",
    "val url = \"el_quijote.txt\"\n",
    "    // read the file into a Spark DataFrame\n",
    "val quijote = spark.read.text(url)\n",
    "// display DataFrame"
   ]
  },
  {
   "cell_type": "code",
   "execution_count": null,
   "id": "7c54e37c",
   "metadata": {},
   "outputs": [],
   "source": [
    "//quijote.show(5, false)\n",
    "//quijote.count()\n",
    "//quijote.take(5)\n",
    "//quijote.show(5)\n",
    "//quijote.head()\n",
    "quijote.first()\n",
    "//https://stackoverflow.com/questions/45138742/apache-spark-dataset-api-headnint-vs-takenint\n",
    "//first recoge el primer elemeto, take recoge la matriz que contiene el primer elemento\n",
    "//Sin embargo, todas las funciones son prácticamente iguales, pero la API da diferentes opciones agusto del programador"
   ]
  },
  {
   "cell_type": "code",
   "execution_count": null,
   "id": "511b1600",
   "metadata": {},
   "outputs": [],
   "source": [
    "//B\n",
    "//1\n",
    "val ej1 = mnmDF\n",
    " .select(\"State\", \"Color\", \"Count\")\n",
    " .groupBy(\"State\", \"Color\")\n",
    " .agg(max(\"Count\").alias(\"Maximo\"))\n",
    " .orderBy(col(\"State\").desc, col(\"Color\").desc)\n",
    "ej1.show()"
   ]
  },
  {
   "cell_type": "code",
   "execution_count": null,
   "id": "15476318",
   "metadata": {},
   "outputs": [],
   "source": [
    "//2\n",
    "val ej2 = mnmDF\n",
    " .select(\"State\", \"Color\", \"Count\")\n",
    " .where(\"State in ('CA', 'NV', 'TX', 'CO')\")\n",
    " .groupBy(\"State\", \"Color\")\n",
    " .agg(sum(\"Count\").alias(\"Total\"))\n",
    " .orderBy(\"State\", \"Color\")\n",
    "ej2.show(24,false)"
   ]
  },
  {
   "cell_type": "code",
   "execution_count": null,
   "id": "0ca406b1",
   "metadata": {},
   "outputs": [],
   "source": [
    "//3\n",
    "val calculos_mnm= mnmDF\n",
    "              .select(\"Count\",\"State\",\"Color\")\n",
    "              .groupBy(\"State\",\"Color\")\n",
    "              .agg(min(\"Count\").alias(\"Minimo\"), max(\"Count\").alias(\"Maximo\"), avg(\"Count\").alias(\"Media\"), count(\"Count\").alias(\"Count\"))\n",
    "              .orderBy(\"State\", \"Color\")\n",
    "calculos_mnm.count()"
   ]
  },
  {
   "cell_type": "code",
   "execution_count": null,
   "id": "b35af3ee",
   "metadata": {},
   "outputs": [],
   "source": [
    "//4\n",
    "calculos_mnm.createOrReplaceTempView(\"info\")\n",
    "spark.table(\"info\").show()"
   ]
  },
  {
   "cell_type": "markdown",
   "id": "43047a8f",
   "metadata": {},
   "source": [
    "# Capítulo 3: La estructura de las APIs de Apache Spark"
   ]
  },
  {
   "cell_type": "markdown",
   "id": "7dbf5125",
   "metadata": {},
   "source": [
    "En este capítulo aprenderemos cómo se construyeron las estructuras y las funciones dentro de las APIs de Apache Spark y por qué se unificaron y hubo tantos cambios en las versiones 2.x.x\n",
    "\n",
    "En las versiones antiguas de Spark 1.x.x, cuando creábamos RDDs para realizar operaciones con datos, Spark era incapaz de traducir y comprender las expresiones de los RDDs por lo que era imposible optimizar el cómputo de ellas. \n",
    "Por lo que en versiones 2.x.x, daba la disponibilidad de utilizar expresiones computacionales comunes con patrones simples para el análisis de datos, como por ejemplo selects, counts, groups, etc. De esta forma, Spark reconocerá las expresiones y podrá optimizar el cómputo.\n",
    "Aparte de ello, también introduce un esquema  para organizar y estructurizar los datos en forma de tablas SQL para mejorar el rendimiento, eficacia, y mejorar el aspecto de los datos siendo más simples y comunes a todos los lenguajes:\n",
    "Vamos a probar un código en python con RDDs antiguas.\n",
    "\n",
    "Esto se debe a que RDDs trabaja más a nivel bajo por ello SPark no sabrá como optimizar lo ya que RDDs trabajan "
   ]
  },
  {
   "cell_type": "code",
   "execution_count": null,
   "id": "40332e46",
   "metadata": {},
   "outputs": [],
   "source": [
    "# In Python\n",
    "# Create an RDD of tuples (name, age)\n",
    "dataRDD = sc.parallelize([(\"Brooke\", 20), (\"Denny\", 31), (\"Jules\", 30), (\"TD\", 35), (\"Brooke\", 25)])\n",
    "# Use map and reduceByKey transformations with their lambda \n",
    "# expressions to aggregate and then compute average\n",
    "agesRDD = dataRDD.map(lambda x: (x[0], (x[1], 1))).reduceByKey(lambda x, y: (x[0] + y[0], x[1] + y[1])).map(lambda x: (x[0], x[1][0]/x[1][1]))\n",
    "\n",
    "agesRDD.collect()"
   ]
  },
  {
   "cell_type": "code",
   "execution_count": null,
   "id": "e33f6f4a",
   "metadata": {},
   "outputs": [],
   "source": [
    "# In Python \n",
    "from pyspark.sql import SparkSession\n",
    "from pyspark.sql.functions import avg\n",
    "# Create a DataFrame using SparkSession\n",
    "spark = (SparkSession\n",
    " .builder\n",
    " .appName(\"AuthorsAges\")\n",
    " .getOrCreate())\n",
    "# Create a DataFrame \n",
    "data_df = spark.createDataFrame([(\"Brooke\", 20), (\"Denny\", 31), (\"Jules\", 30),(\"TD\", 35), (\"Brooke\", 25)], [\"name\", \"age\"])\n",
    "# Group the same names together, aggregate their ages, and compute an average\n",
    "avg_df = data_df.groupBy(\"name\").agg(avg(\"age\"))\n",
    "# Show the results of the final execution\n",
    "avg_df.show()"
   ]
  },
  {
   "cell_type": "markdown",
   "id": "0a7a4d14",
   "metadata": {},
   "source": [
    "Como se puede observar, cuando creas un RDD, creas las transformaciones necesarias y Spark no sabrá la expresión computacional que conllevará, únicamente lo hará sin optimizar el procedimiento. Sin embargo, usando funciones de la API con la versión 2.x.x, Spark puede leer y entender el funcionamiento y el resultado que quieres obtener, optimizando todo lo posible a nivel computacional."
   ]
  },
  {
   "cell_type": "markdown",
   "id": "834d0ff8",
   "metadata": {},
   "source": [
    "### Dataframe API"
   ]
  },
  {
   "attachments": {
    "types_variables.PNG": {
     "image/png": "[encoded data removed]"
    }
   },
   "cell_type": "markdown",
   "id": "589612a0",
   "metadata": {},
   "source": [
    "Las declaraciones de dataframes en Spark están inspirados de pandas.\n",
    "El formato de las tablas son tipados, con filas y columnas. También se trabaja en memoria y los datos son distribuidos.\n",
    "También hay que tener en cuenta que se pueden generar dataframes a partir de otros dataframes transformándolos y modificando su contenido.\n",
    "Es posible recuperar todos los dataframes en el proceso, cosa que es una gran ventaja respecto a otros frameworks.\n",
    "La API de dataframe de Apache Spark, admite varios tipos de variables:\n",
    "\n",
    "![types_variables.PNG](attachment:types_variables.PNG)"
   ]
  },
  {
   "cell_type": "markdown",
   "id": "c5bc2388",
   "metadata": {},
   "source": [
    "Squema relaciona los tipos de datos con las columnas de un dataframe. El libro recomienda que siempre definamos a priori un squema ya que brinda muchas ventajas, como por ejemplo, detectar errores al inicio del proceso y ahorrar a Spark cómputo innecesario creando un job extra para leer y los datos del dataframe."
   ]
  },
  {
   "cell_type": "markdown",
   "id": "991925f6",
   "metadata": {},
   "source": [
    "### Creación de squemas"
   ]
  },
  {
   "cell_type": "code",
   "execution_count": null,
   "id": "d112aeca",
   "metadata": {},
   "outputs": [],
   "source": [
    "// In Scala\n",
    "import org.apache.spark.sql.types._\n",
    "val schema = StructType(Array(StructField(\"author\", StringType, false),\n",
    " StructField(\"title\", StringType, false),\n",
    " StructField(\"pages\", IntegerType, false)))\n",
    "\n",
    "// In Scala using DDL\n",
    "val schema = \"author STRING, title STRING, pages INT\"\n",
    "\n"
   ]
  },
  {
   "cell_type": "code",
   "execution_count": null,
   "id": "3f53c795",
   "metadata": {},
   "outputs": [],
   "source": [
    "# In Python\n",
    "from pyspark.sql.types import *\n",
    "schema = StructType([StructField(\"author\", StringType(), False),\n",
    " StructField(\"title\", StringType(), False),\n",
    " StructField(\"pages\", IntegerType(), False)])\n",
    "\n",
    "# In Python with DDL\n",
    "schema = \"author STRING, title STRING, pages INT\""
   ]
  },
  {
   "cell_type": "code",
   "execution_count": null,
   "id": "f96df881",
   "metadata": {},
   "outputs": [],
   "source": [
    "//In Scala\n",
    "import org.apache.spark.sql.SparkSession\n",
    "import org.apache.spark.sql.types._\n",
    "object scalaDataframe {\n",
    "def main(args: Array[String]) {\n",
    " val spark = SparkSession\n",
    " .builder\n",
    " .appName(\"scalaDataframe\")\n",
    " .getOrCreate()\n",
    " // Get the path to the JSON file\n",
    " val jsonFile = \"blogs.json\"\n",
    " // Define our schema programmatically\n",
    "    \n",
    " val schema = StructType(Array(StructField(\"Id\", IntegerType, false),\n",
    " StructField(\"First\", StringType, false),\n",
    " StructField(\"Last\", StringType, false),\n",
    " StructField(\"Url\", StringType, false),\n",
    " StructField(\"Published\", StringType, false),\n",
    " StructField(\"Hits\", IntegerType, false),\n",
    " StructField(\"Campaigns\", ArrayType(StringType), false)))\n",
    "    \n",
    " // Create a DataFrame by reading from the JSON file \n",
    " // with a predefined schema\n",
    " val blogsDF = spark.read.schema(schema).json(jsonFile)\n",
    " // Show the DataFrame schema as output\n",
    " blogsDF.show(false)\n",
    "// Print the schema\n",
    " println(blogsDF.printSchema)\n",
    " println(blogsDF.schema)\n",
    " println(blogsDF)\n",
    "}\n",
    "}\n",
    "\n",
    "scalaDataframe.main(Array())"
   ]
  },
  {
   "cell_type": "code",
   "execution_count": null,
   "id": "c19c533a",
   "metadata": {},
   "outputs": [],
   "source": []
  },
  {
   "cell_type": "code",
   "execution_count": null,
   "id": "3810eb20",
   "metadata": {},
   "outputs": [],
   "source": [
    "# In Python \n",
    "from pyspark.sql import SparkSession\n",
    "# Define schema for our data using DDL \n",
    "schema = \"Id INT, First STRING, Last STRING, Url STRING, Published STRING, Hits INT, Campaigns ARRAY<STRING>\"\n",
    "# Create our static data\n",
    "data = [[1, \"Jules\", \"Damji\", \"https://tinyurl.1\", \"1/4/2016\", 4535, [\"twitter\",\"LinkedIn\"]],\n",
    " [2, \"Brooke\",\"Wenig\", \"https://tinyurl.2\", \"5/5/2018\", 8908, [\"twitter\",\"LinkedIn\"]],\n",
    " [3, \"Denny\", \"Lee\", \"https://tinyurl.3\", \"6/7/2019\", 7659, [\"web\",\"twitter\", \"FB\", \"LinkedIn\"]],\n",
    " [4, \"Tathagata\", \"Das\", \"https://tinyurl.4\", \"5/12/2018\", 10568, [\"twitter\", \"FB\"]],\n",
    " [5, \"Matei\",\"Zaharia\", \"https://tinyurl.5\", \"5/14/2014\", 40578, [\"web\",\"twitter\", \"FB\", \"LinkedIn\"]],\n",
    " [6, \"Reynold\", \"Xin\", \"https://tinyurl.6\", \"3/2/2015\", 25568,[\"twitter\", \"LinkedIn\"]]]\n",
    "\n",
    " # Create a SparkSession\n",
    "spark = (SparkSession\n",
    " .builder\n",
    " .appName(\"MyFirstDataframe\")\n",
    " .getOrCreate())\n",
    " # Create a DataFrame using the schema defined above\n",
    "blogs_df = spark.createDataFrame(data, schema)\n",
    " # Show the DataFrame; it should reflect our table above\n",
    "blogs_df.show()\n",
    " # Print the schema used by Spark to process the DataFrame\n",
    "print(blogs_df.printSchema())\n"
   ]
  },
  {
   "cell_type": "code",
   "execution_count": null,
   "id": "2cee1f5e",
   "metadata": {},
   "outputs": [],
   "source": [
    "//In Scala\n",
    "import org.apache.spark.sql.functions._\n",
    "import org.apache.spark.sql.SparkSession\n",
    "import org.apache.spark.sql.types._\n",
    " val spark = SparkSession\n",
    " .builder\n",
    " .appName(\"scalaDataframe\")\n",
    " .getOrCreate()\n",
    " // Get the path to the JSON file\n",
    " val jsonFile = \"blogs.json\"\n",
    " // Define our schema programmatically\n",
    "    \n",
    " val schema = StructType(Array(StructField(\"Id\", IntegerType, false),\n",
    " StructField(\"First\", StringType, false),\n",
    " StructField(\"Last\", StringType, false),\n",
    " StructField(\"Url\", StringType, false),\n",
    " StructField(\"Published\", StringType, false),\n",
    " StructField(\"Hits\", IntegerType, false),\n",
    " StructField(\"Campaigns\", ArrayType(StringType), false)))\n",
    "    \n",
    " // Create a DataFrame by reading from the JSON file \n",
    " // with a predefined schema\n",
    " val blogsDF = spark.read.schema(schema).json(jsonFile)\n",
    " // Show the DataFrame schema as output\n",
    " blogsDF.show(false)\n",
    "// Print the schema\n",
    " println(blogsDF.printSchema)\n",
    " println(blogsDF.schema)\n"
   ]
  },
  {
   "cell_type": "code",
   "execution_count": null,
   "id": "19f6e8b0",
   "metadata": {},
   "outputs": [],
   "source": [
    "//In Scala\n",
    "blogsDF.columns\n",
    "// Access a particular column with col and it returns a Column type\n",
    "blogsDF.col(\"Id\")\n",
    "// Use an expression to compute a value\n",
    "blogsDF.select(expr(\"Hits * 2\")).show(2)\n",
    "// or use col to compute value\n",
    "blogsDF.select(col(\"Hits\") * 2).show(2)\n",
    "\n",
    "blogsDF.withColumn(\"Big Hitters\", (expr(\"Hits > 10000\"))).show()\n",
    "\n",
    "// Concatenate three columns, create a new column, and show the\n",
    "// newly created concatenated column\n",
    "blogsDF\n",
    " .withColumn(\"AuthorsId\", (concat(expr(\"First\"), expr(\"Last\"), expr(\"Id\"))))\n",
    " .select(col(\"AuthorsId\"))\n",
    " .show(4)\n",
    "\n",
    "// These statements return the same value, showing that\n",
    "// expr is the same as a col method call\n",
    "blogsDF.select(expr(\"Hits\")).show(2)\n",
    "blogsDF.select(col(\"Hits\")).show(2)\n",
    "blogsDF.select(\"Hits\").show(2)\n",
    "\n",
    "// Sort by column \"Id\" in descending order\n",
    "blogsDF.sort(col(\"Id\").desc).show()\n",
    "blogsDF.sort($\"Id\".desc).show()\n"
   ]
  },
  {
   "cell_type": "code",
   "execution_count": null,
   "id": "12699d27",
   "metadata": {},
   "outputs": [],
   "source": [
    "#In Python\n",
    "from pyspark.sql.functions import *\n",
    "\n",
    "blogs_df.columns\n",
    "\n",
    "blogs_df.columns[0]\n",
    "# Use an expression to compute a value\n",
    "blogs_df.select(expr(\"Hits * 2\")).show(2)\n",
    "# or use col to compute value\n",
    "\n",
    "blogs_df.withColumn(\"Big Hitters\", (expr(\"Hits > 10000\"))).show()\n",
    "\n",
    "# Concatenate three columns, create a new column, and show the\n",
    "# newly created concatenated column\n",
    "blogs_df.withColumn(\"AuthorsId\", (concat(expr(\"First\"), expr(\"Last\"), expr(\"Id\")))).select(col(\"AuthorsId\")).show(4)\n",
    "\n",
    "# These statements return the same value, showing that\n",
    "# expr is the same as a col method call\n",
    "blogs_df.select(expr(\"Hits\")).show(2)\n",
    "blogs_df.select(col(\"Hits\")).show(2)\n",
    "blogs_df.select(\"Hits\").show(2)\n",
    "\n",
    "# Sort by column \"Id\" in descending order\n",
    "blogs_df.sort(desc(\"Id\")).show()"
   ]
  },
  {
   "cell_type": "code",
   "execution_count": null,
   "id": "ceca44e9",
   "metadata": {},
   "outputs": [],
   "source": [
    "// In Scala\n",
    "import org.apache.spark.sql.Row\n",
    "// Create a Row\n",
    "val blogRow = Row(6, \"Reynold\", \"Xin\", \"https://tinyurl.6\", 255568, \"3/2/2015\", Array(\"twitter\", \"LinkedIn\"))\n",
    "// Access using index for individual items\n",
    "blogRow(1)\n",
    "//Create a dataframe with some rows\n",
    "val rows = Seq((\"Matei Zaharia\", \"CA\"), (\"Reynold Xin\", \"CA\"))\n",
    "val authorsDF = rows.toDF(\"Author\", \"State\")\n",
    "authorsDF.show()\n"
   ]
  },
  {
   "cell_type": "code",
   "execution_count": null,
   "id": "45f19c55",
   "metadata": {},
   "outputs": [],
   "source": [
    "# In Python\n",
    "from pyspark.sql import Row\n",
    "blog_row = Row(6, \"Reynold\", \"Xin\", \"https://tinyurl.6\", 255568, \"3/2/2015\",\n",
    " [\"twitter\", \"LinkedIn\"])\n",
    "# access using index for individual items\n",
    "blog_row[1]\n",
    "\n",
    "rows = [Row(\"Matei Zaharia\", \"CA\"), Row(\"Reynold Xin\", \"CA\")]\n",
    "authors_df = spark.createDataFrame(rows, [\"Authors\", \"State\"])\n",
    "authors_df.show()\n"
   ]
  },
  {
   "cell_type": "markdown",
   "id": "c48dcbfe",
   "metadata": {},
   "source": [
    "### DataFrameReady & DataFrameWriter\n",
    "\n",
    "Existen dos interfaces en Apache Spark para leer y escribir datos en un dataframe a partir de un origen que puede ser CSV, JSON, TXT, Avro, ORC, etc.\n",
    "Lo que hemos estado haciendo durante los ejercicios en realidad es leer entero un csv y transferirlo a un dataframe. Con estas interfaces se podrán realizar iteraciones."
   ]
  },
  {
   "cell_type": "code",
   "execution_count": 1,
   "id": "bc3d0aa1",
   "metadata": {},
   "outputs": [
    {
     "data": {
      "text/plain": [
       "Intitializing Scala interpreter ..."
      ]
     },
     "metadata": {},
     "output_type": "display_data"
    },
    {
     "data": {
      "text/plain": [
       "Spark Web UI available at http://EM2021002844.bosonit.local:4040\n",
       "SparkContext available as 'sc' (version = 3.1.1, master = local[*], app id = local-1622642277964)\n",
       "SparkSession available as 'spark'\n"
      ]
     },
     "metadata": {},
     "output_type": "display_data"
    },
    {
     "data": {
      "text/plain": [
       "import org.apache.spark.sql.types._\r\n",
       "fireSchema: org.apache.spark.sql.types.StructType = StructType(StructField(UnitID,StringType,true), StructField(IncidentNumber,IntegerType,true), StructField(CallType,StringType,true), StructField(CallDate,StringType,true), StructField(WatchDate,StringType,true), StructField(CallFinalDisposition,StringType,true), StructField(AvailableDtTm,StringType,true), StructField(Address,StringType,true), StructField(City,StringType,true), StructField(Zipcode,IntegerType,true), StructField(Battalion,StringType,true), StructField(StationArea,StringType,true), StructField(Box,StringType,true), StructField(OriginalPriority,StringType,true), StructField(Priority,StringType,true), StructField(FinalPriority,IntegerType,true), StructField(ALSUnit,BooleanType,true), Str...\r\n"
      ]
     },
     "execution_count": 1,
     "metadata": {},
     "output_type": "execute_result"
    }
   ],
   "source": [
    "// In Scala it would be similar\n",
    "import org.apache.spark.sql.types._\n",
    "\n",
    "val fireSchema = StructType(Array(StructField(\"UnitID\", StringType, true),\n",
    " StructField(\"IncidentNumber\", IntegerType, true),\n",
    " StructField(\"CallType\", StringType, true), \n",
    " StructField(\"CallDate\", StringType, true), \n",
    " StructField(\"WatchDate\", StringType, true),\n",
    " StructField(\"CallFinalDisposition\", StringType, true),\n",
    " StructField(\"AvailableDtTm\", StringType, true),\n",
    " StructField(\"Address\", StringType, true), \n",
    " StructField(\"City\", StringType, true), \n",
    " StructField(\"Zipcode\", IntegerType, true), \n",
    " StructField(\"Battalion\", StringType, true), \n",
    " StructField(\"StationArea\", StringType, true), \n",
    " StructField(\"Box\", StringType, true), \n",
    " StructField(\"OriginalPriority\", StringType, true), \n",
    " StructField(\"Priority\", StringType, true), \n",
    " StructField(\"FinalPriority\", IntegerType, true), \n",
    " StructField(\"ALSUnit\", BooleanType, true), \n",
    " StructField(\"CallTypeGroup\", StringType, true),\n",
    " StructField(\"NumAlarms\", IntegerType, true),\n",
    " StructField(\"UnitType\", StringType, true),\n",
    " StructField(\"UnitSequenceInCallDispatch\", IntegerType, true),\n",
    " StructField(\"FirePreventionDistrict\", StringType, true),\n",
    " StructField(\"SupervisorDistrict\", StringType, true),\n",
    " StructField(\"Neighborhood\", StringType, true),\n",
    " StructField(\"Location\", StringType, true),\n",
    " StructField(\"RowID\", StringType, true),\n",
    " StructField(\"Delay\", FloatType, true)))\n",
    "// Read the file using the CSV DataFrameReader\n",
    "val sfFireFile=\"sf-fire-calls.csv\"\n",
    "val fireDF = spark.read.schema(fireSchema)\n",
    " .option(\"header\", \"true\")\n",
    " .csv(sfFireFile)\n"
   ]
  },
  {
   "cell_type": "code",
   "execution_count": null,
   "id": "28b783c4",
   "metadata": {},
   "outputs": [],
   "source": [
    "# In Python, define a schema \n",
    "from pyspark.sql.types import *\n",
    "# Programmatic way to define a schema \n",
    "fire_schema = StructType([StructField('CallNumber', IntegerType(), True),\n",
    " StructField('UnitID', StringType(), True),\n",
    " StructField('IncidentNumber', IntegerType(), True),\n",
    " StructField('CallType', StringType(), True), \n",
    " StructField('CallDate', StringType(), True), \n",
    " StructField('WatchDate', StringType(), True),\n",
    " StructField('CallFinalDisposition', StringType(), True),\n",
    " StructField('AvailableDtTm', StringType(), True),\n",
    " StructField('Address', StringType(), True), \n",
    " StructField('City', StringType(), True), \n",
    " StructField('Zipcode', IntegerType(), True), \n",
    " StructField('Battalion', StringType(), True), \n",
    " StructField('StationArea', StringType(), True), \n",
    " StructField('Box', StringType(), True), \n",
    " StructField('OriginalPriority', StringType(), True), \n",
    " StructField('Priority', StringType(), True), \n",
    " StructField('FinalPriority', IntegerType(), True), \n",
    " StructField('ALSUnit', BooleanType(), True), \n",
    " StructField('CallTypeGroup', StringType(), True),\n",
    " StructField('NumAlarms', IntegerType(), True),\n",
    " StructField('UnitType', StringType(), True),\n",
    " StructField('UnitSequenceInCallDispatch', IntegerType(), True),\n",
    " StructField('FirePreventionDistrict', StringType(), True),\n",
    " StructField('SupervisorDistrict', StringType(), True),\n",
    " StructField('Neighborhood', StringType(), True),\n",
    " StructField('Location', StringType(), True),\n",
    " StructField('RowID', StringType(), True),\n",
    " StructField('Delay', FloatType(), True)])\n",
    "# Use the DataFrameReader interface to read a CSV file\n",
    "sf_fire_file = \"sf-fire-calls.csv\"\n",
    "fire_df = spark.read.csv(sf_fire_file, header=True, schema=fire_schema)\n",
    "#Puedes observar que spark.read.csv crea un dataframe de los rows leidos por el csv, estructurados y tipados por un schema."
   ]
  },
  {
   "cell_type": "markdown",
   "id": "db4ee7fb",
   "metadata": {},
   "source": [
    "### Parquet\n",
    "Se puede guardar un dataframe con un formato de tipo Parquet, que es la de por defecto. Si un dataframe está creado con Parquet, el schema se guarda en los metadatos de Hive, por lo que no será necesario recrear otro schema en el caso de que se vuelva a guardar en un dataframe.\n",
    "\n",
    "// In Scala to save as a Parquet file\n",
    "val parquetPath = ...\n",
    "\n",
    "fireDF.write.format(\"parquet\").save(parquetPath)\n",
    "\n",
    "//In Python to save as a Parquet file\n",
    "\n",
    "parquet_path = ...\n",
    "\n",
    "fire_df.write.format(\"parquet\").save(parquet_path)\n",
    "\n"
   ]
  },
  {
   "cell_type": "code",
   "execution_count": null,
   "id": "09080e99",
   "metadata": {},
   "outputs": [],
   "source": [
    "fireDF.rdd.getNumPartitions\n",
    "fireDF.repartition(1).write.format(\"parquet\").option(\"encoding\", \"UTF-8\").save(\"prueba4.parquet\")"
   ]
  },
  {
   "cell_type": "code",
   "execution_count": null,
   "id": "bda06d00",
   "metadata": {},
   "outputs": [],
   "source": [
    "val parquetTable = \"tablaParquet\" // name of the table\n",
    "//fireDF.write.format(\"parquet\").saveAsTable(parquetTable)\n",
    "sql(\"SHOW TABLES\").show()"
   ]
  },
  {
   "cell_type": "markdown",
   "id": "9e672178",
   "metadata": {},
   "source": [
    "### Projecciones y fitlrados\n",
    "\n",
    "Las proyecciones son selects sobre undos datos determinados y filtrados, sentencias Where que deben completar la condición determinada por el programador"
   ]
  },
  {
   "cell_type": "code",
   "execution_count": null,
   "id": "665398fe",
   "metadata": {},
   "outputs": [],
   "source": [
    "// In Scala\n",
    "val fewFireDF = fireDF\n",
    " .select(\"IncidentNumber\", \"AvailableDtTm\", \"CallType\")\n",
    " .where($\"CallType\" =!= \"Medical Incident\") \n",
    "fewFireDF.show(5, false)\n"
   ]
  },
  {
   "cell_type": "code",
   "execution_count": null,
   "id": "78d8969d",
   "metadata": {},
   "outputs": [],
   "source": [
    "# In Python\n",
    "#Recoge 5 filas donde la emergencia no sea una emergencia Médica\n",
    "few_fire_df = (fire_df\n",
    " .select(\"IncidentNumber\", \"AvailableDtTm\", \"CallType\")\n",
    " .where(col(\"CallType\") != \"Medical Incident\"))\n",
    "few_fire_df.show(5, truncate=False)\n",
    "\n",
    "#Recoge todas las calls diferentes que existen en la tabla\n",
    "count_df = (fire_df\n",
    " .select(\"CallType\")\n",
    " .where(col(\"CallType\").isNotNull())\n",
    " .agg(countDistinct(\"CallType\").alias(\"DistinctCallTypes\"))\n",
    " .show())\n",
    "\n",
    "calls_df = (fire_df\n",
    " .select(\"CallType\").distinct()\n",
    " .where(col(\"CallType\").isNotNull())).show(30, False)\n",
    "                                           "
   ]
  },
  {
   "cell_type": "markdown",
   "id": "a3d02ccc",
   "metadata": {},
   "source": [
    "### Renombramiento, Adición, Eliminación de columnas en un Dataframe\n",
    "\n",
    "Usando la función withColumnRenamed() es posible cambiar el nombre de la columna. Sin embargo, como los dataframes en Spark son inmutables, no se modificarán los nombres de las columnas del dataframe original.\n",
    "\n",
    "También es posible cambiar el tipado de las columnas. Por ejemplo, algo muy importante es el casteo entre String a Date para darle un formato más adecuado a tus columnas de fechas. Esto con funciones como to_timestamp() o to_date() puedes transformar un String en tipo Date SQL.\n",
    "\n",
    "Con la función drop(), puedes seleccionar la columna que quieras borrar, en este caso puedes combinarlo con la función to_timestamp() ya que generará una columna nueva y habrá que eliminar la antigua\n",
    "\n",
    "Para columnas que están en formato DATE, podemos utilizar funciones interesantes para sacar los días, meses, y años de las fechas con day(), month(), year()."
   ]
  },
  {
   "cell_type": "code",
   "execution_count": null,
   "id": "37ef8d50",
   "metadata": {},
   "outputs": [],
   "source": [
    "# In Python\n",
    "#Renombramiento de columna\n",
    "new_fire_df = fire_df.withColumnRenamed(\"Delay\", \"ResponseDelayedinMins\")\n",
    "(new_fire_df\n",
    " .select(\"ResponseDelayedinMins\")\n",
    " .where(col(\"ResponseDelayedinMins\") > 5)\n",
    " .show(5, False))\n",
    "\n",
    "#Casteo de String a TimeStamp con formatos diferentes\n",
    "fire_ts_df = (new_fire_df\n",
    " .withColumn(\"IncidentDate\", to_timestamp(col(\"CallDate\"), \"MM/dd/yyyy\"))\n",
    " .drop(\"CallDate\")\n",
    " .withColumn(\"OnWatchDate\", to_timestamp(col(\"WatchDate\"), \"MM/dd/yyyy\"))\n",
    " .drop(\"WatchDate\")\n",
    " .withColumn(\"AvailableDtTS\", to_timestamp(col(\"AvailableDtTm\"),\n",
    " \"MM/dd/yyyy hh:mm:ss a\"))\n",
    " .drop(\"AvailableDtTm\"))\n",
    "# Select the converted columns\n",
    "(fire_ts_df\n",
    " .select(\"IncidentDate\", \"OnWatchDate\", \"AvailableDtTS\")\n",
    " .show(5, False))\n",
    "#Muestra los diferentes años de IncidentDate\n",
    "(fire_ts_df\n",
    " .select(year('IncidentDate'))\n",
    " .distinct()\n",
    " .orderBy(year('IncidentDate'))\n",
    " .show())\n",
    "\n",
    "#NO SE PROPORCIONA CÓDIGO EN SCALA, PERO ES PRÁCTICAMENTE IGUAL POR ESO NO LO PONGO."
   ]
  },
  {
   "cell_type": "markdown",
   "id": "b3fd01b1",
   "metadata": {},
   "source": [
    "## Funciones de Agregación (agg(), groupBy())\n"
   ]
  },
  {
   "cell_type": "code",
   "execution_count": null,
   "id": "59909adf",
   "metadata": {},
   "outputs": [],
   "source": [
    "# In python\n",
    "#Ordenar la cantidad de llamadas\n",
    "\n",
    "import pyspark.sql.functions as F\n",
    "\n",
    "commonCalls_df = (fire_df\n",
    " .select(\"CallType\")\n",
    " .groupBy(\"CallType\")\n",
    " .agg(count(\"*\").alias(\"Cantidad\"))\n",
    " .orderBy(\"Cantidad\", ascending=False)).show(30, False)\n"
   ]
  },
  {
   "cell_type": "code",
   "execution_count": null,
   "id": "087a6394",
   "metadata": {},
   "outputs": [],
   "source": [
    "#Todo Sobre los tipos de llamadas\n",
    "commonCalls_df = (fire_df\n",
    " .select(\"CallType\",\"NumAlarms\", \"Delay\")\n",
    " .groupBy(\"CallType\")\n",
    " .agg(count(\"*\").alias(\"Cantidad\"), F.sum(\"NumAlarms\"), F.avg(\"Delay\"), F.min(\"Delay\"), F.max(\"Delay\"))\n",
    " .orderBy(\"Cantidad\", ascending=False)).show(30, False)"
   ]
  },
  {
   "attachments": {
    "dataframesyDatasets.PNG": {
     "image/png": "[encoded data removed]"
    }
   },
   "cell_type": "markdown",
   "id": "b1caa6c6",
   "metadata": {},
   "source": [
    "# Datasets\n",
    "Desde que salió Spark 2.x.x unificaron las APIs de Dataframe y Dataset en una misma API para que lo s desarrolladores no tengan que estar aprendiéndolos individualmente.\n",
    "Hay una cosa que se debe tener en cuenta a la hora de crear Dataframes y Datasets:\n",
    "\n",
    "Scala puedes crear tanto Dataframes como Datasets\n",
    "Java solo puede crear Datasets\n",
    "Python y R solo pueden crear Dataframes\n",
    "\n",
    "![dataframesyDatasets.PNG](attachment:dataframesyDatasets.PNG)\n",
    "\n",
    "Esto se debe a que los dataframes guardan filas que son objetos genéricos y los datasets guardan objetos áltamente tipados.\n",
    "\n",
    "Python y R son lenguajes que no necesitan definir los tipos de variables ya que lo definen automáticamente durante la ejecución del código, no durante el compilado de ellas.\n",
    "EN el caso de Scala y Java, son lo contrario, es necesario especificar los tipos ya que lo realizarn en tiempo de compilación.\n",
    "\n",
    "Por lo que no usaremos Python para utilizar datasets, únicamente en Scala.\n",
    "\n",
    "OJO: No confundir estos datasets con los de la librería pandas, son cosas distintas. Aquí en Apache Spark los datasets son áltamente tipados y es necesario definir como en Dataframes, un squema.\n",
    "\n",
    "\n"
   ]
  },
  {
   "attachments": {
    "caseClasses.PNG": {
     "image/png": "[encoded data removed]"
    }
   },
   "cell_type": "markdown",
   "id": "d7d7de47",
   "metadata": {},
   "source": [
    "### Scala: Case Classes (squema en Datasets)\n",
    "\n",
    "![caseClasses.PNG](attachment:caseClasses.PNG)"
   ]
  },
  {
   "cell_type": "code",
   "execution_count": null,
   "id": "282f17fd",
   "metadata": {},
   "outputs": [],
   "source": [
    "//Para los datasets, cuando declaras una clase para estructurar el formato del dataset, siempre declarar en una celda aparte\n",
    "case class DeviceIoTData(battery_level: Long, c02_level: Long,\n",
    "cca2: String, cca3: String, cn: String, device_id: Long,\n",
    "device_name: String, humidity: Long, ip: String, latitude: Double,\n",
    "lcd: String, longitude: Double, scale:String, temp: Long,\n",
    "timestamp: Long)"
   ]
  },
  {
   "cell_type": "code",
   "execution_count": null,
   "id": "c162afca",
   "metadata": {},
   "outputs": [],
   "source": [
    "\n",
    "\n",
    "val ds = spark.read.json(\"iot_devices.json\").as[DeviceIoTData]\n",
    "ds.show(5)\n"
   ]
  },
  {
   "cell_type": "code",
   "execution_count": null,
   "id": "d6f10a6a",
   "metadata": {},
   "outputs": [],
   "source": [
    "// In Scala\n",
    "val filterTempDS = ds.where(\"temp > 30 AND humidity > 70\")\n",
    "filterTempDS.show(5, false)\n",
    "//Se raya cuando usamos filter y mapeos, DAG no se realiza bien y Spark no puede optimizar bien con el Catalyst"
   ]
  },
  {
   "cell_type": "code",
   "execution_count": null,
   "id": "95166d30",
   "metadata": {},
   "outputs": [],
   "source": [
    "val filterTempDS = ds.filter(d => {d.temp > 30 && d.humidity > 70})\n",
    "filterTempDS.take(5)\n",
    "//val filterTempDS = ds.filter($\"temp\" > 30 && $\"humidity\" > 70)\n",
    "//filterTempDS.show()"
   ]
  },
  {
   "cell_type": "code",
   "execution_count": null,
   "id": "68f99d36",
   "metadata": {},
   "outputs": [],
   "source": [
    "case class DeviceTempByCountry(temp: Long, device_name: String, device_id: Long, cca3: String)"
   ]
  },
  {
   "cell_type": "code",
   "execution_count": null,
   "id": "e26b37dd",
   "metadata": {},
   "outputs": [],
   "source": [
    "val dsTemp2 = ds\n",
    " .select($\"temp\", $\"device_name\", $\"device_id\", $\"device_id\", $\"cca3\") //Si usas col() también irá, creo\n",
    " .where(\"temp > 25\")\n",
    " .as[DeviceTempByCountry]\n",
    "\n",
    "dsTemp2.show(5)"
   ]
  },
  {
   "cell_type": "markdown",
   "id": "58a85069",
   "metadata": {},
   "source": [
    "# Diferencias entre DataFrames, Datasets y RDD"
   ]
  },
  {
   "cell_type": "markdown",
   "id": "4fa98854",
   "metadata": {},
   "source": [
    "Ya se ha explicado con anterioridad, pero hay casos donde es más útil utilizar una API frente a otros:\n",
    "\n",
    "Para decirle a Spark qué hacer, en vez de cómo hacer, se usa Dataframes y datasets, ya que con el Catalyst te optimiza de la mejor forma las instrucciones de alto nivel de las APIS de Dataframe y Dataset. Sin embargo, las transformaciones y acciones de un RDD define la ejecución computacional que realizará Spark. Si haces un map() y luego un filter(), Spark te lo hace como se lo digas. Si usas select, where con df o ds, te optimiza la ejecución y realiza transformaciones y acciones como Spark quiera.\n",
    "\n",
    "Si usas lenguajes fuertemente tipados como Java que se definan en tiempo de compilación, se usa Datasets.\n",
    "\n",
    "Si usas queries parecidos a SQL, usa Dataframes\n",
    "\n",
    "Si usas Python o R usa Dataframes.\n",
    "\n",
    "Si necesitas paquetes de terceros escritos en RDD, usa RDD\n",
    "\n",
    "Si quieres explicar a Spark co+ómo hacer las cosas, usa RDD"
   ]
  },
  {
   "cell_type": "markdown",
   "id": "739fd553",
   "metadata": {},
   "source": [
    "# Catalyst"
   ]
  },
  {
   "cell_type": "markdown",
   "id": "84704aff",
   "metadata": {},
   "source": [
    "Recoge una instrucción de alto nivel y optimiza su computación realizando un plan de ejecución.\n",
    "Las fases del plan son:\n",
    "1. Análisis\n",
    "2. Optimización lógica\n",
    "3. Planificación Física\n",
    "4. Generación de código"
   ]
  },
  {
   "cell_type": "markdown",
   "id": "762d5e4b",
   "metadata": {},
   "source": [
    "### Ejercicios externos Capítulo 3"
   ]
  },
  {
   "cell_type": "code",
   "execution_count": 62,
   "id": "5a792fe6",
   "metadata": {},
   "outputs": [
    {
     "data": {
      "text/plain": [
       "mnmFile: String = mnm_dataset.csv\r\n",
       "mnmDF: org.apache.spark.sql.DataFrame = [State: string, Color: string ... 1 more field]\r\n"
      ]
     },
     "execution_count": 62,
     "metadata": {},
     "output_type": "execute_result"
    }
   ],
   "source": [
    "val mnmFile = \"mnm_dataset.csv\"\n",
    "    // read the file into a Spark DataFrame\n",
    "val mnmDF = spark.read.format(\"csv\")\n",
    "      .option(\"header\", \"true\")\n",
    "      .option(\"inferSchema\", \"true\")\n",
    "      .load(mnmFile)\n",
    "    // display DataFrame"
   ]
  },
  {
   "cell_type": "code",
   "execution_count": 63,
   "id": "e1a7e4d1",
   "metadata": {},
   "outputs": [
    {
     "name": "stdout",
     "output_type": "stream",
     "text": [
      "root\n",
      " |-- State: string (nullable = true)\n",
      " |-- Color: string (nullable = true)\n",
      " |-- Count: integer (nullable = true)\n",
      "\n",
      "()"
     ]
    }
   ],
   "source": [
    "//B\n",
    "print(mnmDF.printSchema())\n",
    "//C El segundo parámetro se refiere a si puede o no contener un dato nulo, si es False, no puede contener campos Nulos\n",
    "//D A nivel de código, La API de Dataframe sirve para realizar funciones semejantes al lenguaje de SQL, Datasets, puedes combinar\n",
    "//los mismos tipos de queries, con funcionces tipo lambda con map() reduce() y utiliza el Catalyst para optimizar la ejecución.\n"
   ]
  },
  {
   "cell_type": "code",
   "execution_count": null,
   "id": "1f055591",
   "metadata": {},
   "outputs": [],
   "source": [
    "// In Scala it would be similar\n",
    "import org.apache.spark.sql.types._\n",
    "\n",
    "val fireSchema = StructType(Array(StructField(\"UnitID\", StringType, true),\n",
    " StructField(\"IncidentNumber\", IntegerType, true),\n",
    " StructField(\"CallType\", StringType, true), \n",
    " StructField(\"CallDate\", StringType, true), \n",
    " StructField(\"WatchDate\", StringType, true),\n",
    " StructField(\"CallFinalDisposition\", StringType, true),\n",
    " StructField(\"AvailableDtTm\", StringType, true),\n",
    " StructField(\"Address\", StringType, true), \n",
    " StructField(\"City\", StringType, true), \n",
    " StructField(\"Zipcode\", IntegerType, true), \n",
    " StructField(\"Battalion\", StringType, true), \n",
    " StructField(\"StationArea\", StringType, true), \n",
    " StructField(\"Box\", StringType, true), \n",
    " StructField(\"OriginalPriority\", StringType, true), \n",
    " StructField(\"Priority\", StringType, true), \n",
    " StructField(\"FinalPriority\", IntegerType, true), \n",
    " StructField(\"ALSUnit\", BooleanType, true), \n",
    " StructField(\"CallTypeGroup\", StringType, true),\n",
    " StructField(\"NumAlarms\", IntegerType, true),\n",
    " StructField(\"UnitType\", StringType, true),\n",
    " StructField(\"UnitSequenceInCallDispatch\", IntegerType, true),\n",
    " StructField(\"FirePreventionDistrict\", StringType, true),\n",
    " StructField(\"SupervisorDistrict\", StringType, true),\n",
    " StructField(\"Neighborhood\", StringType, true),\n",
    " StructField(\"Location\", StringType, true),\n",
    " StructField(\"RowID\", StringType, true),\n",
    " StructField(\"Delay\", FloatType, true)))\n",
    "// Read the file using the CSV DataFrameReader\n",
    "val sfFireFile=\"sf-fire-calls.csv\"\n",
    "val fireDF = spark.read.schema(fireSchema)\n",
    " .option(\"header\", \"true\")\n",
    " .csv(sfFireFile)"
   ]
  },
  {
   "cell_type": "code",
   "execution_count": 4,
   "id": "fe43fc8a",
   "metadata": {},
   "outputs": [],
   "source": [
    "//Avro es externo a Spark por lo que es necesario descargar un jar e importar la librería avro\n",
    "import org.apache.spark.sql.avro.functions._\n",
    "\n",
    "fireDF.rdd.getNumPartitions\n",
    "\n",
    "//De dataframe a fichero AVRO\n",
    "fireDF.write\n",
    " .format(\"avro\")\n",
    " .mode(\"overwrite\")\n",
    " .save(\"Avro/fireAvro\")\n",
    "//En caso de cambiar el número de particiones a 1:\n",
    "fireDF.repartition(1)\n",
    " .write\n",
    " .format(\"avro\")\n",
    " .mode(\"overwrite\")\n",
    " .save(\"Avro/fireAvro2\")\n"
   ]
  },
  {
   "cell_type": "code",
   "execution_count": null,
   "id": "251424ae",
   "metadata": {},
   "outputs": [],
   "source": [
    "//3 posibles casos\n",
    "//mira diferencia entre coalesce y repartition\n",
    "//fireDF.write.format(\"json\").save(\"prueba.json\")\n",
    "//fireDF.repartition(1).write.format(\"json\").save(\"prueba1.json\")\n",
    "val p1 = mnmDF.repartition(6,col(\"Color\"))\n",
    "p1.rdd.getNumPartitions\n",
    "//probar a jugar con los parámetros de repartition"
   ]
  },
  {
   "cell_type": "code",
   "execution_count": null,
   "id": "0b180331",
   "metadata": {},
   "outputs": [],
   "source": [
    "//Buscar una alternativa para escribir el nombre del color en vez de partition_id\n",
    "p1.withColumn(\"partition_id\", spark_partition_id()).withColumn(\"Color\", col(\"Color\")).groupBy(\"partition_id\", \"Color\").agg(count(\"Color\")).orderBy(\"partition_id\").show()"
   ]
  },
  {
   "cell_type": "code",
   "execution_count": null,
   "id": "cf11764f",
   "metadata": {},
   "outputs": [],
   "source": [
    "#in python\n",
    "def print_partitions(df):\n",
    "numPartitions = df.rdd.getNumPartitions()\n",
    "print(\"Total partitions: {}\".format(numPartitions))\n",
    "print(\"Partitioner: {}\".format(df.rdd.partitioner))\n",
    "df.explain()\n",
    "parts = df.rdd.glom().collect()\n",
    "i = 0\n",
    "j = 0\n",
    "for p in parts:\n",
    "print(\"Partition {}:\".format(i))\n",
    "for r in p:\n",
    "print(\"Row {}:{}\".format(j, r))\n",
    "j = j+1\n",
    "i = i+1\n",
    "\n",
    "print_partitions(df_prueba)"
   ]
  },
  {
   "cell_type": "markdown",
   "id": "e8811b5a",
   "metadata": {},
   "source": [
    "# Capítulo 4 Spark SQL y Dataframes\n",
    "\n",
    "En éste capítulo vamos a hablar sobre la interfaz SQL y los dataframes. EN el capítulo anterior hablamos de funciones que tienens las APIs de Dataframe t Dataset, pero en este capítulo vamos a ir un poco más allá.\n",
    "\n",
    "Es posible utilizar en Spark toda sentencia SQL con la función sql(). Por ejemplo sql(Select * FROM Tabla) La función devuelve un dataframe con los datos que quieres.\n",
    "\n",
    "En este ejemplo, vamos a insertar los datos leídos en una tabla temporal:\n"
   ]
  },
  {
   "cell_type": "code",
   "execution_count": 1,
   "id": "87fc7c16",
   "metadata": {},
   "outputs": [
    {
     "data": {
      "text/plain": [
       "Intitializing Scala interpreter ..."
      ]
     },
     "metadata": {},
     "output_type": "display_data"
    },
    {
     "data": {
      "text/plain": [
       "Spark Web UI available at http://EM2021002844.bosonit.local:4040\n",
       "SparkContext available as 'sc' (version = 3.1.1, master = local[*], app id = local-1622802788408)\n",
       "SparkSession available as 'spark'\n"
      ]
     },
     "metadata": {},
     "output_type": "display_data"
    },
    {
     "data": {
      "text/plain": [
       "csvFile: String = departuredelays.csv\r\n",
       "df: org.apache.spark.sql.DataFrame = [date: int, delay: int ... 3 more fields]\r\n"
      ]
     },
     "execution_count": 1,
     "metadata": {},
     "output_type": "execute_result"
    }
   ],
   "source": [
    "// Path to data set \n",
    "val csvFile=\"departuredelays.csv\"\n",
    "// Read and create a temporary view\n",
    "// Infer schema (note that for larger files you may want to specify the schema)\n",
    "val df = spark.read.format(\"csv\")\n",
    " .option(\"inferSchema\", \"true\")\n",
    " .option(\"header\", \"true\")\n",
    " .load(csvFile)\n",
    "// Create a temporary view\n",
    "df.createOrReplaceTempView(\"us_delay_flights_tbl\")\n"
   ]
  },
  {
   "cell_type": "code",
   "execution_count": 3,
   "id": "6a9f0c73",
   "metadata": {},
   "outputs": [
    {
     "name": "stdout",
     "output_type": "stream",
     "text": [
      "+--------+--------------------+-----------+\n",
      "|database|           tableName|isTemporary|\n",
      "+--------+--------------------+-----------+\n",
      "|        |us_delay_flights_tbl|       true|\n",
      "+--------+--------------------+-----------+\n",
      "\n",
      "+-------+-----+--------+------+-----------+\n",
      "|   date|delay|distance|origin|destination|\n",
      "+-------+-----+--------+------+-----------+\n",
      "|1011245|    6|     602|   ABE|        ATL|\n",
      "|1020600|   -8|     369|   ABE|        DTW|\n",
      "|1021245|   -2|     602|   ABE|        ATL|\n",
      "|1020605|   -4|     602|   ABE|        ATL|\n",
      "|1031245|   -4|     602|   ABE|        ATL|\n",
      "|1030605|    0|     602|   ABE|        ATL|\n",
      "|1041243|   10|     602|   ABE|        ATL|\n",
      "|1040605|   28|     602|   ABE|        ATL|\n",
      "|1051245|   88|     602|   ABE|        ATL|\n",
      "|1050605|    9|     602|   ABE|        ATL|\n",
      "|1061215|   -6|     602|   ABE|        ATL|\n",
      "|1061725|   69|     602|   ABE|        ATL|\n",
      "|1061230|    0|     369|   ABE|        DTW|\n",
      "|1060625|   -3|     602|   ABE|        ATL|\n",
      "|1070600|    0|     369|   ABE|        DTW|\n",
      "|1071725|    0|     602|   ABE|        ATL|\n",
      "|1071230|    0|     369|   ABE|        DTW|\n",
      "|1070625|    0|     602|   ABE|        ATL|\n",
      "|1071219|    0|     569|   ABE|        ORD|\n",
      "|1080600|    0|     369|   ABE|        DTW|\n",
      "+-------+-----+--------+------+-----------+\n",
      "only showing top 20 rows\n",
      "\n"
     ]
    }
   ],
   "source": [
    "sql(\"Show Tables\").show()\n",
    "sql(\"select * from us_delay_flights_tbl\").show()"
   ]
  },
  {
   "cell_type": "code",
   "execution_count": 4,
   "id": "1f0f25af",
   "metadata": {},
   "outputs": [
    {
     "name": "stdout",
     "output_type": "stream",
     "text": [
      "root\n",
      " |-- date: integer (nullable = true)\n",
      " |-- delay: integer (nullable = true)\n",
      " |-- distance: integer (nullable = true)\n",
      " |-- origin: string (nullable = true)\n",
      " |-- destination: string (nullable = true)\n",
      "\r\n"
     ]
    }
   ],
   "source": [
    "df.printSchema"
   ]
  },
  {
   "cell_type": "code",
   "execution_count": 43,
   "id": "51a3e344",
   "metadata": {},
   "outputs": [
    {
     "data": {
      "text/plain": [
       "schema: String = date STRING, delay INT, distance INT, origin STRING, destination STRING\r\n"
      ]
     },
     "execution_count": 43,
     "metadata": {},
     "output_type": "execute_result"
    }
   ],
   "source": [
    "val schema = \"date STRING, delay INT, distance INT, origin STRING, destination STRING\"\n"
   ]
  },
  {
   "cell_type": "code",
   "execution_count": 58,
   "id": "a7f5d0e1",
   "metadata": {},
   "outputs": [
    {
     "name": "stdout",
     "output_type": "stream",
     "text": [
      "root\n",
      " |-- date: string (nullable = true)\n",
      " |-- delay: integer (nullable = true)\n",
      " |-- distance: integer (nullable = true)\n",
      " |-- origin: string (nullable = true)\n",
      " |-- destination: string (nullable = true)\n",
      "\n",
      "+--------+-----+--------+------+-----------+\n",
      "|    date|delay|distance|origin|destination|\n",
      "+--------+-----+--------+------+-----------+\n",
      "|01011245|    6|     602|   ABE|        ATL|\n",
      "|01020600|   -8|     369|   ABE|        DTW|\n",
      "|01021245|   -2|     602|   ABE|        ATL|\n",
      "|01020605|   -4|     602|   ABE|        ATL|\n",
      "|01031245|   -4|     602|   ABE|        ATL|\n",
      "|01030605|    0|     602|   ABE|        ATL|\n",
      "|01041243|   10|     602|   ABE|        ATL|\n",
      "|01040605|   28|     602|   ABE|        ATL|\n",
      "|01051245|   88|     602|   ABE|        ATL|\n",
      "|01050605|    9|     602|   ABE|        ATL|\n",
      "|01061215|   -6|     602|   ABE|        ATL|\n",
      "|01061725|   69|     602|   ABE|        ATL|\n",
      "|01061230|    0|     369|   ABE|        DTW|\n",
      "|01060625|   -3|     602|   ABE|        ATL|\n",
      "|01070600|    0|     369|   ABE|        DTW|\n",
      "|01071725|    0|     602|   ABE|        ATL|\n",
      "|01071230|    0|     369|   ABE|        DTW|\n",
      "|01070625|    0|     602|   ABE|        ATL|\n",
      "|01071219|    0|     569|   ABE|        ORD|\n",
      "|01080600|    0|     369|   ABE|        DTW|\n",
      "+--------+-----+--------+------+-----------+\n",
      "only showing top 20 rows\n",
      "\n"
     ]
    },
    {
     "data": {
      "text/plain": [
       "df2: org.apache.spark.sql.DataFrame = [date: string, delay: int ... 3 more fields]\r\n"
      ]
     },
     "execution_count": 58,
     "metadata": {},
     "output_type": "execute_result"
    }
   ],
   "source": [
    "val df2 = spark.read.schema(schema).option(\"header\", \"true\").csv(csvFile)\n",
    "df2.printSchema\n",
    "df2.show()"
   ]
  },
  {
   "cell_type": "code",
   "execution_count": 24,
   "id": "b0422d53",
   "metadata": {},
   "outputs": [
    {
     "name": "stdout",
     "output_type": "stream",
     "text": [
      "+-------+--------+------+-----------+\n",
      "|   date|distance|origin|destination|\n",
      "+-------+--------+------+-----------+\n",
      "|1091625|    4330|   HNL|        JFK|\n",
      "|1051625|    4330|   HNL|        JFK|\n",
      "|1081625|    4330|   HNL|        JFK|\n",
      "|1021625|    4330|   HNL|        JFK|\n",
      "|1041625|    4330|   HNL|        JFK|\n",
      "|1061625|    4330|   HNL|        JFK|\n",
      "|1071625|    4330|   HNL|        JFK|\n",
      "|1011625|    4330|   HNL|        JFK|\n",
      "|1111625|    4330|   HNL|        JFK|\n",
      "|1031625|    4330|   HNL|        JFK|\n",
      "+-------+--------+------+-----------+\n",
      "only showing top 10 rows\n",
      "\n",
      "+-------+--------+------+-----------+\n",
      "|   date|distance|origin|destination|\n",
      "+-------+--------+------+-----------+\n",
      "|3131530|    4330|   HNL|        JFK|\n",
      "|3071625|    4330|   HNL|        JFK|\n",
      "|3121530|    4330|   HNL|        JFK|\n",
      "|3021625|    4330|   HNL|        JFK|\n",
      "|3061625|    4330|   HNL|        JFK|\n",
      "|3081530|    4330|   HNL|        JFK|\n",
      "|3091530|    4330|   HNL|        JFK|\n",
      "|3011625|    4330|   HNL|        JFK|\n",
      "|3151530|    4330|   HNL|        JFK|\n",
      "|3051625|    4330|   HNL|        JFK|\n",
      "+-------+--------+------+-----------+\n",
      "only showing top 10 rows\n",
      "\n"
     ]
    }
   ],
   "source": [
    "//Muestra los 10 vuelos más largos que superen los 1000 millas\n",
    "spark.sql(\"SELECT date, distance, origin, destination \" +\n",
    "\"FROM us_delay_flights_tbl \" +\n",
    "\"WHERE distance > 1000 ORDER BY distance DESC\").show(10)\n",
    "\n",
    "df.select(\"date\", \"distance\", \"origin\", \"destination\")\n",
    " .where(\"distance > 1000\")\n",
    " .orderBy(col(\"distance\").desc).show(10)"
   ]
  },
  {
   "cell_type": "code",
   "execution_count": 21,
   "id": "4f8f91c2",
   "metadata": {},
   "outputs": [
    {
     "name": "stdout",
     "output_type": "stream",
     "text": [
      "+-------+-----+------+-----------+\n",
      "|   date|delay|origin|destination|\n",
      "+-------+-----+------+-----------+\n",
      "|2190925| 1638|   SFO|        ORD|\n",
      "|1031755|  396|   SFO|        ORD|\n",
      "|1022330|  326|   SFO|        ORD|\n",
      "|1051205|  320|   SFO|        ORD|\n",
      "|1190925|  297|   SFO|        ORD|\n",
      "|2171115|  296|   SFO|        ORD|\n",
      "|1071040|  279|   SFO|        ORD|\n",
      "|1051550|  274|   SFO|        ORD|\n",
      "|3120730|  266|   SFO|        ORD|\n",
      "|1261104|  258|   SFO|        ORD|\n",
      "+-------+-----+------+-----------+\n",
      "only showing top 10 rows\n",
      "\n",
      "+-------+-----+------+-----------+\n",
      "|   date|delay|origin|destination|\n",
      "+-------+-----+------+-----------+\n",
      "|2190925| 1638|   SFO|        ORD|\n",
      "|1031755|  396|   SFO|        ORD|\n",
      "|1022330|  326|   SFO|        ORD|\n",
      "|1051205|  320|   SFO|        ORD|\n",
      "|1190925|  297|   SFO|        ORD|\n",
      "|2171115|  296|   SFO|        ORD|\n",
      "|1071040|  279|   SFO|        ORD|\n",
      "|1051550|  274|   SFO|        ORD|\n",
      "|3120730|  266|   SFO|        ORD|\n",
      "|1261104|  258|   SFO|        ORD|\n",
      "+-------+-----+------+-----------+\n",
      "only showing top 10 rows\n",
      "\n"
     ]
    }
   ],
   "source": [
    "//Muestra 10 vuelos que empiecen en SFO y terminen en ORD, que hayan tenido un delay\n",
    "spark.sql(\"\"\"SELECT date, delay, origin, destination \n",
    "FROM us_delay_flights_tbl \n",
    "WHERE delay > 120 AND ORIGIN = 'SFO' AND DESTINATION = 'ORD' \n",
    "ORDER by delay DESC\"\"\").show(10)\n",
    "\n",
    "df.select(\"date\",\"delay\", \"origin\", \"destination\")\n",
    " .where(col(\"delay\") > 120 && col(\"origin\") === \"SFO\" && col(\"destination\") === \"ORD\")\n",
    " .orderBy(col(\"delay\").desc).show(10)"
   ]
  },
  {
   "cell_type": "code",
   "execution_count": 19,
   "id": "bc35d1d8",
   "metadata": {},
   "outputs": [
    {
     "name": "stdout",
     "output_type": "stream",
     "text": [
      "+-----+------+-----------+-------------+\n",
      "|delay|origin|destination|Flight_Delays|\n",
      "+-----+------+-----------+-------------+\n",
      "|  333|   ABE|        ATL|  Long Delays|\n",
      "|  305|   ABE|        ATL|  Long Delays|\n",
      "|  275|   ABE|        ATL|  Long Delays|\n",
      "|  257|   ABE|        ATL|  Long Delays|\n",
      "|  247|   ABE|        ATL|  Long Delays|\n",
      "|  247|   ABE|        DTW|  Long Delays|\n",
      "|  219|   ABE|        ORD|  Long Delays|\n",
      "|  211|   ABE|        ATL|  Long Delays|\n",
      "|  197|   ABE|        DTW|  Long Delays|\n",
      "|  192|   ABE|        ORD|  Long Delays|\n",
      "+-----+------+-----------+-------------+\n",
      "only showing top 10 rows\n",
      "\n",
      "+-----+------+-----------+----------------+\n",
      "|delay|origin|destination|   Flight_Delays|\n",
      "+-----+------+-----------+----------------+\n",
      "|  475|   YUM|        PHX|Very Long Delays|\n",
      "|  347|   YUM|        LAX|     Long Delays|\n",
      "|  333|   YUM|        LAX|     Long Delays|\n",
      "|  285|   YUM|        PHX|     Long Delays|\n",
      "|  267|   YUM|        LAX|     Long Delays|\n",
      "|  236|   YUM|        LAX|     Long Delays|\n",
      "|  231|   YUM|        LAX|     Long Delays|\n",
      "|  230|   YUM|        PHX|     Long Delays|\n",
      "|  172|   YUM|        LAX|     Long Delays|\n",
      "|  154|   YUM|        LAX|     Long Delays|\n",
      "|  135|   YUM|        LAX|     Long Delays|\n",
      "|   97|   YUM|        LAX|    Short Delays|\n",
      "|   97|   YUM|        LAX|    Short Delays|\n",
      "|   95|   YUM|        PHX|    Short Delays|\n",
      "|   82|   YUM|        LAX|    Short Delays|\n",
      "|   79|   YUM|        LAX|    Short Delays|\n",
      "|   74|   YUM|        PHX|    Short Delays|\n",
      "|   63|   YUM|        LAX|    Short Delays|\n",
      "|   53|   YUM|        LAX|Tolerable Delays|\n",
      "|   52|   YUM|        LAX|Tolerable Delays|\n",
      "+-----+------+-----------+----------------+\n",
      "only showing top 20 rows\n",
      "\n"
     ]
    }
   ],
   "source": [
    "//Nombra un tipo de delay para cada caso\n",
    "spark.sql(\"\"\"SELECT delay, origin, destination,\n",
    " CASE\n",
    " WHEN delay > 360 THEN 'Very Long Delays'\n",
    " WHEN delay > 120 AND delay < 360 THEN 'Long Delays'\n",
    " WHEN delay > 60 AND delay < 120 THEN 'Short Delays'\n",
    " WHEN delay > 0 and delay < 60 THEN 'Tolerable Delays'\n",
    " WHEN delay = 0 THEN 'No Delays'\n",
    " ELSE 'Early'\n",
    " END AS Flight_Delays\n",
    " FROM us_delay_flights_tbl\n",
    " ORDER BY origin, delay DESC\"\"\").show(10)\n",
    "\n",
    "df.select($\"delay\", $\"origin\", $\"destination\")\n",
    " .withColumn(\"Flight_Delays\", when($\"delay\" > 360, \"Very Long Delays\")\n",
    "             .when($\"delay\" > 120 && $\"delay\" < 360, \"Long Delays\")\n",
    "             .when($\"delay\" > 60 && $\"delay\" < 120, \"Short Delays\")\n",
    "             .when($\"delay\" > 0 && $\"delay\" < 600, \"Tolerable Delays\")\n",
    "             .when($\"delay\" === 0, \"No Delays\")\n",
    "             .otherwise(\"Early\"))\n",
    " .orderBy(col(\"origin\").desc, col(\"delay\").desc).show()"
   ]
  },
  {
   "cell_type": "markdown",
   "id": "e847e46d",
   "metadata": {},
   "source": [
    "### Metastore\n",
    "\n",
    "Por defecto, todas las tablas generadas con los datos, se almacenan en el metastore de Hive, en el directorio /user/hive/warehouse.\n",
    "\n",
    "Se puede cambiar esta ubicación para almacenarlo en otro directorio e incluso en algún servidor externo.\n",
    "\n",
    "Para poder ver los metadatos, se puede usar las funcionalidades de Catalog \n",
    "Spark te deja crear 2 tipos de tablas, administrada y no administrada. Administrada quiere decir que Spark controla los metadatos tanto de la tabla como de los datos. La no administrada, únicamente controla las de la tabla, y los datos se deben administrar en algún recurso externo como Cassandra.\n",
    "\n",
    "Todas las tablas que se crean tienen que estar enlazadas con una base de datos. Por defecto, todas las tablas generadas, se crean en base a \"default\" database.\n",
    "\n",
    "En estos ejemplos, vamos a crear los dos tipos de tablas:"
   ]
  },
  {
   "cell_type": "code",
   "execution_count": 4,
   "id": "f31e5162",
   "metadata": {},
   "outputs": [
    {
     "data": {
      "text/plain": [
       "res3: org.apache.spark.sql.DataFrame = []\r\n"
      ]
     },
     "execution_count": 4,
     "metadata": {},
     "output_type": "execute_result"
    }
   ],
   "source": [
    "//Para crear tu propio database, fíjate que se parece a los comandos estudiados en Hive, mi teoría es que sql() utiliza la API de Hive\n",
    "spark.sql(\"CREATE DATABASE learn_spark_db\")\n",
    "spark.sql(\"USE learn_spark_db\")"
   ]
  },
  {
   "cell_type": "code",
   "execution_count": 5,
   "id": "ecb4612a",
   "metadata": {},
   "outputs": [
    {
     "ename": "org.apache.spark.sql.AnalysisException",
     "evalue": " Hive support is required to CREATE Hive TABLE (AS SELECT);\r",
     "output_type": "error",
     "traceback": [
      "org.apache.spark.sql.AnalysisException: Hive support is required to CREATE Hive TABLE (AS SELECT);\r",
      "'CreateTable `learn_spark_db`.`managed_us_delay_flights_tbl`, org.apache.hadoop.hive.serde2.lazy.LazySimpleSerDe, ErrorIfExists\r",
      "\r",
      "  at org.apache.spark.sql.execution.datasources.HiveOnlyCheck$.$anonfun$apply$4(rules.scala:462)\r",
      "  at org.apache.spark.sql.execution.datasources.HiveOnlyCheck$.$anonfun$apply$4$adapted(rules.scala:460)\r",
      "  at org.apache.spark.sql.catalyst.trees.TreeNode.foreach(TreeNode.scala:173)\r",
      "  at org.apache.spark.sql.execution.datasources.HiveOnlyCheck$.apply(rules.scala:460)\r",
      "  at org.apache.spark.sql.execution.datasources.HiveOnlyCheck$.apply(rules.scala:458)\r",
      "  at org.apache.spark.sql.catalyst.analysis.CheckAnalysis.$anonfun$checkAnalysis$46(CheckAnalysis.scala:699)\r",
      "  at org.apache.spark.sql.catalyst.analysis.CheckAnalysis.$anonfun$checkAnalysis$46$adapted(CheckAnalysis.scala:699)\r",
      "  at scala.collection.mutable.ResizableArray.foreach(ResizableArray.scala:62)\r",
      "  at scala.collection.mutable.ResizableArray.foreach$(ResizableArray.scala:55)\r",
      "  at scala.collection.mutable.ArrayBuffer.foreach(ArrayBuffer.scala:49)\r",
      "  at org.apache.spark.sql.catalyst.analysis.CheckAnalysis.checkAnalysis(CheckAnalysis.scala:699)\r",
      "  at org.apache.spark.sql.catalyst.analysis.CheckAnalysis.checkAnalysis$(CheckAnalysis.scala:90)\r",
      "  at org.apache.spark.sql.catalyst.analysis.Analyzer.checkAnalysis(Analyzer.scala:155)\r",
      "  at org.apache.spark.sql.catalyst.analysis.Analyzer.$anonfun$executeAndCheck$1(Analyzer.scala:176)\r",
      "  at org.apache.spark.sql.catalyst.plans.logical.AnalysisHelper$.markInAnalyzer(AnalysisHelper.scala:228)\r",
      "  at org.apache.spark.sql.catalyst.analysis.Analyzer.executeAndCheck(Analyzer.scala:173)\r",
      "  at org.apache.spark.sql.execution.QueryExecution.$anonfun$analyzed$1(QueryExecution.scala:73)\r",
      "  at org.apache.spark.sql.catalyst.QueryPlanningTracker.measurePhase(QueryPlanningTracker.scala:111)\r",
      "  at org.apache.spark.sql.execution.QueryExecution.$anonfun$executePhase$1(QueryExecution.scala:143)\r",
      "  at org.apache.spark.sql.SparkSession.withActive(SparkSession.scala:772)\r",
      "  at org.apache.spark.sql.execution.QueryExecution.executePhase(QueryExecution.scala:143)\r",
      "  at org.apache.spark.sql.execution.QueryExecution.analyzed$lzycompute(QueryExecution.scala:73)\r",
      "  at org.apache.spark.sql.execution.QueryExecution.analyzed(QueryExecution.scala:71)\r",
      "  at org.apache.spark.sql.execution.QueryExecution.assertAnalyzed(QueryExecution.scala:63)\r",
      "  at org.apache.spark.sql.Dataset$.$anonfun$ofRows$2(Dataset.scala:98)\r",
      "  at org.apache.spark.sql.SparkSession.withActive(SparkSession.scala:772)\r",
      "  at org.apache.spark.sql.Dataset$.ofRows(Dataset.scala:96)\r",
      "  at org.apache.spark.sql.SparkSession.$anonfun$sql$1(SparkSession.scala:615)\r",
      "  at org.apache.spark.sql.SparkSession.withActive(SparkSession.scala:772)\r",
      "  at org.apache.spark.sql.SparkSession.sql(SparkSession.scala:610)\r",
      "  ... 37 elided\r",
      ""
     ]
    }
   ],
   "source": [
    "//Da error, lo más probable es que se necesite especificar as Hive para crearlo\n",
    "spark.sql(\"CREATE TABLE managed_us_delay_flights_tbl (date STRING, delay INT, distance INT, origin STRING, destination STRING)\")"
   ]
  },
  {
   "cell_type": "code",
   "execution_count": 7,
   "id": "1b55563a",
   "metadata": {},
   "outputs": [
    {
     "data": {
      "text/plain": [
       "csv_file: String = departuredelays.csv\r\n",
       "schema: String = date STRING, delay INT, distance INT, origin STRING, destination STRING\r\n",
       "flights_df: org.apache.spark.sql.DataFrame = [date: string, delay: int ... 3 more fields]\r\n"
      ]
     },
     "execution_count": 7,
     "metadata": {},
     "output_type": "execute_result"
    }
   ],
   "source": [
    "//Crea una tabla administrada\n",
    "val csv_file = \"departuredelays.csv\"\n",
    "val schema=\"date STRING, delay INT, distance INT, origin STRING, destination STRING\"\n",
    "val flights_df = spark.read.schema(schema).option(\"header\", \"true\").csv(csv_file)\n",
    "flights_df.write.saveAsTable(\"managed_us_delay_flights_tbl\")\n"
   ]
  },
  {
   "cell_type": "code",
   "execution_count": 12,
   "id": "c6c9b978",
   "metadata": {},
   "outputs": [
    {
     "ename": "org.apache.spark.sql.AnalysisException",
     "evalue": " Table `us_delay_flights_tbl2` already exists.\r",
     "output_type": "error",
     "traceback": [
      "org.apache.spark.sql.AnalysisException: Table `us_delay_flights_tbl2` already exists.\r",
      "  at org.apache.spark.sql.DataFrameWriter.saveAsTable(DataFrameWriter.scala:702)\r",
      "  at org.apache.spark.sql.DataFrameWriter.saveAsTable(DataFrameWriter.scala:626)\r",
      "  ... 37 elided\r",
      ""
     ]
    }
   ],
   "source": [
    "//Crea una tabla no administrada\n",
    "flights_df\n",
    " .write\n",
    " .option(\"path\", \"/tmp/data/us_flights_delay\")\n",
    " .saveAsTable(\"us_delay_flights_tbl3\")"
   ]
  },
  {
   "cell_type": "markdown",
   "id": "2b9cc28a",
   "metadata": {},
   "source": [
    "### Creación de vistas\n",
    "\n",
    "Es posible crear vistas temporales dentro de Spark.\n",
    "Las vistas pueden actuar como si fueran tablas, usando las APIs o sentencias SQL puedes mostrar datos de ella.\n",
    "Sin embargo, las vistas no contienen en realidad los datos, y en el momento que se termine la Spark session, se borra la vista. En cambio, con las tablas, estos se persisten.\n",
    "Las vistas pueden ser globales o no globales. La diferencia es que las globales pueden ser usadas en cualquier Spark Session dentro de un clúster y el otro únicamente en la Spark Session donde se ha creado.\n",
    "\n",
    "Hay que tener en cuenta de que si usamos vistas globales, es necesario utilizar el prefijo global_temp ya que por defecto, todas las vistas globales se crean en una base de datos global llamada global.temp"
   ]
  },
  {
   "cell_type": "code",
   "execution_count": 38,
   "id": "696f6514",
   "metadata": {},
   "outputs": [
    {
     "data": {
      "text/plain": [
       "df_sfo: org.apache.spark.sql.DataFrame = [date: int, delay: int ... 2 more fields]\r\n",
       "df_jfk: org.apache.spark.sql.DataFrame = [date: int, delay: int ... 2 more fields]\r\n"
      ]
     },
     "execution_count": 38,
     "metadata": {},
     "output_type": "execute_result"
    }
   ],
   "source": [
    "val df_sfo = spark.sql(\"SELECT date, delay, origin, destination FROM us_delay_flights_tbl WHERE origin = 'SFO'\")\n",
    "val df_jfk = spark.sql(\"SELECT date, delay, origin, destination FROM us_delay_flights_tbl WHERE origin = 'JFK'\")\n",
    "// Create a temporary and global temporary view\n",
    "df_sfo.createOrReplaceGlobalTempView(\"us_origin_airport_SFO_global_tmp_view\")\n",
    "df_jfk.createOrReplaceTempView(\"us_origin_airport_JFK_tmp_view\")"
   ]
  },
  {
   "cell_type": "code",
   "execution_count": 42,
   "id": "d92a36d4",
   "metadata": {},
   "outputs": [
    {
     "name": "stdout",
     "output_type": "stream",
     "text": [
      "+-------+-----+------+-----------+\n",
      "|   date|delay|origin|destination|\n",
      "+-------+-----+------+-----------+\n",
      "|1011250|   55|   SFO|        JFK|\n",
      "|1012230|    0|   SFO|        JFK|\n",
      "|1010705|   -7|   SFO|        JFK|\n",
      "|1010620|   -3|   SFO|        MIA|\n",
      "|1010915|   -3|   SFO|        LAX|\n",
      "|1011005|   -8|   SFO|        DFW|\n",
      "|1011800|    0|   SFO|        ORD|\n",
      "|1011740|   -7|   SFO|        LAX|\n",
      "|1012015|   -7|   SFO|        LAX|\n",
      "|1012110|   -1|   SFO|        MIA|\n",
      "|1011610|  134|   SFO|        DFW|\n",
      "|1011240|   -6|   SFO|        MIA|\n",
      "|1010755|   -3|   SFO|        DFW|\n",
      "|1010020|    0|   SFO|        DFW|\n",
      "|1010705|   -6|   SFO|        LAX|\n",
      "|1010925|   -3|   SFO|        ORD|\n",
      "|1010555|   -6|   SFO|        ORD|\n",
      "|1011105|   -8|   SFO|        DFW|\n",
      "|1012330|   32|   SFO|        ORD|\n",
      "|1011330|    3|   SFO|        DFW|\n",
      "+-------+-----+------+-----------+\n",
      "only showing top 20 rows\n",
      "\n",
      "+-------+-----+------+-----------+\n",
      "|   date|delay|origin|destination|\n",
      "+-------+-----+------+-----------+\n",
      "|1010900|   14|   JFK|        LAX|\n",
      "|1011200|   -3|   JFK|        LAX|\n",
      "|1011900|    2|   JFK|        LAX|\n",
      "|1011700|   11|   JFK|        LAS|\n",
      "|1010800|   -1|   JFK|        SFO|\n",
      "|1011540|   -4|   JFK|        DFW|\n",
      "|1011705|    5|   JFK|        SAN|\n",
      "|1011530|   -3|   JFK|        SFO|\n",
      "|1011630|   -3|   JFK|        SJU|\n",
      "|1011345|    2|   JFK|        LAX|\n",
      "|1011545|   -3|   JFK|        LAX|\n",
      "|1011510|   -1|   JFK|        MIA|\n",
      "|1011745|    7|   JFK|        SFO|\n",
      "|1011250|    3|   JFK|        BOS|\n",
      "|1011645|  142|   JFK|        LAX|\n",
      "|1012135|   -2|   JFK|        LAX|\n",
      "|1011715|   18|   JFK|        ORD|\n",
      "|1011615|   25|   JFK|        IAH|\n",
      "|1011850|   -2|   JFK|        SEA|\n",
      "|1011725|   -5|   JFK|        BOS|\n",
      "+-------+-----+------+-----------+\n",
      "only showing top 20 rows\n",
      "\n"
     ]
    },
    {
     "data": {
      "text/plain": [
       "globaldf: org.apache.spark.sql.DataFrame = [date: int, delay: int ... 2 more fields]\r\n",
       "normaldf: org.apache.spark.sql.DataFrame = [date: int, delay: int ... 2 more fields]\r\n"
      ]
     },
     "execution_count": 42,
     "metadata": {},
     "output_type": "execute_result"
    }
   ],
   "source": [
    "//En caso de querer leer datos de la vista global\n",
    "val globaldf = spark.read.table(\"global_temp.us_origin_airport_SFO_global_tmp_view\")\n",
    "globaldf.show()\n",
    "//En caso de querer leer datos de una vista normal\n",
    "val normaldf = spark.read.table(\"us_origin_airport_JFK_tmp_view\")\n",
    "// Or\n",
    "spark.sql(\"SELECT * FROM us_origin_airport_JFK_tmp_view\").show()\n"
   ]
  },
  {
   "cell_type": "code",
   "execution_count": 43,
   "id": "1daa075e",
   "metadata": {},
   "outputs": [
    {
     "data": {
      "text/plain": [
       "res35: Boolean = true\r\n"
      ]
     },
     "execution_count": 43,
     "metadata": {},
     "output_type": "execute_result"
    }
   ],
   "source": [
    "//Para borrar vistas\n",
    "spark.catalog.dropGlobalTempView(\"us_origin_airport_SFO_global_tmp_view\")\n",
    "spark.catalog.dropTempView(\"us_origin_airport_JFK_tmp_view\")\n"
   ]
  },
  {
   "cell_type": "code",
   "execution_count": 16,
   "id": "41e5346d",
   "metadata": {},
   "outputs": [
    {
     "name": "stdout",
     "output_type": "stream",
     "text": [
      "+--------------+----------------+--------------------+\n",
      "|          name|     description|         locationUri|\n",
      "+--------------+----------------+--------------------+\n",
      "|       default|default database|file:/C:/Users/ji...|\n",
      "|learn_spark_db|                |file:/C:/Users/ji...|\n",
      "+--------------+----------------+--------------------+\n",
      "\n",
      "+--------------------+--------------+-----------+---------+-----------+\n",
      "|                name|      database|description|tableType|isTemporary|\n",
      "+--------------------+--------------+-----------+---------+-----------+\n",
      "|managed_us_delay_...|learn_spark_db|       null|  MANAGED|      false|\n",
      "|us_delay_flights_tbl|learn_spark_db|       null| EXTERNAL|      false|\n",
      "|us_delay_flights_...|learn_spark_db|       null| EXTERNAL|      false|\n",
      "|us_delay_flights_tbl|          null|       null|TEMPORARY|       true|\n",
      "+--------------------+--------------+-----------+---------+-----------+\n",
      "\n",
      "+-----------+-----------+--------+--------+-----------+--------+\n",
      "|       name|description|dataType|nullable|isPartition|isBucket|\n",
      "+-----------+-----------+--------+--------+-----------+--------+\n",
      "|       date|       null|     int|    true|      false|   false|\n",
      "|      delay|       null|     int|    true|      false|   false|\n",
      "|   distance|       null|     int|    true|      false|   false|\n",
      "|     origin|       null|  string|    true|      false|   false|\n",
      "|destination|       null|  string|    true|      false|   false|\n",
      "+-----------+-----------+--------+--------+-----------+--------+\n",
      "\n"
     ]
    }
   ],
   "source": [
    "//Uso de las funciones Catalog para visualizar metadatos\n",
    "\n",
    "spark.catalog.listDatabases().show()\n",
    "spark.catalog.listTables().show()\n",
    "spark.catalog.listColumns(\"us_delay_flights_tbl\").show()"
   ]
  },
  {
   "cell_type": "code",
   "execution_count": 50,
   "id": "26d263e5",
   "metadata": {},
   "outputs": [
    {
     "data": {
      "text/plain": [
       "res42: org.apache.spark.sql.DataFrame = []\r\n"
      ]
     },
     "execution_count": 50,
     "metadata": {},
     "output_type": "execute_result"
    }
   ],
   "source": [
    "//También es posible cachear tablas y vistas\n",
    "\n",
    "spark.sql(\"CACHE LAZY TABLE us_delay_flights_tbl\")\n",
    "spark.sql(\"UNCACHE TABLE us_delay_flights_tbl\")"
   ]
  },
  {
   "cell_type": "markdown",
   "id": "dc8b52eb",
   "metadata": {},
   "source": [
    "## Fuentes de datos para crear Dataframes y Tablas SQL\n",
    "\n",
    "Como ya se explicó en el capítulo anterior, existen muchos fuentes de datos como Parquet, Json, CSV, etc etc. En este apartado se explicará individualmente estas fuentes de datos y cómo afectan a los dataframes y tablas SQL.\n",
    "\n",
    "Lo primero que hay que tener en cuenta es que existen una API de Data Source donde contiene funciones para leer y escribir dataframes en base a estos fuentes de datos: DataframeReader y DataframeWritter."
   ]
  },
  {
   "cell_type": "code",
   "execution_count": 72,
   "id": "e6d8e909",
   "metadata": {},
   "outputs": [
    {
     "data": {
      "text/plain": [
       "file: String = prueba4.parquet\r\n",
       "df: org.apache.spark.sql.DataFrame = [UnitID: string, IncidentNumber: int ... 25 more fields]\r\n",
       "df2: org.apache.spark.sql.DataFrame = [UnitID: string, IncidentNumber: int ... 25 more fields]\r\n",
       "df3: org.apache.spark.sql.DataFrame = [State: string, Color: string ... 1 more field]\r\n"
      ]
     },
     "execution_count": 72,
     "metadata": {},
     "output_type": "execute_result"
    }
   ],
   "source": [
    "//DataframeReader\n",
    "val file = \"prueba4.parquet\"\n",
    "val df = spark.read.format(\"parquet\").load(file)\n",
    "// Use Parquet; you can omit format(\"parquet\") if you wish as it's the default\n",
    "val df2 = spark.read.load(file)\n",
    "// Use CSV\n",
    "val df3 = spark.read.format(\"csv\")\n",
    " .option(\"inferSchema\", \"true\")\n",
    " .option(\"header\", \"true\")\n",
    " .option(\"mode\", \"PERMISSIVE\")\n",
    " .load(\"mnm_dataset.csv\")\n",
    "//DataframeWritter\n",
    "df3.write.format(\"json\").mode(\"overwrite\").save(\"prueba2.json\")"
   ]
  },
  {
   "attachments": {
    "parquet.PNG": {
     "image/png": "[encoded data removed]"
    }
   },
   "cell_type": "markdown",
   "id": "80c70cce",
   "metadata": {},
   "source": [
    "### Parquet\n",
    "\n",
    "Como ya sabemos Parquet es el formato predeterminado elegido por Apache Spark porque su óptima forma de procesar datos en forma columnar. No es necesario inferir ningún schema ya que te lo hace solo. También en caso de cargar un dataframe en base a un parquet, tampoco es necesario crear un schema ya que ya contiene un schema almacenado. Solo en caso de estar leyendo por streaming, no es necesario especificar un schema en Parquet\n",
    "![parquet.PNG](attachment:parquet.PNG)"
   ]
  },
  {
   "cell_type": "code",
   "execution_count": 75,
   "id": "1efd7e53",
   "metadata": {},
   "outputs": [
    {
     "data": {
      "text/plain": [
       "file: String = 2010-summary.parquet\r\n",
       "dfParquet: org.apache.spark.sql.DataFrame = [DEST_COUNTRY_NAME: string, ORIGIN_COUNTRY_NAME: string ... 1 more field]\r\n"
      ]
     },
     "execution_count": 75,
     "metadata": {},
     "output_type": "execute_result"
    }
   ],
   "source": [
    "//Parquet a dataframe\n",
    "val file = \"2010-summary.parquet\"\n",
    "val dfParquet = spark.read.format(\"parquet\").load(file)\n",
    "//Dataframe a tabla\n",
    "dfParquet.write.mode(\"overwrite\").saveAsTable(\"parquet_table\")"
   ]
  },
  {
   "cell_type": "code",
   "execution_count": 80,
   "id": "b11e31c5",
   "metadata": {},
   "outputs": [
    {
     "data": {
      "text/plain": [
       "dfParquet2: org.apache.spark.sql.DataFrame = [DEST_COUNTRY_NAME: string, ORIGIN_COUNTRY_NAME: string ... 1 more field]\r\n"
      ]
     },
     "execution_count": 80,
     "metadata": {},
     "output_type": "execute_result"
    }
   ],
   "source": [
    "//Crea con una sentencia SQL un nuevo Dataframe y guárdalo en un fichero parquet\n",
    "val dfParquet2 = spark.sql(\"SELECT * FROM parquet_table WHERE count > 400\")\n",
    "dfParquet2.write.format(\"parquet\")\n",
    " .mode(\"overwrite\")\n",
    " .option(\"compression\", \"snappy\")\n",
    " .save(\"Parquet/df_parquet\")"
   ]
  },
  {
   "attachments": {
    "json.PNG": {
     "image/png": "[encoded data removed]"
    }
   },
   "cell_type": "markdown",
   "id": "dee5a1a5",
   "metadata": {},
   "source": [
    "### JSON\n",
    "\n",
    "Json es un formato de datos popular también, por su estructura simple para leer los datos.\n",
    "Hay dos formas de leler un JSON, single-line y multiple-line mode.\n",
    "Single-line lee cada línea del fichero y lo convierte en un objeto JSON. En cambio, en el otro modo, puede leer varias líneas y convertirlo en JSON, este caso es necesario especificarlo como .option(\"multiline\", true)\n",
    "![json.PNG](attachment:json.PNG)"
   ]
  },
  {
   "cell_type": "code",
   "execution_count": 82,
   "id": "29c53018",
   "metadata": {},
   "outputs": [
    {
     "data": {
      "text/plain": [
       "file: String = summary-data/json/*\r\n",
       "dfJson: org.apache.spark.sql.DataFrame = [DEST_COUNTRY_NAME: string, ORIGIN_COUNTRY_NAME: string ... 1 more field]\r\n"
      ]
     },
     "execution_count": 82,
     "metadata": {},
     "output_type": "execute_result"
    }
   ],
   "source": [
    "//Lectura de un JSON y cargarlo en un dataframe\n",
    "val file = \"summary-data/json/*\"\n",
    "val dfJson = spark.read.format(\"json\").load(file)"
   ]
  },
  {
   "cell_type": "code",
   "execution_count": 87,
   "id": "a1dffe28",
   "metadata": {},
   "outputs": [
    {
     "data": {
      "text/plain": [
       "dfJson2: org.apache.spark.sql.DataFrame = [DEST_COUNTRY_NAME: string, ORIGIN_COUNTRY_NAME: string ... 1 more field]\r\n"
      ]
     },
     "execution_count": 87,
     "metadata": {},
     "output_type": "execute_result"
    }
   ],
   "source": [
    "//Crear una tabla temporal y realizar una consulta SQL\n",
    "dfJson.createOrReplaceTempView(\"json_table\")\n",
    "val dfJson2 = spark.sql(\"SELECT * FROM json_table WHERE count > 400\")"
   ]
  },
  {
   "cell_type": "code",
   "execution_count": 91,
   "id": "9b08ea1e",
   "metadata": {},
   "outputs": [],
   "source": [
    "dfJson2.write.format(\"json\")\n",
    " .mode(\"overwrite\")\n",
    " .save(\"Json/df_json3\")\n"
   ]
  },
  {
   "attachments": {
    "csv.PNG": {
     "image/png": "[encoded data removed]"
    }
   },
   "cell_type": "markdown",
   "id": "a707e824",
   "metadata": {},
   "source": [
    "### CSV\n",
    "\n",
    "CSV es uno de los formato más comúnes para leer datos en texto claro. Suele contener una cabecera, y los datos delimitados por algún carácter como ',' \n",
    "\n",
    "![csv.PNG](attachment:csv.PNG)"
   ]
  },
  {
   "cell_type": "code",
   "execution_count": 93,
   "id": "321184b5",
   "metadata": {},
   "outputs": [
    {
     "data": {
      "text/plain": [
       "file: String = summary-data/csv/*\r\n",
       "schema: String = DEST_COUNTRY_NAME STRING, ORIGIN_COUNTRY_NAME STRING, count INT\r\n",
       "dfCsv: org.apache.spark.sql.DataFrame = [DEST_COUNTRY_NAME: string, ORIGIN_COUNTRY_NAME: string ... 1 more field]\r\n"
      ]
     },
     "execution_count": 93,
     "metadata": {},
     "output_type": "execute_result"
    }
   ],
   "source": [
    "//En este caso se ha creado un schema, pero puedes inferir uno con .option(\"inferSchema\", true)\n",
    "val file = \"summary-data/csv/*\"\n",
    "val schema = \"DEST_COUNTRY_NAME STRING, ORIGIN_COUNTRY_NAME STRING, count INT\"\n",
    "val dfCsv = spark.read.format(\"csv\")\n",
    " .schema(schema)\n",
    " .option(\"header\", \"true\")\n",
    " .option(\"mode\", \"FAILFAST\") // Exit if any errors\n",
    " .option(\"nullValue\", \"\") // Replace any null data with quotes\n",
    " .load(file)"
   ]
  },
  {
   "cell_type": "code",
   "execution_count": 98,
   "id": "b474185a",
   "metadata": {},
   "outputs": [
    {
     "data": {
      "text/plain": [
       "dfCsv2: org.apache.spark.sql.DataFrame = [DEST_COUNTRY_NAME: string, ORIGIN_COUNTRY_NAME: string ... 1 more field]\r\n"
      ]
     },
     "execution_count": 98,
     "metadata": {},
     "output_type": "execute_result"
    }
   ],
   "source": [
    "//Crear una tabla temporal y realizar una consulta SQL\n",
    "dfCsv.createOrReplaceTempView(\"csv_table\")\n",
    "val dfCsv2 = spark.sql(\"SELECT * FROM csv_table WHERE count > 400\")"
   ]
  },
  {
   "cell_type": "code",
   "execution_count": 99,
   "id": "5a8112d2",
   "metadata": {},
   "outputs": [],
   "source": [
    "//De la misma forma que siempre, se guarda el dataframe en un csv\n",
    "dfCsv2.write.format(\"csv\").mode(\"overwrite\").save(\"Csv/df_csv\")"
   ]
  },
  {
   "attachments": {
    "avro.PNG": {
     "image/png": "[encoded data removed]"
    }
   },
   "cell_type": "markdown",
   "id": "f6165faf",
   "metadata": {},
   "source": [
    "### Avro\n",
    "\n",
    "Es un formato compatible con el mapeo con JSON y es muy eficiente y rápido. Es compatible con muchos lenguajes de programación.\n",
    "Al igual de Parquet, también almacena el schema de los datos para optimizar su formación.\n",
    "\n",
    "Avro se creó para serializar los datos dentro de Apache Hadoop, persistente en HDFS para que se puedan distribuir la información en todos los nodos del clúster.\n",
    "En este caso, los schemas están en formato JSOn para que sean más compatibles con otros lenguajes de programación.\n",
    "![avro.PNG](attachment:avro.PNG)"
   ]
  },
  {
   "cell_type": "code",
   "execution_count": 2,
   "id": "297fb3ec",
   "metadata": {},
   "outputs": [
    {
     "name": "stdout",
     "output_type": "stream",
     "text": [
      "+--------------------------------+-------------------+-----+\n",
      "|DEST_COUNTRY_NAME               |ORIGIN_COUNTRY_NAME|count|\n",
      "+--------------------------------+-------------------+-----+\n",
      "|United States                   |Romania            |1    |\n",
      "|United States                   |Ireland            |264  |\n",
      "|United States                   |India              |69   |\n",
      "|Egypt                           |United States      |24   |\n",
      "|Equatorial Guinea               |United States      |1    |\n",
      "|United States                   |Singapore          |25   |\n",
      "|United States                   |Grenada            |54   |\n",
      "|Costa Rica                      |United States      |477  |\n",
      "|Senegal                         |United States      |29   |\n",
      "|United States                   |Marshall Islands   |44   |\n",
      "|Guyana                          |United States      |17   |\n",
      "|United States                   |Sint Maarten       |53   |\n",
      "|Malta                           |United States      |1    |\n",
      "|Bolivia                         |United States      |46   |\n",
      "|Anguilla                        |United States      |21   |\n",
      "|Turks and Caicos Islands        |United States      |136  |\n",
      "|United States                   |Afghanistan        |2    |\n",
      "|Saint Vincent and the Grenadines|United States      |1    |\n",
      "|Italy                           |United States      |390  |\n",
      "|United States                   |Russia             |156  |\n",
      "+--------------------------------+-------------------+-----+\n",
      "only showing top 20 rows\n",
      "\r\n"
     ]
    },
    {
     "data": {
      "text/plain": [
       "import org.apache.spark.sql.avro.functions._\r\n",
       "dfAvro: org.apache.spark.sql.DataFrame = [DEST_COUNTRY_NAME: string, ORIGIN_COUNTRY_NAME: string ... 1 more field]\r\n"
      ]
     },
     "execution_count": 2,
     "metadata": {},
     "output_type": "execute_result"
    }
   ],
   "source": [
    "//Avro es externo a Spark por lo que es necesario descargar un jar e importar la librería avro\n",
    "import org.apache.spark.sql.avro.functions._\n",
    "\n",
    "val dfAvro = spark.read.format(\"avro\")\n",
    " .load(\"summary-data/avro/*\")\n",
    "dfAvro.show(false)\n"
   ]
  },
  {
   "cell_type": "code",
   "execution_count": 4,
   "id": "7106e938",
   "metadata": {},
   "outputs": [
    {
     "data": {
      "text/plain": [
       "dfAvro2: org.apache.spark.sql.DataFrame = [DEST_COUNTRY_NAME: string, ORIGIN_COUNTRY_NAME: string ... 1 more field]\r\n"
      ]
     },
     "execution_count": 4,
     "metadata": {},
     "output_type": "execute_result"
    }
   ],
   "source": [
    "//Crear una tabla temporal y realizar una consulta SQL\n",
    "dfAvro.createOrReplaceTempView(\"avro_table\")\n",
    "val dfAvro2 = spark.sql(\"SELECT * FROM avro_table WHERE count > 400\")"
   ]
  },
  {
   "cell_type": "code",
   "execution_count": 6,
   "id": "e6543be4",
   "metadata": {},
   "outputs": [],
   "source": [
    "//De dataframe a fichero AVRO\n",
    "dfAvro2.write\n",
    " .format(\"avro\")\n",
    " .mode(\"overwrite\")\n",
    " .save(\"Avro/df_avro\")"
   ]
  },
  {
   "cell_type": "markdown",
   "id": "8ff40c6f",
   "metadata": {},
   "source": [
    "### ORC\n",
    "\n",
    "ORC (Optimized Rows Columnar) es un formato creado para almacenar datos en Hive de forma eficiente. Tiene un footer file donde contiene la información de la estructura de los datos como sus tipos de variables.\n",
    "La ventaja principal es que lee bloques de filas, no fila por fila, ahorrando bastante carga de CPU.\n"
   ]
  },
  {
   "cell_type": "code",
   "execution_count": 6,
   "id": "aa5844fb",
   "metadata": {},
   "outputs": [
    {
     "name": "stdout",
     "output_type": "stream",
     "text": [
      "+-----------------+-------------------+-----+\n",
      "|DEST_COUNTRY_NAME|ORIGIN_COUNTRY_NAME|count|\n",
      "+-----------------+-------------------+-----+\n",
      "|United States    |Romania            |1    |\n",
      "|United States    |Ireland            |264  |\n",
      "|United States    |India              |69   |\n",
      "|Egypt            |United States      |24   |\n",
      "|Equatorial Guinea|United States      |1    |\n",
      "|United States    |Singapore          |25   |\n",
      "|United States    |Grenada            |54   |\n",
      "|Costa Rica       |United States      |477  |\n",
      "|Senegal          |United States      |29   |\n",
      "|United States    |Marshall Islands   |44   |\n",
      "+-----------------+-------------------+-----+\n",
      "only showing top 10 rows\n",
      "\r\n"
     ]
    },
    {
     "data": {
      "text/plain": [
       "file: String = summary-data/orc/*\r\n",
       "dfORC: org.apache.spark.sql.DataFrame = [DEST_COUNTRY_NAME: string, ORIGIN_COUNTRY_NAME: string ... 1 more field]\r\n"
      ]
     },
     "execution_count": 6,
     "metadata": {},
     "output_type": "execute_result"
    }
   ],
   "source": [
    "//Lectura de fichero ORC a dataframe\n",
    "val file = \"summary-data/orc/*\"\n",
    "val dfORC = spark.read.format(\"orc\").load(file)\n",
    "dfORC.show(10, false)\n"
   ]
  },
  {
   "cell_type": "code",
   "execution_count": 7,
   "id": "9f014049",
   "metadata": {},
   "outputs": [
    {
     "data": {
      "text/plain": [
       "dfORC2: org.apache.spark.sql.DataFrame = [DEST_COUNTRY_NAME: string, ORIGIN_COUNTRY_NAME: string ... 1 more field]\r\n"
      ]
     },
     "execution_count": 7,
     "metadata": {},
     "output_type": "execute_result"
    }
   ],
   "source": [
    "//Crear una tabla temporal y realizar una consulta SQL\n",
    "dfORC.createOrReplaceTempView(\"avro_table\")\n",
    "val dfORC2 = spark.sql(\"SELECT * FROM avro_table WHERE count > 400\")"
   ]
  },
  {
   "cell_type": "code",
   "execution_count": 8,
   "id": "ec561a27",
   "metadata": {},
   "outputs": [],
   "source": [
    "//Escritura de dataframe a fichero ORC\n",
    "dfORC2.write.format(\"orc\")\n",
    " .mode(\"overwrite\")\n",
    " .option(\"compression\", \"snappy\")\n",
    " .save(\"Orc/df_orc\")"
   ]
  },
  {
   "cell_type": "markdown",
   "id": "257d9bef",
   "metadata": {},
   "source": [
    "### Imagen\n",
    "\n",
    "En spark 2.4 se inició un nuevo formato imagen para frameworks sobre machine learning como Tensoflow o Pytorch.\n",
    "Para realizar visualizaciones, el formato de imagen es muy importante."
   ]
  },
  {
   "cell_type": "code",
   "execution_count": 11,
   "id": "9eafeb46",
   "metadata": {},
   "outputs": [
    {
     "name": "stdout",
     "output_type": "stream",
     "text": [
      "root\n",
      " |-- image: struct (nullable = true)\n",
      " |    |-- origin: string (nullable = true)\n",
      " |    |-- height: integer (nullable = true)\n",
      " |    |-- width: integer (nullable = true)\n",
      " |    |-- nChannels: integer (nullable = true)\n",
      " |    |-- mode: integer (nullable = true)\n",
      " |    |-- data: binary (nullable = true)\n",
      " |-- label: integer (nullable = true)\n",
      "\n",
      "+------+-----+---------+----+-----+\n",
      "|height|width|nChannels|mode|label|\n",
      "+------+-----+---------+----+-----+\n",
      "|288   |384  |3        |16  |0    |\n",
      "|288   |384  |3        |16  |1    |\n",
      "|288   |384  |3        |16  |0    |\n",
      "|288   |384  |3        |16  |0    |\n",
      "|288   |384  |3        |16  |0    |\n",
      "+------+-----+---------+----+-----+\n",
      "only showing top 5 rows\n",
      "\n"
     ]
    },
    {
     "data": {
      "text/plain": [
       "import org.apache.spark.ml.source.image\r\n",
       "imageDir: String = train_images/\r\n",
       "imagesDF: org.apache.spark.sql.DataFrame = [image: struct<origin: string, height: int ... 4 more fields>, label: int]\r\n"
      ]
     },
     "execution_count": 11,
     "metadata": {},
     "output_type": "execute_result"
    }
   ],
   "source": [
    "import org.apache.spark.ml.source.image\n",
    "val imageDir = \"train_images/\"\n",
    "val imagesDF = spark.read.format(\"image\").load(imageDir)\n",
    "imagesDF.printSchema\n",
    "imagesDF.select(\"image.height\", \"image.width\", \"image.nChannels\", \"image.mode\", \"label\").show(5, false)\n"
   ]
  },
  {
   "cell_type": "markdown",
   "id": "4e46c568",
   "metadata": {},
   "source": [
    "### Ficheros Binarios\n",
    "\n",
    "En Spark 3.0, dió la posibilidad de leer y escribir ficheros binarios. Transforma cada fichero binario en una fila de dataframe que contiene los metadatos y los datos. \n",
    "El fichero binario produce produce un datafram con la siguiente estructura:\n",
    "<ul>\n",
    "    <li> path: StringType </li>\n",
    "    <li> modificationTime: Timestamp Type</li>\n",
    "    <li> length: LongType</li>\n",
    "    <li> content: BinaryType</li>\n",
    "</ul>"
   ]
  },
  {
   "cell_type": "code",
   "execution_count": 14,
   "id": "0a18f0a0",
   "metadata": {},
   "outputs": [
    {
     "name": "stdout",
     "output_type": "stream",
     "text": [
      "+--------------------+-------------------+------+--------------------+-----+\n",
      "|                path|   modificationTime|length|             content|label|\n",
      "+--------------------+-------------------+------+--------------------+-----+\n",
      "|file:/C:/Users/ji...|2021-04-15 02:34:17| 55037|[FF D8 FF E0 00 1...|    0|\n",
      "|file:/C:/Users/ji...|2021-04-15 02:34:17| 54634|[FF D8 FF E0 00 1...|    1|\n",
      "|file:/C:/Users/ji...|2021-04-15 02:34:17| 54624|[FF D8 FF E0 00 1...|    0|\n",
      "|file:/C:/Users/ji...|2021-04-15 02:34:17| 54505|[FF D8 FF E0 00 1...|    0|\n",
      "|file:/C:/Users/ji...|2021-04-15 02:34:17| 54475|[FF D8 FF E0 00 1...|    0|\n",
      "+--------------------+-------------------+------+--------------------+-----+\n",
      "only showing top 5 rows\n",
      "\n",
      "root\n",
      " |-- path: string (nullable = true)\n",
      " |-- modificationTime: timestamp (nullable = true)\n",
      " |-- length: long (nullable = true)\n",
      " |-- content: binary (nullable = true)\n",
      " |-- label: integer (nullable = true)\n",
      "\n"
     ]
    },
    {
     "data": {
      "text/plain": [
       "path: String = train_images/\r\n",
       "binaryFilesDF: org.apache.spark.sql.DataFrame = [path: string, modificationTime: timestamp ... 3 more fields]\r\n"
      ]
     },
     "execution_count": 14,
     "metadata": {},
     "output_type": "execute_result"
    }
   ],
   "source": [
    "//Las imágenes son fichero binarios \n",
    "val path = \"train_images/\"\n",
    "val binaryFilesDF = spark.read.format(\"binaryFile\")\n",
    " .option(\"pathGlobFilter\", \"*.jpg\")\n",
    " .load(path)\n",
    "binaryFilesDF.show(5)\n",
    "//Actualmente, DataframeWriter no es compatible con crear ficheros binarios a partir de un dataframe"
   ]
  },
  {
   "cell_type": "markdown",
   "id": "adc216e2",
   "metadata": {},
   "source": [
    "## Ejercicios Externos: Capítulo 4"
   ]
  },
  {
   "cell_type": "markdown",
   "id": "c5d067fa",
   "metadata": {},
   "source": [
    "B) Diferencias entre GlobalTempView y TempView.\n",
    "\n",
    "La diferencia es que las globales pueden ser usadas en cualquier Spark Session dentro de un clúster y el otro únicamente en la Spark Session donde se ha creado.\n",
    "\n",
    "Hay que tener en cuenta de que si usamos vistas globales, es necesario utilizar el prefijo global_temp ya que por defecto, todas las vistas globales se crean en una base de datos global llamada global.temp"
   ]
  },
  {
   "cell_type": "code",
   "execution_count": 17,
   "id": "3b2bbd5b",
   "metadata": {},
   "outputs": [
    {
     "name": "stdout",
     "output_type": "stream",
     "text": [
      "+------+-----+-----+\n",
      "|Color |Count|State|\n",
      "+------+-----+-----+\n",
      "|Red   |20   |TX   |\n",
      "|Blue  |66   |NV   |\n",
      "|Blue  |79   |CO   |\n",
      "|Blue  |71   |OR   |\n",
      "|Yellow|93   |WA   |\n",
      "+------+-----+-----+\n",
      "only showing top 5 rows\n",
      "\r\n"
     ]
    },
    {
     "data": {
      "text/plain": [
       "dfJson: org.apache.spark.sql.DataFrame = [Color: string, Count: bigint ... 1 more field]\r\n"
      ]
     },
     "execution_count": 17,
     "metadata": {},
     "output_type": "execute_result"
    }
   ],
   "source": [
    "//Json\n",
    "val dfJson = spark.read.format(\"json\").load(\"prueba2.json\")\n",
    "dfJson.show(5, false)"
   ]
  },
  {
   "cell_type": "code",
   "execution_count": 18,
   "id": "5debbe5a",
   "metadata": {},
   "outputs": [
    {
     "name": "stdout",
     "output_type": "stream",
     "text": [
      "+--------+--------------+--------+----------------+----------+--------------------+-------------+----------------------+---------------------------+-------+---------+-----------+---+----------------+--------+-------------+-------+-------------+---------+--------+--------------------------+----------------------+------------------+------------+---------------------+-------------------------------------+-----+\n",
      "|UnitID  |IncidentNumber|CallType|CallDate        |WatchDate |CallFinalDisposition|AvailableDtTm|Address               |City                       |Zipcode|Battalion|StationArea|Box|OriginalPriority|Priority|FinalPriority|ALSUnit|CallTypeGroup|NumAlarms|UnitType|UnitSequenceInCallDispatch|FirePreventionDistrict|SupervisorDistrict|Neighborhood|Location             |RowID                                |Delay|\n",
      "+--------+--------------+--------+----------------+----------+--------------------+-------------+----------------------+---------------------------+-------+---------+-----------+---+----------------+--------+-------------+-------+-------------+---------+--------+--------------------------+----------------------+------------------+------------+---------------------+-------------------------------------+-----+\n",
      "|20110016|null          |2003235 |Structure Fire  |01/11/2002|01/10/2002          |Other        |01/11/2002 01:51:44 AM|2000 Block of CALIFORNIA ST|null   |94109    |B04        |38 |3362            |3       |3            |null   |false        |null     |1       |null                      |2                     |4                 |5           |Pacific Heights      |(37.7895840679362, -122.428071912459)|null |\n",
      "|20110022|null          |2003241 |Medical Incident|01/11/2002|01/10/2002          |Other        |01/11/2002 03:01:18 AM|0 Block of SILVERVIEW DR   |null   |94124    |B10        |42 |6495            |3       |3            |null   |true         |null     |1       |null                      |1                     |10                |10          |Bayview Hunters Point|(37.7337623673897, -122.396113802632)|null |\n",
      "|20110023|null          |2003242 |Medical Incident|01/11/2002|01/10/2002          |Other        |01/11/2002 02:39:50 AM|MARKET ST/MCALLISTER ST    |null   |94102    |B03        |01 |1455            |3       |3            |null   |true         |null     |1       |null                      |2                     |3                 |6           |Tenderloin           |(37.7811772186856, -122.411699931232)|null |\n",
      "|20110032|null          |2003250 |Vehicle Fire    |01/11/2002|01/10/2002          |Other        |01/11/2002 04:16:46 AM|APPLETON AV/MISSION ST     |null   |94110    |B06        |32 |5626            |3       |3            |null   |false        |null     |1       |null                      |1                     |6                 |9           |Bernal Heights       |(37.7388432849018, -122.423948785199)|null |\n",
      "|20110043|null          |2003259 |Alarms          |01/11/2002|01/10/2002          |Other        |01/11/2002 06:01:58 AM|1400 Block of SUTTER ST    |null   |94109    |B04        |03 |3223            |3       |3            |null   |false        |null     |1       |null                      |2                     |4                 |2           |Western Addition     |(37.7872890372638, -122.424236212664)|null |\n",
      "+--------+--------------+--------+----------------+----------+--------------------+-------------+----------------------+---------------------------+-------+---------+-----------+---+----------------+--------+-------------+-------+-------------+---------+--------+--------------------------+----------------------+------------------+------------+---------------------+-------------------------------------+-----+\n",
      "only showing top 5 rows\n",
      "\r\n"
     ]
    },
    {
     "data": {
      "text/plain": [
       "dfParquet: org.apache.spark.sql.DataFrame = [UnitID: string, IncidentNumber: int ... 25 more fields]\r\n"
      ]
     },
     "execution_count": 18,
     "metadata": {},
     "output_type": "execute_result"
    }
   ],
   "source": [
    "//Parquet\n",
    "val dfParquet = spark.read.format(\"parquet\").load(\"prueba4.parquet\")\n",
    "dfParquet.show(5, false)"
   ]
  },
  {
   "cell_type": "markdown",
   "id": "7bec00e8",
   "metadata": {},
   "source": [
    "# Capítulo 5: Spark SQL y Dataframes: Uso de fuentes de datos externos\n",
    "\n",
    "### UDF (User-Defined Functions)\n",
    "Aunque en las APIs haya una cantidad abrumadora de funciones definidas, Apache Spark habilita el uso de funciones personales definidas.\n",
    "La ventaja es que se pueden utilizar con sentencias SQL, cosa que a mi parecer es de lo más útil.\n",
    "\n",
    "Una cosa que hay que tener en cuenta a la hora de realizar sentencias SQL son que no se garantiza el orden en las funciones SQL.\n",
    "Por ejemplo spark.sql(\"SELECT s FROM test1 WHERE s IS NOT NULL AND strlen(s) > 1\"), no se garantiza que IS NOT NULL se compruebe antes que el strlen(s)\n",
    "\n",
    "Los UDFs en PySpark son computacionalmente lentos ya que necesitan un movimiento elevado de datos. Para resolverlo, introdujeron en la versión Apache Spark 2.3 los UDF de Pandas. Estos UDF usan APache Arrow y Pandas para la transferecia de datos. Para definir un UDF de pandas, se utiliza la funcion pandas_udf.\n",
    "\n",
    "Ahora mismo, Pandas UDFs está dividido en 2 categorías, Pandas UDFs y Pandas Functions API"
   ]
  },
  {
   "cell_type": "code",
   "execution_count": 1,
   "id": "d8f9fd84",
   "metadata": {},
   "outputs": [
    {
     "data": {
      "text/plain": [
       "Intitializing Scala interpreter ..."
      ]
     },
     "metadata": {},
     "output_type": "display_data"
    },
    {
     "data": {
      "text/plain": [
       "Spark Web UI available at http://EM2021002844.bosonit.local:4040\n",
       "SparkContext available as 'sc' (version = 3.1.1, master = local[*], app id = local-1622792122507)\n",
       "SparkSession available as 'spark'\n"
      ]
     },
     "metadata": {},
     "output_type": "display_data"
    },
    {
     "name": "stdout",
     "output_type": "stream",
     "text": [
      "+---+--------+\n",
      "| id|id_cubed|\n",
      "+---+--------+\n",
      "|  1|       1|\n",
      "|  2|       8|\n",
      "|  3|      27|\n",
      "|  4|      64|\n",
      "|  5|     125|\n",
      "|  6|     216|\n",
      "|  7|     343|\n",
      "|  8|     512|\n",
      "+---+--------+\n",
      "\r\n"
     ]
    },
    {
     "data": {
      "text/plain": [
       "cubed: Long => Long = $Lambda$1985/0x0000000801426428@49d40fdd\r\n"
      ]
     },
     "execution_count": 1,
     "metadata": {},
     "output_type": "execute_result"
    }
   ],
   "source": [
    "//Crea una función que te calcula el cubo de un número \n",
    "val cubed = (s: Long) => {\n",
    " s * s * s\n",
    "}\n",
    "// Register UDF\n",
    "spark.udf.register(\"cubed\", cubed)\n",
    "// Crea una tabla temporal con 9 filas del 1 al 9\n",
    "spark.range(1, 9).createOrReplaceTempView(\"udf_test\")\n",
    "//Muestra el contenido de la tabla, usando como segunda columna la función UDF\n",
    "spark.sql(\"SELECT id, cubed(id) AS id_cubed FROM udf_test\").show()"
   ]
  },
  {
   "cell_type": "code",
   "execution_count": 2,
   "id": "587a6991",
   "metadata": {},
   "outputs": [],
   "source": [
    "# In Python\n",
    "# Import pandas\n",
    "import pandas as pd\n",
    "# Import various pyspark SQL functions including pandas_udf\n",
    "from pyspark.sql.functions import col, pandas_udf\n",
    "from pyspark.sql.types import LongType\n",
    "# Declare the cubed function \n",
    "def cubed(a: pd.Series) -> pd.Series:\n",
    "    return a * a * a\n",
    "# Create the pandas UDF for the cubed function \n",
    "cubed_udf = pandas_udf(cubed, returnType=LongType()) #Esta funcion es diferente al otro\n"
   ]
  },
  {
   "cell_type": "code",
   "execution_count": 3,
   "id": "d981cafe",
   "metadata": {},
   "outputs": [
    {
     "name": "stdout",
     "output_type": "stream",
     "text": [
      "0     1\n",
      "1     8\n",
      "2    27\n",
      "dtype: int64\n"
     ]
    }
   ],
   "source": [
    "#Usa Apache Arrow para la transferencia de datos\n",
    "x = pd.Series([1, 2, 3])\n",
    "# The function for a pandas_udf executed with local Pandas data\n",
    "print(cubed(x))"
   ]
  },
  {
   "cell_type": "code",
   "execution_count": 4,
   "id": "60532f7a",
   "metadata": {},
   "outputs": [
    {
     "name": "stdout",
     "output_type": "stream",
     "text": [
      "+---+---------+\n",
      "| id|cubed(id)|\n",
      "+---+---------+\n",
      "|  1|        1|\n",
      "|  2|        8|\n",
      "|  3|       27|\n",
      "+---+---------+\n",
      "\n"
     ]
    }
   ],
   "source": [
    "#Usa Spark Dataframe para ejecutar un el Pandas UDF \n",
    "df = spark.range(1, 4)\n",
    "# Execute function as a Spark vectorized UDF\n",
    "df.select(\"id\", cubed_udf(col(\"id\"))).show()\n"
   ]
  },
  {
   "cell_type": "markdown",
   "id": "abb29d28",
   "metadata": {},
   "source": [
    "Al ejecutarlo con Spark Dataframe, se generan Jobs y se podrá visualizar el DAG generado. En cambio, utilizando Apache pandas, todo se ejecuta a nivel del Drive por lo que no se generará ningún DAG"
   ]
  },
  {
   "cell_type": "markdown",
   "id": "3325b0e2",
   "metadata": {},
   "source": [
    "## Consultas con SQL-shell, Beeline y Tableau\n",
    "\n",
    "Es posible realizar consultas SQL en APache spark con distintos metodologías:\n",
    "\n",
    "### PostGreSQL\n",
    " Una de las formas más convenientes es con spark-sql CLI, que utiliza el metastore de Hive."
   ]
  },
  {
   "cell_type": "code",
   "execution_count": null,
   "id": "e57a15c3",
   "metadata": {},
   "outputs": [
    {
     "data": {
      "text/plain": [
       "Intitializing Scala interpreter ..."
      ]
     },
     "metadata": {},
     "output_type": "display_data"
    }
   ],
   "source": [
    "val jdbcDF1 = spark\n",
    " .read\n",
    " .format(\"jdbc\")\n",
    " .option(\"url\", \"jdbc:postgresql://localhost:5432/postgres\")\n",
    " .option(\"dbtable\", \"public.prueba\")\n",
    " .option(\"user\", \"postgres\")\n",
    " .option(\"password\", \"4gmq4jA8\")\n",
    " .option(\"driver\", \"org.postgresql.Driver\")\n",
    " .load()"
   ]
  },
  {
   "cell_type": "code",
   "execution_count": 8,
   "id": "0b5e4216",
   "metadata": {},
   "outputs": [],
   "source": [
    "jdbcDF1.write.mode(\"overwrite\").saveAsTable(\"prueba\")"
   ]
  },
  {
   "cell_type": "code",
   "execution_count": 9,
   "id": "3a4ae7ed",
   "metadata": {},
   "outputs": [
    {
     "name": "stdout",
     "output_type": "stream",
     "text": [
      "+---+------+-----+\n",
      "| id|  name|color|\n",
      "+---+------+-----+\n",
      "|  0|   Jin| Azul|\n",
      "|  0|Susana| Azul|\n",
      "|  0|Susana| Azul|\n",
      "|  3|Susana| Azul|\n",
      "+---+------+-----+\n",
      "\r\n"
     ]
    },
    {
     "data": {
      "text/plain": [
       "res5: org.apache.spark.sql.DataFrame = []\r\n"
      ]
     },
     "execution_count": 9,
     "metadata": {},
     "output_type": "execute_result"
    }
   ],
   "source": [
    "spark.sql(\"INSERT INTO prueba(id, name, color) VALUES(5, 'Jon', 'Verde')\")"
   ]
  },
  {
   "cell_type": "code",
   "execution_count": 13,
   "id": "b9c03730",
   "metadata": {},
   "outputs": [
    {
     "data": {
      "text/plain": [
       "jdbcDF2: org.apache.spark.sql.DataFrame = [id: int, name: string ... 1 more field]\r\n"
      ]
     },
     "execution_count": 13,
     "metadata": {},
     "output_type": "execute_result"
    }
   ],
   "source": [
    "val jdbcDF2 = spark.sql(\"Select * FROM prueba\")"
   ]
  },
  {
   "cell_type": "code",
   "execution_count": 16,
   "id": "1233b8fb",
   "metadata": {},
   "outputs": [],
   "source": [
    " jdbcDF2\n",
    " .write\n",
    " .format(\"jdbc\")\n",
    " .option(\"url\", \"jdbc:postgresql://localhost:5432/postgres\")\n",
    " .option(\"dbtable\", \"public.notebook\")\n",
    " .option(\"user\", \"postgres\")\n",
    " .option(\"password\", \"\")\n",
    " .option(\"driver\", \"org.postgresql.Driver\")\n",
    " .save()"
   ]
  },
  {
   "cell_type": "markdown",
   "id": "f10dac73",
   "metadata": {},
   "source": [
    "### MySQL"
   ]
  },
  {
   "cell_type": "code",
   "execution_count": 3,
   "id": "a2183530",
   "metadata": {},
   "outputs": [
    {
     "data": {
      "text/plain": [
       "jdbcDF: org.apache.spark.sql.DataFrame = [ID: int, Name: string ... 3 more fields]\r\n"
      ]
     },
     "execution_count": 3,
     "metadata": {},
     "output_type": "execute_result"
    }
   ],
   "source": [
    "val jdbcDF = spark\n",
    " .read\n",
    " .format(\"jdbc\")\n",
    " .option(\"url\", \"jdbc:mysql://localhost:3306/\")\n",
    " .option(\"driver\", \"com.mysql.jdbc.Driver\")\n",
    " .option(\"dbtable\", \"world.city\")\n",
    " .option(\"user\", \"root\")\n",
    " .option(\"password\", \"1234\")\n",
    " .load()\n"
   ]
  },
  {
   "cell_type": "code",
   "execution_count": 4,
   "id": "e2a2e7b2",
   "metadata": {},
   "outputs": [
    {
     "name": "stdout",
     "output_type": "stream",
     "text": [
      "+---+-----------------+-----------+-------------+----------+\n",
      "|ID |Name             |CountryCode|District     |Population|\n",
      "+---+-----------------+-----------+-------------+----------+\n",
      "|1  |Kabul            |AFG        |Kabol        |1780000   |\n",
      "|2  |Qandahar         |AFG        |Qandahar     |237500    |\n",
      "|3  |Herat            |AFG        |Herat        |186800    |\n",
      "|4  |Mazar-e-Sharif   |AFG        |Balkh        |127800    |\n",
      "|5  |Amsterdam        |NLD        |Noord-Holland|731200    |\n",
      "|6  |Rotterdam        |NLD        |Zuid-Holland |593321    |\n",
      "|7  |Haag             |NLD        |Zuid-Holland |440900    |\n",
      "|8  |Utrecht          |NLD        |Utrecht      |234323    |\n",
      "|9  |Eindhoven        |NLD        |Noord-Brabant|201843    |\n",
      "|10 |Tilburg          |NLD        |Noord-Brabant|193238    |\n",
      "|11 |Groningen        |NLD        |Groningen    |172701    |\n",
      "|12 |Breda            |NLD        |Noord-Brabant|160398    |\n",
      "|13 |Apeldoorn        |NLD        |Gelderland   |153491    |\n",
      "|14 |Nijmegen         |NLD        |Gelderland   |152463    |\n",
      "|15 |Enschede         |NLD        |Overijssel   |149544    |\n",
      "|16 |Haarlem          |NLD        |Noord-Holland|148772    |\n",
      "|17 |Almere           |NLD        |Flevoland    |142465    |\n",
      "|18 |Arnhem           |NLD        |Gelderland   |138020    |\n",
      "|19 |Zaanstad         |NLD        |Noord-Holland|135621    |\n",
      "|20 |´s-Hertogenbosch|NLD        |Noord-Brabant|129170    |\n",
      "+---+-----------------+-----------+-------------+----------+\n",
      "only showing top 20 rows\n",
      "\r\n"
     ]
    }
   ],
   "source": [
    "jdbcDF.show(false)\n",
    "\n"
   ]
  },
  {
   "cell_type": "markdown",
   "id": "493cb564",
   "metadata": {},
   "source": [
    "### Azure Cosmos DB"
   ]
  },
  {
   "cell_type": "code",
   "execution_count": 1,
   "id": "cc7906dd",
   "metadata": {},
   "outputs": [
    {
     "data": {
      "text/plain": [
       "Intitializing Scala interpreter ..."
      ]
     },
     "metadata": {},
     "output_type": "display_data"
    },
    {
     "data": {
      "text/plain": [
       "Spark Web UI available at http://EM2021002844.bosonit.local:4040\n",
       "SparkContext available as 'sc' (version = 3.1.1, master = local[*], app id = local-1623056646429)\n",
       "SparkSession available as 'spark'\n"
      ]
     },
     "metadata": {},
     "output_type": "display_data"
    },
    {
     "data": {
      "text/plain": [
       "import com.microsoft.azure.cosmosdb.spark.schema._\r\n",
       "import com.microsoft.azure.cosmosdb.spark._\r\n",
       "import com.microsoft.azure.cosmosdb.spark.config.Config\r\n"
      ]
     },
     "execution_count": 1,
     "metadata": {},
     "output_type": "execute_result"
    }
   ],
   "source": [
    "import com.microsoft.azure.cosmosdb.spark.schema._\n",
    "import com.microsoft.azure.cosmosdb.spark._\n",
    "import com.microsoft.azure.cosmosdb.spark.config.Config"
   ]
  },
  {
   "cell_type": "markdown",
   "id": "712ce377",
   "metadata": {},
   "source": [
    "## Funciones de alto nivel en Dataframes y Spark-SQL\n",
    "\n",
    "En este apartado se manipularán variables de tipos complejos, para ello, utilizaremos UDF.\n",
    "\n",
    "get_json_object(), from_json(), to_json(), explode(), y selectExpr() son unos ejemplos para manipular las variables.\n",
    "\n",
    "Todas estas funciones, son completamente compatibles con Spark SQL, sin necesidad de utilizar la API de Dataframe."
   ]
  },
  {
   "cell_type": "code",
   "execution_count": 17,
   "id": "6e405f1c",
   "metadata": {},
   "outputs": [
    {
     "name": "stdout",
     "output_type": "stream",
     "text": [
      "+---+\n",
      "| id|\n",
      "+---+\n",
      "|  1|\n",
      "|  2|\n",
      "|  3|\n",
      "|  4|\n",
      "|  5|\n",
      "+---+\n",
      "\r\n"
     ]
    }
   ],
   "source": [
    "spark.sql(\"Select explode(value) as id from (Select array(1, 2, 3, 4, 5) as value)\").show()"
   ]
  },
  {
   "cell_type": "code",
   "execution_count": 18,
   "id": "82d953cd",
   "metadata": {},
   "outputs": [
    {
     "name": "stdout",
     "output_type": "stream",
     "text": [
      "+--------------------+\n",
      "|             celsius|\n",
      "+--------------------+\n",
      "|[35, 36, 32, 30, ...|\n",
      "|[31, 32, 34, 55, 56]|\n",
      "+--------------------+\n",
      "\n",
      "+----------------------------+-------------------------------+\n",
      "|celsius                     |fahrenheit                     |\n",
      "+----------------------------+-------------------------------+\n",
      "|[35, 36, 32, 30, 40, 42, 38]|[95, 96, 89, 86, 104, 107, 100]|\n",
      "|[31, 32, 34, 55, 56]        |[87, 89, 93, 131, 132]         |\n",
      "+----------------------------+-------------------------------+\n",
      "\n"
     ]
    },
    {
     "data": {
      "text/plain": [
       "t1: Array[Int] = Array(35, 36, 32, 30, 40, 42, 38)\r\n",
       "t2: Array[Int] = Array(31, 32, 34, 55, 56)\r\n",
       "tC: org.apache.spark.sql.DataFrame = [celsius: array<int>]\r\n"
      ]
     },
     "execution_count": 18,
     "metadata": {},
     "output_type": "execute_result"
    }
   ],
   "source": [
    "//En este ejemplo, vamos a usar transform(), que realiza una acción en forma de función lambda a cada elemento seleccionado\n",
    "val t1 = Array(35, 36, 32, 30, 40, 42, 38)\n",
    "val t2 = Array(31, 32, 34, 55, 56)\n",
    "val tC = Seq(t1, t2).toDF(\"celsius\")\n",
    "tC.createOrReplaceTempView(\"tC\")\n",
    "// Show the DataFrame\n",
    "tC.show()\n",
    "\n",
    "spark.sql(\"SELECT celsius, transform(celsius, t -> ((t * 9) div 5) + 32) as fahrenheit FROM tC\").show(false)"
   ]
  },
  {
   "cell_type": "code",
   "execution_count": 14,
   "id": "8198ff11",
   "metadata": {},
   "outputs": [
    {
     "name": "stdout",
     "output_type": "stream",
     "text": [
      "+----------------------------+--------+\n",
      "|celsius                     |high    |\n",
      "+----------------------------+--------+\n",
      "|[35, 36, 32, 30, 40, 42, 38]|[40, 42]|\n",
      "|[31, 32, 34, 55, 56]        |[55, 56]|\n",
      "+----------------------------+--------+\n",
      "\r\n"
     ]
    }
   ],
   "source": [
    "//También es posible realizar funciones lambda con la función filter\n",
    "spark.sql(\"SELECT celsius, filter(celsius, t -> t > 38) as high FROM tC\").show(false)"
   ]
  },
  {
   "cell_type": "code",
   "execution_count": 15,
   "id": "0db0d098",
   "metadata": {},
   "outputs": [
    {
     "name": "stdout",
     "output_type": "stream",
     "text": [
      "+--------------------+---------+\n",
      "|             celsius|threshold|\n",
      "+--------------------+---------+\n",
      "|[35, 36, 32, 30, ...|     true|\n",
      "|[31, 32, 34, 55, 56]|    false|\n",
      "+--------------------+---------+\n",
      "\r\n"
     ]
    }
   ],
   "source": [
    "//La función exists() devuelve true o false si se cumple una condición descrita en la función lambda\n",
    "spark.sql(\"SELECT celsius, exists(celsius, t -> t = 38) as threshold FROM tC\").show()"
   ]
  },
  {
   "cell_type": "code",
   "execution_count": 24,
   "id": "5fc5f281",
   "metadata": {},
   "outputs": [
    {
     "ename": "org.apache.spark.sql.AnalysisException",
     "evalue": " Undefined function: 'reduce'. This function is neither a registered temporary function nor a permanent function registered in the database 'default'.; line 1 pos 16\r",
     "output_type": "error",
     "traceback": [
      "org.apache.spark.sql.AnalysisException: Undefined function: 'reduce'. This function is neither a registered temporary function nor a permanent function registered in the database 'default'.; line 1 pos 16\r",
      "  at org.apache.spark.sql.catalyst.analysis.Analyzer$LookupFunctions$$anonfun$apply$16.$anonfun$applyOrElse$121(Analyzer.scala:2068)\r",
      "  at org.apache.spark.sql.catalyst.analysis.package$.withPosition(package.scala:53)\r",
      "  at org.apache.spark.sql.catalyst.analysis.Analyzer$LookupFunctions$$anonfun$apply$16.applyOrElse(Analyzer.scala:2068)\r",
      "  at org.apache.spark.sql.catalyst.analysis.Analyzer$LookupFunctions$$anonfun$apply$16.applyOrElse(Analyzer.scala:2059)\r",
      "  at org.apache.spark.sql.catalyst.trees.TreeNode.$anonfun$transformDown$1(TreeNode.scala:317)\r",
      "  at org.apache.spark.sql.catalyst.trees.CurrentOrigin$.withOrigin(TreeNode.scala:73)\r",
      "  at org.apache.spark.sql.catalyst.trees.TreeNode.transformDown(TreeNode.scala:317)\r",
      "  at org.apache.spark.sql.catalyst.trees.TreeNode.$anonfun$transformDown$3(TreeNode.scala:322)\r",
      "  at org.apache.spark.sql.catalyst.trees.TreeNode.$anonfun$mapChildren$1(TreeNode.scala:407)\r",
      "  at org.apache.spark.sql.catalyst.trees.TreeNode.mapProductIterator(TreeNode.scala:243)\r",
      "  at org.apache.spark.sql.catalyst.trees.TreeNode.mapChildren(TreeNode.scala:405)\r",
      "  at org.apache.spark.sql.catalyst.trees.TreeNode.mapChildren(TreeNode.scala:358)\r",
      "  at org.apache.spark.sql.catalyst.trees.TreeNode.transformDown(TreeNode.scala:322)\r",
      "  at org.apache.spark.sql.catalyst.plans.QueryPlan.$anonfun$transformExpressionsDown$1(QueryPlan.scala:94)\r",
      "  at org.apache.spark.sql.catalyst.plans.QueryPlan.$anonfun$mapExpressions$1(QueryPlan.scala:116)\r",
      "  at org.apache.spark.sql.catalyst.trees.CurrentOrigin$.withOrigin(TreeNode.scala:73)\r",
      "  at org.apache.spark.sql.catalyst.plans.QueryPlan.transformExpression$1(QueryPlan.scala:116)\r",
      "  at org.apache.spark.sql.catalyst.plans.QueryPlan.recursiveTransform$1(QueryPlan.scala:127)\r",
      "  at org.apache.spark.sql.catalyst.plans.QueryPlan.$anonfun$mapExpressions$3(QueryPlan.scala:132)\r",
      "  at scala.collection.TraversableLike.$anonfun$map$1(TraversableLike.scala:238)\r",
      "  at scala.collection.immutable.List.foreach(List.scala:392)\r",
      "  at scala.collection.TraversableLike.map(TraversableLike.scala:238)\r",
      "  at scala.collection.TraversableLike.map$(TraversableLike.scala:231)\r",
      "  at scala.collection.immutable.List.map(List.scala:298)\r",
      "  at org.apache.spark.sql.catalyst.plans.QueryPlan.recursiveTransform$1(QueryPlan.scala:132)\r",
      "  at org.apache.spark.sql.catalyst.plans.QueryPlan.$anonfun$mapExpressions$4(QueryPlan.scala:137)\r",
      "  at org.apache.spark.sql.catalyst.trees.TreeNode.mapProductIterator(TreeNode.scala:243)\r",
      "  at org.apache.spark.sql.catalyst.plans.QueryPlan.mapExpressions(QueryPlan.scala:137)\r",
      "  at org.apache.spark.sql.catalyst.plans.QueryPlan.transformExpressionsDown(QueryPlan.scala:94)\r",
      "  at org.apache.spark.sql.catalyst.plans.QueryPlan.transformExpressions(QueryPlan.scala:85)\r",
      "  at org.apache.spark.sql.catalyst.plans.logical.AnalysisHelper$$anonfun$resolveExpressions$1.applyOrElse(AnalysisHelper.scala:151)\r",
      "  at org.apache.spark.sql.catalyst.plans.logical.AnalysisHelper$$anonfun$resolveExpressions$1.applyOrElse(AnalysisHelper.scala:150)\r",
      "  at org.apache.spark.sql.catalyst.plans.logical.AnalysisHelper.$anonfun$resolveOperatorsDown$2(AnalysisHelper.scala:108)\r",
      "  at org.apache.spark.sql.catalyst.trees.CurrentOrigin$.withOrigin(TreeNode.scala:73)\r",
      "  at org.apache.spark.sql.catalyst.plans.logical.AnalysisHelper.$anonfun$resolveOperatorsDown$1(AnalysisHelper.scala:108)\r",
      "  at org.apache.spark.sql.catalyst.plans.logical.AnalysisHelper$.allowInvokingTransformsInAnalyzer(AnalysisHelper.scala:221)\r",
      "  at org.apache.spark.sql.catalyst.plans.logical.AnalysisHelper.resolveOperatorsDown(AnalysisHelper.scala:106)\r",
      "  at org.apache.spark.sql.catalyst.plans.logical.AnalysisHelper.resolveOperatorsDown$(AnalysisHelper.scala:104)\r",
      "  at org.apache.spark.sql.catalyst.plans.logical.LogicalPlan.resolveOperatorsDown(LogicalPlan.scala:29)\r",
      "  at org.apache.spark.sql.catalyst.plans.logical.AnalysisHelper.resolveOperators(AnalysisHelper.scala:73)\r",
      "  at org.apache.spark.sql.catalyst.plans.logical.AnalysisHelper.resolveOperators$(AnalysisHelper.scala:72)\r",
      "  at org.apache.spark.sql.catalyst.plans.logical.LogicalPlan.resolveOperators(LogicalPlan.scala:29)\r",
      "  at org.apache.spark.sql.catalyst.plans.logical.AnalysisHelper.resolveExpressions(AnalysisHelper.scala:150)\r",
      "  at org.apache.spark.sql.catalyst.plans.logical.AnalysisHelper.resolveExpressions$(AnalysisHelper.scala:149)\r",
      "  at org.apache.spark.sql.catalyst.plans.logical.LogicalPlan.resolveExpressions(LogicalPlan.scala:29)\r",
      "  at org.apache.spark.sql.catalyst.analysis.Analyzer$LookupFunctions$.apply(Analyzer.scala:2059)\r",
      "  at org.apache.spark.sql.catalyst.analysis.Analyzer$LookupFunctions$.apply(Analyzer.scala:2056)\r",
      "  at org.apache.spark.sql.catalyst.rules.RuleExecutor.$anonfun$execute$2(RuleExecutor.scala:216)\r",
      "  at scala.collection.IndexedSeqOptimized.foldLeft(IndexedSeqOptimized.scala:60)\r",
      "  at scala.collection.IndexedSeqOptimized.foldLeft$(IndexedSeqOptimized.scala:68)\r",
      "  at scala.collection.mutable.WrappedArray.foldLeft(WrappedArray.scala:38)\r",
      "  at org.apache.spark.sql.catalyst.rules.RuleExecutor.$anonfun$execute$1(RuleExecutor.scala:213)\r",
      "  at org.apache.spark.sql.catalyst.rules.RuleExecutor.$anonfun$execute$1$adapted(RuleExecutor.scala:205)\r",
      "  at scala.collection.immutable.List.foreach(List.scala:392)\r",
      "  at org.apache.spark.sql.catalyst.rules.RuleExecutor.execute(RuleExecutor.scala:205)\r",
      "  at org.apache.spark.sql.catalyst.analysis.Analyzer.org$apache$spark$sql$catalyst$analysis$Analyzer$$executeSameContext(Analyzer.scala:196)\r",
      "  at org.apache.spark.sql.catalyst.analysis.Analyzer.execute(Analyzer.scala:190)\r",
      "  at org.apache.spark.sql.catalyst.analysis.Analyzer.execute(Analyzer.scala:155)\r",
      "  at org.apache.spark.sql.catalyst.rules.RuleExecutor.$anonfun$executeAndTrack$1(RuleExecutor.scala:183)\r",
      "  at org.apache.spark.sql.catalyst.QueryPlanningTracker$.withTracker(QueryPlanningTracker.scala:88)\r",
      "  at org.apache.spark.sql.catalyst.rules.RuleExecutor.executeAndTrack(RuleExecutor.scala:183)\r",
      "  at org.apache.spark.sql.catalyst.analysis.Analyzer.$anonfun$executeAndCheck$1(Analyzer.scala:174)\r",
      "  at org.apache.spark.sql.catalyst.plans.logical.AnalysisHelper$.markInAnalyzer(AnalysisHelper.scala:228)\r",
      "  at org.apache.spark.sql.catalyst.analysis.Analyzer.executeAndCheck(Analyzer.scala:173)\r",
      "  at org.apache.spark.sql.execution.QueryExecution.$anonfun$analyzed$1(QueryExecution.scala:73)\r",
      "  at org.apache.spark.sql.catalyst.QueryPlanningTracker.measurePhase(QueryPlanningTracker.scala:111)\r",
      "  at org.apache.spark.sql.execution.QueryExecution.$anonfun$executePhase$1(QueryExecution.scala:143)\r",
      "  at org.apache.spark.sql.SparkSession.withActive(SparkSession.scala:772)\r",
      "  at org.apache.spark.sql.execution.QueryExecution.executePhase(QueryExecution.scala:143)\r",
      "  at org.apache.spark.sql.execution.QueryExecution.analyzed$lzycompute(QueryExecution.scala:73)\r",
      "  at org.apache.spark.sql.execution.QueryExecution.analyzed(QueryExecution.scala:71)\r",
      "  at org.apache.spark.sql.execution.QueryExecution.assertAnalyzed(QueryExecution.scala:63)\r",
      "  at org.apache.spark.sql.Dataset$.$anonfun$ofRows$2(Dataset.scala:98)\r",
      "  at org.apache.spark.sql.SparkSession.withActive(SparkSession.scala:772)\r",
      "  at org.apache.spark.sql.Dataset$.ofRows(Dataset.scala:96)\r",
      "  at org.apache.spark.sql.SparkSession.$anonfun$sql$1(SparkSession.scala:615)\r",
      "  at org.apache.spark.sql.SparkSession.withActive(SparkSession.scala:772)\r",
      "  at org.apache.spark.sql.SparkSession.sql(SparkSession.scala:610)\r",
      "  ... 48 elided\r",
      ""
     ]
    }
   ],
   "source": [
    "//La función reduce() simplifica en un único resultado el contenido de todo el array.\n",
    "\n",
    "spark.sql(\"SELECT celsius, reduce(celsius, 0, (t, acc) -> t + acc, acc -> (acc div size(celsius) * 9 div 5) + 32) as avgFahrenheit FROM tC\").show()\n",
    "// Se da error, si se prueba en databricks se soluciona"
   ]
  },
  {
   "cell_type": "markdown",
   "id": "7ddccf89",
   "metadata": {},
   "source": [
    "## Operaciones de Spark SQL relacionados con la API de Dataframe\n",
    "\n",
    "En esta última sección se va a tratar las relaciones más comunes en sql:\n",
    "\n",
    "1. Unions and joins\n",
    "2. Windowing\n",
    "3. Modifications\n"
   ]
  },
  {
   "cell_type": "code",
   "execution_count": 1,
   "id": "7797d964",
   "metadata": {},
   "outputs": [
    {
     "data": {
      "text/plain": [
       "Intitializing Scala interpreter ..."
      ]
     },
     "metadata": {},
     "output_type": "display_data"
    },
    {
     "data": {
      "text/plain": [
       "Spark Web UI available at http://EM2021002844.bosonit.local:4040\n",
       "SparkContext available as 'sc' (version = 3.1.1, master = local[*], app id = local-1623316827432)\n",
       "SparkSession available as 'spark'\n"
      ]
     },
     "metadata": {},
     "output_type": "display_data"
    },
    {
     "data": {
      "text/plain": [
       "import org.apache.spark.sql.functions._\r\n",
       "delaysPath: String = departuredelays.csv\r\n",
       "airportsPath: String = airport-codes-na.txt\r\n",
       "airports: org.apache.spark.sql.DataFrame = [City: string, State: string ... 2 more fields]\r\n",
       "delays: org.apache.spark.sql.DataFrame = [date: string, delay: int ... 3 more fields]\r\n",
       "foo: org.apache.spark.sql.Dataset[org.apache.spark.sql.Row] = [date: string, delay: int ... 3 more fields]\r\n"
      ]
     },
     "execution_count": 1,
     "metadata": {},
     "output_type": "execute_result"
    }
   ],
   "source": [
    "// In Scala\n",
    "import org.apache.spark.sql.functions._\n",
    "// Set file paths\n",
    "val delaysPath = \"departuredelays.csv\"\n",
    "val airportsPath = \"airport-codes-na.txt\"\n",
    "// Obtain airports data set\n",
    "val airports = spark.read\n",
    " .option(\"header\", \"true\")\n",
    " .option(\"inferschema\", \"true\")\n",
    " .option(\"delimiter\", \"\\t\")\n",
    " .csv(airportsPath)\n",
    "airports.createOrReplaceTempView(\"airports_na\")\n",
    "// Obtain departure Delays data set\n",
    "val delays = spark.read\n",
    " .option(\"header\",\"true\")\n",
    " .csv(delaysPath)\n",
    " .withColumn(\"delay\", expr(\"CAST(delay as INT) as delay\"))\n",
    " .withColumn(\"distance\", expr(\"CAST(distance as INT) as distance\"))\n",
    "delays.createOrReplaceTempView(\"departureDelays\")\n",
    "// Create temporary small table\n",
    "val foo = delays.filter(expr(\"origin == 'SEA' AND destination == 'SFO' AND date like '01010%' AND delay > 0\"))\n",
    "foo.createOrReplaceTempView(\"foo\")"
   ]
  },
  {
   "cell_type": "code",
   "execution_count": 28,
   "id": "14b4bf1e",
   "metadata": {},
   "outputs": [
    {
     "name": "stdout",
     "output_type": "stream",
     "text": [
      "+-----------+-----+-------+----+\n",
      "|       City|State|Country|IATA|\n",
      "+-----------+-----+-------+----+\n",
      "| Abbotsford|   BC| Canada| YXX|\n",
      "|   Aberdeen|   SD|    USA| ABR|\n",
      "|    Abilene|   TX|    USA| ABI|\n",
      "|      Akron|   OH|    USA| CAK|\n",
      "|    Alamosa|   CO|    USA| ALS|\n",
      "|     Albany|   GA|    USA| ABY|\n",
      "|     Albany|   NY|    USA| ALB|\n",
      "|Albuquerque|   NM|    USA| ABQ|\n",
      "| Alexandria|   LA|    USA| AEX|\n",
      "|  Allentown|   PA|    USA| ABE|\n",
      "|   Alliance|   NE|    USA| AIA|\n",
      "|     Alpena|   MI|    USA| APN|\n",
      "|    Altoona|   PA|    USA| AOO|\n",
      "|   Amarillo|   TX|    USA| AMA|\n",
      "|Anahim Lake|   BC| Canada| YAA|\n",
      "|  Anchorage|   AK|    USA| ANC|\n",
      "|   Appleton|   WI|    USA| ATW|\n",
      "|     Arviat|  NWT| Canada| YEK|\n",
      "|  Asheville|   NC|    USA| AVL|\n",
      "|      Aspen|   CO|    USA| ASE|\n",
      "+-----------+-----+-------+----+\n",
      "only showing top 20 rows\n",
      "\n",
      "+--------+-----+--------+------+-----------+\n",
      "|    date|delay|distance|origin|destination|\n",
      "+--------+-----+--------+------+-----------+\n",
      "|01011245|    6|     602|   ABE|        ATL|\n",
      "|01020600|   -8|     369|   ABE|        DTW|\n",
      "|01021245|   -2|     602|   ABE|        ATL|\n",
      "|01020605|   -4|     602|   ABE|        ATL|\n",
      "|01031245|   -4|     602|   ABE|        ATL|\n",
      "|01030605|    0|     602|   ABE|        ATL|\n",
      "|01041243|   10|     602|   ABE|        ATL|\n",
      "|01040605|   28|     602|   ABE|        ATL|\n",
      "|01051245|   88|     602|   ABE|        ATL|\n",
      "|01050605|    9|     602|   ABE|        ATL|\n",
      "|01061215|   -6|     602|   ABE|        ATL|\n",
      "|01061725|   69|     602|   ABE|        ATL|\n",
      "|01061230|    0|     369|   ABE|        DTW|\n",
      "|01060625|   -3|     602|   ABE|        ATL|\n",
      "|01070600|    0|     369|   ABE|        DTW|\n",
      "|01071725|    0|     602|   ABE|        ATL|\n",
      "|01071230|    0|     369|   ABE|        DTW|\n",
      "|01070625|    0|     602|   ABE|        ATL|\n",
      "|01071219|    0|     569|   ABE|        ORD|\n",
      "|01080600|    0|     369|   ABE|        DTW|\n",
      "+--------+-----+--------+------+-----------+\n",
      "only showing top 20 rows\n",
      "\n",
      "+--------+-----+--------+------+-----------+\n",
      "|    date|delay|distance|origin|destination|\n",
      "+--------+-----+--------+------+-----------+\n",
      "|01010710|   31|     590|   SEA|        SFO|\n",
      "|01010955|  104|     590|   SEA|        SFO|\n",
      "|01010730|    5|     590|   SEA|        SFO|\n",
      "+--------+-----+--------+------+-----------+\n",
      "\n"
     ]
    }
   ],
   "source": [
    "spark.sql(\"SELECT * FROM airports_na\").show()\n",
    "spark.sql(\"SELECT * FROM departureDelays\").show()\n",
    "spark.sql(\"SELECT * FROM foo\").show()"
   ]
  },
  {
   "cell_type": "code",
   "execution_count": 2,
   "id": "55e6731e",
   "metadata": {},
   "outputs": [
    {
     "name": "stdout",
     "output_type": "stream",
     "text": [
      "+--------+-----+--------+------+-----------+\n",
      "|    date|delay|distance|origin|destination|\n",
      "+--------+-----+--------+------+-----------+\n",
      "|01010710|   31|     590|   SEA|        SFO|\n",
      "|01010955|  104|     590|   SEA|        SFO|\n",
      "|01010730|    5|     590|   SEA|        SFO|\n",
      "|01010710|   31|     590|   SEA|        SFO|\n",
      "|01010955|  104|     590|   SEA|        SFO|\n",
      "|01010730|    5|     590|   SEA|        SFO|\n",
      "+--------+-----+--------+------+-----------+\n",
      "\n",
      "+--------+-----+--------+------+-----------+\n",
      "|    date|delay|distance|origin|destination|\n",
      "+--------+-----+--------+------+-----------+\n",
      "|01010710|   31|     590|   SEA|        SFO|\n",
      "|01010955|  104|     590|   SEA|        SFO|\n",
      "|01010730|    5|     590|   SEA|        SFO|\n",
      "|01010710|   31|     590|   SEA|        SFO|\n",
      "|01010955|  104|     590|   SEA|        SFO|\n",
      "|01010730|    5|     590|   SEA|        SFO|\n",
      "+--------+-----+--------+------+-----------+\n",
      "\n"
     ]
    },
    {
     "data": {
      "text/plain": [
       "bar: org.apache.spark.sql.Dataset[org.apache.spark.sql.Row] = [date: string, delay: int ... 3 more fields]\r\n"
      ]
     },
     "execution_count": 2,
     "metadata": {},
     "output_type": "execute_result"
    }
   ],
   "source": [
    "//Vamos a probar a realizar una unión de dos tablas:\n",
    "\n",
    "// Union two tables\n",
    "val bar = delays.union(foo)\n",
    "bar.createOrReplaceTempView(\"bar\")\n",
    "//Si filtras por lo mismo que bar, tendrás los datos duplicados\n",
    "bar.filter(expr(\"origin == 'SEA' AND destination == 'SFO' AND date LIKE '01010%' AND delay > 0\")).show()\n",
    "spark.sql(\"SELECT * FROM bar where origin = 'SEA' AND destination = 'SFO' AND date LIKE '01010%' AND delay > 0\").show()\n"
   ]
  },
  {
   "cell_type": "code",
   "execution_count": 39,
   "id": "07a877de",
   "metadata": {},
   "outputs": [
    {
     "name": "stdout",
     "output_type": "stream",
     "text": [
      "+-------+-----+--------+-----+--------+-----------+\n",
      "|   City|State|    date|delay|distance|destination|\n",
      "+-------+-----+--------+-----+--------+-----------+\n",
      "|Seattle|   WA|01010710|   31|     590|        SFO|\n",
      "|Seattle|   WA|01010955|  104|     590|        SFO|\n",
      "|Seattle|   WA|01010730|    5|     590|        SFO|\n",
      "+-------+-----+--------+-----+--------+-----------+\n",
      "\n",
      "+-------+-----+--------+-----+--------+-----------+\n",
      "|   City|State|    date|delay|distance|destination|\n",
      "+-------+-----+--------+-----+--------+-----------+\n",
      "|Seattle|   WA|01010710|   31|     590|        SFO|\n",
      "|Seattle|   WA|01010955|  104|     590|        SFO|\n",
      "|Seattle|   WA|01010730|    5|     590|        SFO|\n",
      "+-------+-----+--------+-----+--------+-----------+\n",
      "\n"
     ]
    }
   ],
   "source": [
    "//Ahora vamos a probar a realizar un join entre dos tablas:\n",
    "\n",
    "foo.join(airports.as(\"air\"),$\"air.IATA\" === $\"origin\").select(\"City\", \"State\", \"date\", \"delay\", \"distance\", \"destination\").show()\n",
    "\n",
    "spark.sql(\"SELECT a.City, a.State, f.date, f.delay, f.distance, f.destination FROM foo f JOIN airports_na a ON a.IATA = f.origin\").show()\n"
   ]
  },
  {
   "cell_type": "code",
   "execution_count": 12,
   "id": "9a9496e1",
   "metadata": {},
   "outputs": [
    {
     "data": {
      "text/plain": [
       "dfW: org.apache.spark.sql.DataFrame = [origin: string, destination: string ... 1 more field]\r\n"
      ]
     },
     "execution_count": 12,
     "metadata": {},
     "output_type": "execute_result"
    }
   ],
   "source": [
    "//Función de ventana \n",
    "//En SQL , una función de ventana o función analítica es una función que usa valores de una o varias filas \n",
    "//para devolver un valor para cada fila. Las funciones de ventana tienen una cláusula OVER; \n",
    "//cualquier función sin una cláusula OVER no es una función de ventana, sino más bien una función agregada o de una sola fila\n",
    "\n",
    "//Crea una vista con los vuelos de 3 origenes y 7 destinos\n",
    "val dfW = spark.sql(\"\"\"SELECT origin, destination, SUM(delay) AS TotalDelays\n",
    " FROM departureDelays\n",
    "WHERE origin IN ('SEA', 'SFO', 'JFK')\n",
    " AND destination IN ('SEA', 'SFO', 'JFK', 'DEN', 'ORD', 'LAX', 'ATL')\n",
    "GROUP BY origin, destination\"\"\")\n",
    "dfW.createOrReplaceTempView(\"departureDelaysWindow\")"
   ]
  },
  {
   "cell_type": "code",
   "execution_count": 17,
   "id": "d2612e7a",
   "metadata": {},
   "outputs": [
    {
     "name": "stdout",
     "output_type": "stream",
     "text": [
      "+------+-----------+-----------+\n",
      "|origin|destination|TotalDelays|\n",
      "+------+-----------+-----------+\n",
      "|   JFK|        ORD|       5608|\n",
      "|   SEA|        LAX|       9359|\n",
      "|   JFK|        SFO|      35619|\n",
      "|   SFO|        ORD|      27412|\n",
      "|   JFK|        DEN|       4315|\n",
      "|   SFO|        DEN|      18688|\n",
      "|   SFO|        SEA|      17080|\n",
      "|   SEA|        SFO|      22293|\n",
      "|   JFK|        ATL|      12141|\n",
      "|   SFO|        ATL|       5091|\n",
      "|   SEA|        DEN|      13645|\n",
      "|   SEA|        ATL|       4535|\n",
      "|   SEA|        ORD|      10041|\n",
      "|   JFK|        SEA|       7856|\n",
      "|   JFK|        LAX|      35755|\n",
      "|   SFO|        JFK|      24100|\n",
      "|   SFO|        LAX|      40798|\n",
      "|   SEA|        JFK|       4667|\n",
      "+------+-----------+-----------+\n",
      "\n",
      "+------+-----------+-----------+----+\n",
      "|origin|destination|TotalDelays|rank|\n",
      "+------+-----------+-----------+----+\n",
      "|   SEA|        SFO|      22293|   1|\n",
      "|   SEA|        DEN|      13645|   2|\n",
      "|   SEA|        ORD|      10041|   3|\n",
      "|   SFO|        LAX|      40798|   1|\n",
      "|   SFO|        ORD|      27412|   2|\n",
      "|   SFO|        JFK|      24100|   3|\n",
      "|   JFK|        LAX|      35755|   1|\n",
      "|   JFK|        SFO|      35619|   2|\n",
      "|   JFK|        ATL|      12141|   3|\n",
      "+------+-----------+-----------+----+\n",
      "\n"
     ]
    }
   ],
   "source": [
    "spark.sql(\"select * from departureDelaysWindow\").show()\n",
    "\n",
    "//Muestra los 3 vuelos más retrasados de cada origen \n",
    "spark.sql(\"\"\"\n",
    "SELECT origin, destination, TotalDelays, rank \n",
    " FROM ( \n",
    " SELECT origin, destination, TotalDelays, dense_rank() \n",
    " OVER (PARTITION BY origin ORDER BY TotalDelays DESC) as rank \n",
    " FROM departureDelaysWindow\n",
    " ) t \n",
    " WHERE rank <= 3\n",
    "\"\"\").show()\n"
   ]
  },
  {
   "cell_type": "code",
   "execution_count": 24,
   "id": "80e68485",
   "metadata": {},
   "outputs": [
    {
     "name": "stdout",
     "output_type": "stream",
     "text": [
      "+--------+-----+--------+------+-----------+\n",
      "|    date|delay|distance|origin|destination|\n",
      "+--------+-----+--------+------+-----------+\n",
      "|01010710|   31|     590|   SEA|        SFO|\n",
      "|01010955|  104|     590|   SEA|        SFO|\n",
      "|01010730|    5|     590|   SEA|        SFO|\n",
      "+--------+-----+--------+------+-----------+\n",
      "\n",
      "+--------+-----+--------+------+-----------+-------+\n",
      "|    date|delay|distance|origin|destination| status|\n",
      "+--------+-----+--------+------+-----------+-------+\n",
      "|01010710|   31|     590|   SEA|        SFO|Delayed|\n",
      "|01010955|  104|     590|   SEA|        SFO|Delayed|\n",
      "|01010730|    5|     590|   SEA|        SFO|On-time|\n",
      "+--------+-----+--------+------+-----------+-------+\n",
      "\n",
      "+--------+--------+------+-----------+-------+\n",
      "|    date|distance|origin|destination| status|\n",
      "+--------+--------+------+-----------+-------+\n",
      "|01010710|     590|   SEA|        SFO|Delayed|\n",
      "|01010955|     590|   SEA|        SFO|Delayed|\n",
      "|01010730|     590|   SEA|        SFO|On-time|\n",
      "+--------+--------+------+-----------+-------+\n",
      "\n",
      "+--------+--------+------+-----------+-------------+\n",
      "|    date|distance|origin|destination|flight_status|\n",
      "+--------+--------+------+-----------+-------------+\n",
      "|01010710|     590|   SEA|        SFO|      Delayed|\n",
      "|01010955|     590|   SEA|        SFO|      Delayed|\n",
      "|01010730|     590|   SEA|        SFO|      On-time|\n",
      "+--------+--------+------+-----------+-------------+\n",
      "\n"
     ]
    },
    {
     "data": {
      "text/plain": [
       "foo2: org.apache.spark.sql.DataFrame = [date: string, delay: int ... 4 more fields]\r\n",
       "foo3: org.apache.spark.sql.DataFrame = [date: string, distance: int ... 3 more fields]\r\n",
       "foo4: Unit = ()\r\n"
      ]
     },
     "execution_count": 24,
     "metadata": {},
     "output_type": "execute_result"
    }
   ],
   "source": [
    "//A los dataframes también se pueden realizar funciones de modificaciones. Pero claro, hay que tener en cuenta q los datos \n",
    "//de los dataframes sin inmutables, así únicamente se puede modificar creando nuevos dataframes.\n",
    "foo.show()\n",
    "val foo2 = foo.withColumn(\"status\", expr(\"CASE WHEN delay <= 10 THEN 'On-time' ELSE 'Delayed' END\"))\n",
    "foo2.show()\n",
    "val foo3 = foo2.drop(\"delay\")\n",
    "foo3.show()\n",
    "val foo4 = foo3.withColumnRenamed(\"status\", \"flight_status\").show()"
   ]
  },
  {
   "cell_type": "code",
   "execution_count": 26,
   "id": "9d5d00ae",
   "metadata": {},
   "outputs": [
    {
     "name": "stdout",
     "output_type": "stream",
     "text": [
      "+-----------+------------+------------+------------+------------+\n",
      "|destination|JAN_AvgDelay|JAN_MaxDelay|FEB_AvgDelay|FEB_MaxDelay|\n",
      "+-----------+------------+------------+------------+------------+\n",
      "|        ABQ|       19.86|         316|       11.42|          69|\n",
      "|        ANC|        4.44|         149|        7.90|         141|\n",
      "|        ATL|       11.98|         397|        7.73|         145|\n",
      "|        AUS|        3.48|          50|       -0.21|          18|\n",
      "|        BOS|        7.84|         110|       14.58|         152|\n",
      "|        BUR|       -2.03|          56|       -1.89|          78|\n",
      "|        CLE|       16.00|          27|        null|        null|\n",
      "|        CLT|        2.53|          41|       12.96|         228|\n",
      "|        COS|        5.32|          82|       12.18|         203|\n",
      "|        CVG|       -0.50|           4|        null|        null|\n",
      "|        DCA|       -1.15|          50|        0.07|          34|\n",
      "|        DEN|       13.13|         425|       12.95|         625|\n",
      "|        DFW|        7.95|         247|       12.57|         356|\n",
      "|        DTW|        9.18|         107|        3.47|          77|\n",
      "|        EWR|        9.63|         236|        5.20|         212|\n",
      "|        FAI|        1.84|         160|        4.21|          60|\n",
      "|        FAT|        1.36|         119|        5.22|         232|\n",
      "|        FLL|        2.94|          54|        3.50|          40|\n",
      "|        GEG|        2.28|          63|        2.87|          60|\n",
      "|        HDN|       -0.44|          27|       -6.50|           0|\n",
      "+-----------+------------+------------+------------+------------+\n",
      "only showing top 20 rows\n",
      "\r\n"
     ]
    }
   ],
   "source": [
    "//Funciones pivot:\n",
    "//Se pueden usar los operadores relacionales PIVOT para modificar una expresión con valores de tabla en otra tabla. \n",
    "//PIVOT gira una expresión con valores de tabla al convertir los valores únicos de una columna \n",
    "//en la expresión en varias columnas en la salida.\n",
    "\n",
    "spark.sql(\"\"\"SELECT * FROM (\n",
    "SELECT destination, CAST(SUBSTRING(date, 0, 2) AS int) AS month, delay\n",
    " FROM departureDelays WHERE origin = 'SEA'\n",
    ")\n",
    "PIVOT (\n",
    " CAST(AVG(delay) AS DECIMAL(4, 2)) AS AvgDelay, MAX(delay) AS MaxDelay\n",
    " FOR month IN (1 JAN, 2 FEB)\n",
    ")\n",
    "ORDER BY destination\n",
    "\"\"\").show()"
   ]
  },
  {
   "cell_type": "markdown",
   "id": "3b716b23",
   "metadata": {},
   "source": [
    "## Ejercicios externos Capítulo 5\n",
    "\n",
    "Pros y contras de usar UDH\n",
    "\n",
    "Pros:\n",
    "\n",
    "<ul>\n",
    "    <li> Supone una ventaja para gente que quiera un resultado sin necesitar entender el procedimiento, ejecutando una función ya definida por el desarrollador</li>\n",
    "    <li> Con Pandas UDF el rendimiento de las UDF aumenta considerablemente, ya que operas un dataframe entero en vez de fila por fila </li>\n",
    "    <li> </li>\n",
    "    \n",
    "</ul>\n",
    "<ul>\n",
    "    <li> No se persiste en memoria, y se debe operar en una misma session </li>\n",
    "    <li> Si usas PySpark UDF es relativamente lento</li>\n",
    "    <li>Es necesario entender más APIs (Pandas tiene 2 + Apache Arrow para la transferencia de datos) </li>\n",
    "</ul>"
   ]
  },
  {
   "cell_type": "markdown",
   "id": "62562a1f",
   "metadata": {},
   "source": [
    "# Capítulo 6: Spark SQL y Datasets\n",
    "\n",
    "En el capítulo 3 ya hemos realizado un repaso básico de la API de Datasets, que es la unión de las dos APIs de Datafram y RDD.\n",
    "En esté capítulo veremos ya funciones un poco más avanzadas.\n",
    "Como ya sabemos, lo primero que hay que realizar es la definición de un case class, para definir la estructura del dataset.\n",
    "Un dataset, al contrario de un dataframe, es áltamente tipado, por lo que si existe un campo de una columna con un valor diferente al establecido, como por ejemplo un integer en vez de un string, la creación del dataset dará un error.\n",
    "\n",
    "Datasets solo se podrán definir dentro de Scala y de Java ya que son lenguajes tipados, al contrario de Python y R.\n",
    "\n",
    "Aquí Dataframe tiene más ventaja, porque puedes inferir un schema de forma automática sin necesidad de saber cómo son las columnas."
   ]
  },
  {
   "cell_type": "code",
   "execution_count": 17,
   "id": "9429b1fa",
   "metadata": {},
   "outputs": [
    {
     "data": {
      "text/plain": [
       "defined class Bloggers\r\n"
      ]
     },
     "execution_count": 17,
     "metadata": {},
     "output_type": "execute_result"
    }
   ],
   "source": [
    "//Se crea el case class con 7 columnas y sus respectivos tipos\n",
    "case class Bloggers(id:Long, first:String, last:String, url:String, published:String,\n",
    "hits: Long, campaigns:Array[String])"
   ]
  },
  {
   "cell_type": "code",
   "execution_count": 18,
   "id": "a92f40df",
   "metadata": {},
   "outputs": [
    {
     "data": {
      "text/plain": [
       "bloggers: String = blogs.json\r\n",
       "bloggersDS: org.apache.spark.sql.Dataset[Bloggers] = [Campaigns: array<string>, First: string ... 5 more fields]\r\n"
      ]
     },
     "execution_count": 18,
     "metadata": {},
     "output_type": "execute_result"
    }
   ],
   "source": [
    "\n",
    "val bloggers = \"blogs.json\"\n",
    "val bloggersDS = spark\n",
    " .read\n",
    " .format(\"json\")\n",
    " .option(\"path\", bloggers)\n",
    " .load()\n",
    " .as[Bloggers]\n"
   ]
  },
  {
   "cell_type": "code",
   "execution_count": 19,
   "id": "e3e7de88",
   "metadata": {},
   "outputs": [
    {
     "name": "stdout",
     "output_type": "stream",
     "text": [
      "+--------------------+---------+-----+---+-------+---------+-----------------+\n",
      "|           Campaigns|    First| Hits| Id|   Last|Published|              Url|\n",
      "+--------------------+---------+-----+---+-------+---------+-----------------+\n",
      "| [twitter, LinkedIn]|    Jules| 4535|  1|  Damji| 1/4/2016|https://tinyurl.1|\n",
      "| [twitter, LinkedIn]|   Brooke| 8908|  2|  Wenig| 5/5/2018|https://tinyurl.2|\n",
      "|[web, twitter, FB...|    Denny| 7659|  3|    Lee| 6/7/2019|https://tinyurl.3|\n",
      "|       [twitter, FB]|Tathagata|10568|  4|    Das|5/12/2018|https://tinyurl.4|\n",
      "|[web, twitter, FB...|    Matei|40578|  5|Zaharia|5/14/2014|https://tinyurl.5|\n",
      "| [twitter, LinkedIn]|  Reynold|25568|  6|    Xin| 3/2/2015|https://tinyurl.6|\n",
      "+--------------------+---------+-----+---+-------+---------+-----------------+\n",
      "\r\n"
     ]
    }
   ],
   "source": [
    "bloggersDS.show()"
   ]
  },
  {
   "cell_type": "markdown",
   "id": "8d18a260",
   "metadata": {},
   "source": [
    "En este ejemplo, vamos a realizar un dataset desde 0, sin leer datos externos.\n",
    "Crearemos un dataset directamente iterando un bucle."
   ]
  },
  {
   "cell_type": "code",
   "execution_count": 21,
   "id": "31f3330e",
   "metadata": {},
   "outputs": [
    {
     "data": {
      "text/plain": [
       "import scala.util.Random._\r\n",
       "defined class Usage\r\n"
      ]
     },
     "execution_count": 21,
     "metadata": {},
     "output_type": "execute_result"
    }
   ],
   "source": [
    "import scala.util.Random._\n",
    "// Our case class for the Dataset\n",
    "case class Usage(uid:Int, uname:String, usage: Int)"
   ]
  },
  {
   "cell_type": "code",
   "execution_count": 22,
   "id": "9d8532d7",
   "metadata": {},
   "outputs": [
    {
     "name": "stdout",
     "output_type": "stream",
     "text": [
      "+---+----------+-----+\n",
      "|uid|     uname|usage|\n",
      "+---+----------+-----+\n",
      "|  0|user-Gpi2C|  525|\n",
      "|  1|user-DgXDi|  502|\n",
      "|  2|user-M66yO|  170|\n",
      "|  3|user-xTOn6|  913|\n",
      "|  4|user-3xGSz|  246|\n",
      "|  5|user-2aWRN|  727|\n",
      "|  6|user-EzZY1|   65|\n",
      "|  7|user-ZlZMZ|  935|\n",
      "|  8|user-VjxeG|  756|\n",
      "|  9|user-iqf1P|    3|\n",
      "+---+----------+-----+\n",
      "only showing top 10 rows\n",
      "\r\n"
     ]
    },
    {
     "data": {
      "text/plain": [
       "r: scala.util.Random = scala.util.Random@5c5daead\r\n",
       "data: scala.collection.immutable.IndexedSeq[Usage] = Vector(Usage(0,user-Gpi2C,525), Usage(1,user-DgXDi,502), Usage(2,user-M66yO,170), Usage(3,user-xTOn6,913), Usage(4,user-3xGSz,246), Usage(5,user-2aWRN,727), Usage(6,user-EzZY1,65), Usage(7,user-ZlZMZ,935), Usage(8,user-VjxeG,756), Usage(9,user-iqf1P,3), Usage(10,user-91S1q,794), Usage(11,user-qHNj0,501), Usage(12,user-7hb94,460), Usage(13,user-bz0WF,142), Usage(14,user-71nwy,479), Usage(15,user-7GZz1,823), Usage(16,user-1CSk6,140), Usage(17,user-WPzlL,246), Usage(18,user-VaEit,451), Usage(19,user-PSaRq,679), Usage(20,user-0Kkzu,332), Usage(21,user-UN3MG,172), Usage(22,user-KwwER,442), Usage(23,user-ZnltJ,923), Usage(24,user-IRA17,741), Usage(25,user-yNHRT,299), Usage(26,user-CJY3C,996...\r\n"
      ]
     },
     "execution_count": 22,
     "metadata": {},
     "output_type": "execute_result"
    }
   ],
   "source": [
    "val r = new scala.util.Random(42)\n",
    "// Create 1000 instances of scala Usage class \n",
    "// This generates data on the fly\n",
    "val data = for (i <- 0 to 1000)\n",
    " yield (Usage(i, \"user-\" + r.alphanumeric.take(5).mkString(\"\"),\n",
    " r.nextInt(1000)))\n",
    "// Create a Dataset of Usage typed data\n",
    "val dsUsage = spark.createDataset(data)\n",
    "dsUsage.show(10)\n"
   ]
  },
  {
   "cell_type": "code",
   "execution_count": 30,
   "id": "5dda1e15",
   "metadata": {},
   "outputs": [
    {
     "name": "stdout",
     "output_type": "stream",
     "text": [
      "+---+----------+-----+\n",
      "|uid|uname     |usage|\n",
      "+---+----------+-----+\n",
      "|605|user-NL6c4|999  |\n",
      "|113|user-nnAXr|999  |\n",
      "|634|user-L0wci|999  |\n",
      "|561|user-5n2xY|999  |\n",
      "|26 |user-CJY3C|996  |\n",
      "+---+----------+-----+\n",
      "only showing top 5 rows\n",
      "\r\n"
     ]
    }
   ],
   "source": [
    "dsUsage\n",
    " .where($\"usage\" > 900) //Recordad que en caso de Jupyter notebooks, toda función lambda fallará por la configuración que tenemos del spylon kernel\n",
    " .orderBy(desc(\"usage\"))\n",
    " .show(5, false)"
   ]
  },
  {
   "cell_type": "code",
   "execution_count": 31,
   "id": "e3d2e2d0",
   "metadata": {},
   "outputs": [
    {
     "ename": "org.apache.spark.SparkException",
     "evalue": " Job aborted due to stage failure: Task 2 in stage 15.0 failed 1 times, most recent failure: Lost task 2.0 in stage 15.0 (TID 45) (EM2021002844.bosonit.local executor driver): java.lang.ClassCastException: class $iw cannot be cast to class $iw ($iw is in unnamed module of loader org.apache.spark.repl.ExecutorClassLoader @667235a5; $iw is in unnamed module of loader scala.tools.nsc.interpreter.IMain$TranslatingClassLoader @7c066ec2)\r",
     "output_type": "error",
     "traceback": [
      "org.apache.spark.SparkException: Job aborted due to stage failure: Task 2 in stage 15.0 failed 1 times, most recent failure: Lost task 2.0 in stage 15.0 (TID 45) (EM2021002844.bosonit.local executor driver): java.lang.ClassCastException: class $iw cannot be cast to class $iw ($iw is in unnamed module of loader org.apache.spark.repl.ExecutorClassLoader @667235a5; $iw is in unnamed module of loader scala.tools.nsc.interpreter.IMain$TranslatingClassLoader @7c066ec2)\r",
      "\tat org.apache.spark.sql.catalyst.expressions.GeneratedClass$GeneratedIteratorForCodegenStage1.processNext(Unknown Source)\r",
      "\tat org.apache.spark.sql.execution.BufferedRowIterator.hasNext(BufferedRowIterator.java:43)\r",
      "\tat org.apache.spark.sql.execution.WholeStageCodegenExec$$anon$1.hasNext(WholeStageCodegenExec.scala:755)\r",
      "\tat scala.collection.Iterator$$anon$10.hasNext(Iterator.scala:458)\r",
      "\tat scala.collection.convert.Wrappers$IteratorWrapper.hasNext(Wrappers.scala:31)\r",
      "\tat org.sparkproject.guava.collect.Ordering.leastOf(Ordering.java:628)\r",
      "\tat org.apache.spark.util.collection.Utils$.takeOrdered(Utils.scala:37)\r",
      "\tat org.apache.spark.rdd.RDD.$anonfun$takeOrdered$2(RDD.scala:1518)\r",
      "\tat org.apache.spark.rdd.RDD.$anonfun$mapPartitions$2(RDD.scala:863)\r",
      "\tat org.apache.spark.rdd.RDD.$anonfun$mapPartitions$2$adapted(RDD.scala:863)\r",
      "\tat org.apache.spark.rdd.MapPartitionsRDD.compute(MapPartitionsRDD.scala:52)\r",
      "\tat org.apache.spark.rdd.RDD.computeOrReadCheckpoint(RDD.scala:373)\r",
      "\tat org.apache.spark.rdd.RDD.iterator(RDD.scala:337)\r",
      "\tat org.apache.spark.scheduler.ResultTask.runTask(ResultTask.scala:90)\r",
      "\tat org.apache.spark.scheduler.Task.run(Task.scala:131)\r",
      "\tat org.apache.spark.executor.Executor$TaskRunner.$anonfun$run$3(Executor.scala:497)\r",
      "\tat org.apache.spark.util.Utils$.tryWithSafeFinally(Utils.scala:1439)\r",
      "\tat org.apache.spark.executor.Executor$TaskRunner.run(Executor.scala:500)\r",
      "\tat java.base/java.util.concurrent.ThreadPoolExecutor.runWorker(ThreadPoolExecutor.java:1130)\r",
      "\tat java.base/java.util.concurrent.ThreadPoolExecutor$Worker.run(ThreadPoolExecutor.java:630)\r",
      "\tat java.base/java.lang.Thread.run(Thread.java:832)\r",
      "\r",
      "Driver stacktrace:\r",
      "  at org.apache.spark.scheduler.DAGScheduler.failJobAndIndependentStages(DAGScheduler.scala:2253)\r",
      "  at org.apache.spark.scheduler.DAGScheduler.$anonfun$abortStage$2(DAGScheduler.scala:2202)\r",
      "  at org.apache.spark.scheduler.DAGScheduler.$anonfun$abortStage$2$adapted(DAGScheduler.scala:2201)\r",
      "  at scala.collection.mutable.ResizableArray.foreach(ResizableArray.scala:62)\r",
      "  at scala.collection.mutable.ResizableArray.foreach$(ResizableArray.scala:55)\r",
      "  at scala.collection.mutable.ArrayBuffer.foreach(ArrayBuffer.scala:49)\r",
      "  at org.apache.spark.scheduler.DAGScheduler.abortStage(DAGScheduler.scala:2201)\r",
      "  at org.apache.spark.scheduler.DAGScheduler.$anonfun$handleTaskSetFailed$1(DAGScheduler.scala:1078)\r",
      "  at org.apache.spark.scheduler.DAGScheduler.$anonfun$handleTaskSetFailed$1$adapted(DAGScheduler.scala:1078)\r",
      "  at scala.Option.foreach(Option.scala:407)\r",
      "  at org.apache.spark.scheduler.DAGScheduler.handleTaskSetFailed(DAGScheduler.scala:1078)\r",
      "  at org.apache.spark.scheduler.DAGSchedulerEventProcessLoop.doOnReceive(DAGScheduler.scala:2440)\r",
      "  at org.apache.spark.scheduler.DAGSchedulerEventProcessLoop.onReceive(DAGScheduler.scala:2382)\r",
      "  at org.apache.spark.scheduler.DAGSchedulerEventProcessLoop.onReceive(DAGScheduler.scala:2371)\r",
      "  at org.apache.spark.util.EventLoop$$anon$1.run(EventLoop.scala:49)\r",
      "  at org.apache.spark.scheduler.DAGScheduler.runJob(DAGScheduler.scala:868)\r",
      "  at org.apache.spark.SparkContext.runJob(SparkContext.scala:2202)\r",
      "  at org.apache.spark.SparkContext.runJob(SparkContext.scala:2297)\r",
      "  at org.apache.spark.rdd.RDD.$anonfun$reduce$1(RDD.scala:1120)\r",
      "  at org.apache.spark.rdd.RDDOperationScope$.withScope(RDDOperationScope.scala:151)\r",
      "  at org.apache.spark.rdd.RDDOperationScope$.withScope(RDDOperationScope.scala:112)\r",
      "  at org.apache.spark.rdd.RDD.withScope(RDD.scala:414)\r",
      "  at org.apache.spark.rdd.RDD.reduce(RDD.scala:1102)\r",
      "  at org.apache.spark.rdd.RDD.$anonfun$takeOrdered$1(RDD.scala:1524)\r",
      "  at org.apache.spark.rdd.RDDOperationScope$.withScope(RDDOperationScope.scala:151)\r",
      "  at org.apache.spark.rdd.RDDOperationScope$.withScope(RDDOperationScope.scala:112)\r",
      "  at org.apache.spark.rdd.RDD.withScope(RDD.scala:414)\r",
      "  at org.apache.spark.rdd.RDD.takeOrdered(RDD.scala:1512)\r",
      "  at org.apache.spark.sql.execution.TakeOrderedAndProjectExec.executeCollect(limit.scala:183)\r",
      "  at org.apache.spark.sql.Dataset.collectFromPlan(Dataset.scala:3696)\r",
      "  at org.apache.spark.sql.Dataset.$anonfun$head$1(Dataset.scala:2722)\r",
      "  at org.apache.spark.sql.Dataset.$anonfun$withAction$1(Dataset.scala:3687)\r",
      "  at org.apache.spark.sql.execution.SQLExecution$.$anonfun$withNewExecutionId$5(SQLExecution.scala:103)\r",
      "  at org.apache.spark.sql.execution.SQLExecution$.withSQLConfPropagated(SQLExecution.scala:163)\r",
      "  at org.apache.spark.sql.execution.SQLExecution$.$anonfun$withNewExecutionId$1(SQLExecution.scala:90)\r",
      "  at org.apache.spark.sql.SparkSession.withActive(SparkSession.scala:772)\r",
      "  at org.apache.spark.sql.execution.SQLExecution$.withNewExecutionId(SQLExecution.scala:64)\r",
      "  at org.apache.spark.sql.Dataset.withAction(Dataset.scala:3685)\r",
      "  at org.apache.spark.sql.Dataset.head(Dataset.scala:2722)\r",
      "  at org.apache.spark.sql.Dataset.take(Dataset.scala:2929)\r",
      "  at org.apache.spark.sql.Dataset.getRows(Dataset.scala:301)\r",
      "  at org.apache.spark.sql.Dataset.showString(Dataset.scala:338)\r",
      "  at org.apache.spark.sql.Dataset.show(Dataset.scala:827)\r",
      "  ... 42 elided\r",
      "Caused by: java.lang.ClassCastException: class $iw cannot be cast to class $iw ($iw is in unnamed module of loader org.apache.spark.repl.ExecutorClassLoader @667235a5; $iw is in unnamed module of loader scala.tools.nsc.interpreter.IMain$TranslatingClassLoader @7c066ec2)\r",
      "  at org.apache.spark.sql.catalyst.expressions.GeneratedClass$GeneratedIteratorForCodegenStage1.processNext(Unknown Source)\r",
      "  at org.apache.spark.sql.execution.BufferedRowIterator.hasNext(BufferedRowIterator.java:43)\r",
      "  at org.apache.spark.sql.execution.WholeStageCodegenExec$$anon$1.hasNext(WholeStageCodegenExec.scala:755)\r",
      "  at scala.collection.Iterator$$anon$10.hasNext(Iterator.scala:458)\r",
      "  at scala.collection.convert.Wrappers$IteratorWrapper.hasNext(Wrappers.scala:31)\r",
      "  at org.sparkproject.guava.collect.Ordering.leastOf(Ordering.java:628)\r",
      "  at org.apache.spark.util.collection.Utils$.takeOrdered(Utils.scala:37)\r",
      "  at org.apache.spark.rdd.RDD.$anonfun$takeOrdered$2(RDD.scala:1518)\r",
      "  at org.apache.spark.rdd.RDD.$anonfun$mapPartitions$2(RDD.scala:863)\r",
      "  at org.apache.spark.rdd.RDD.$anonfun$mapPartitions$2$adapted(RDD.scala:863)\r",
      "  at org.apache.spark.rdd.MapPartitionsRDD.compute(MapPartitionsRDD.scala:52)\r",
      "  at org.apache.spark.rdd.RDD.computeOrReadCheckpoint(RDD.scala:373)\r",
      "  at org.apache.spark.rdd.RDD.iterator(RDD.scala:337)\r",
      "  at org.apache.spark.scheduler.ResultTask.runTask(ResultTask.scala:90)\r",
      "  at org.apache.spark.scheduler.Task.run(Task.scala:131)\r",
      "  at org.apache.spark.executor.Executor$TaskRunner.$anonfun$run$3(Executor.scala:497)\r",
      "  at org.apache.spark.util.Utils$.tryWithSafeFinally(Utils.scala:1439)\r",
      "  at org.apache.spark.executor.Executor$TaskRunner.run(Executor.scala:500)\r",
      "  at java.base/java.util.concurrent.ThreadPoolExecutor.runWorker(ThreadPoolExecutor.java:1130)\r",
      "  at java.base/java.util.concurrent.ThreadPoolExecutor$Worker.run(ThreadPoolExecutor.java:630)\r",
      "  ... 1 more\r",
      ""
     ]
    }
   ],
   "source": [
    "import org.apache.spark.sql.functions._\n",
    "dsUsage\n",
    " .filter(d => d.usage > 900)\n",
    " .orderBy(desc(\"usage\"))\n",
    " .show(5, false)"
   ]
  },
  {
   "cell_type": "code",
   "execution_count": 29,
   "id": "0a0a878b",
   "metadata": {},
   "outputs": [
    {
     "ename": "org.apache.spark.SparkException",
     "evalue": " Job aborted due to stage failure: Task 0 in stage 13.0 failed 1 times, most recent failure: Lost task 0.0 in stage 13.0 (TID 34) (EM2021002844.bosonit.local executor driver): java.lang.ClassCastException: class $iw cannot be cast to class $iw ($iw is in unnamed module of loader org.apache.spark.repl.ExecutorClassLoader @667235a5; $iw is in unnamed module of loader scala.tools.nsc.interpreter.IMain$TranslatingClassLoader @7c066ec2)\r",
     "output_type": "error",
     "traceback": [
      "org.apache.spark.SparkException: Job aborted due to stage failure: Task 0 in stage 13.0 failed 1 times, most recent failure: Lost task 0.0 in stage 13.0 (TID 34) (EM2021002844.bosonit.local executor driver): java.lang.ClassCastException: class $iw cannot be cast to class $iw ($iw is in unnamed module of loader org.apache.spark.repl.ExecutorClassLoader @667235a5; $iw is in unnamed module of loader scala.tools.nsc.interpreter.IMain$TranslatingClassLoader @7c066ec2)\r",
      "\tat org.apache.spark.sql.catalyst.expressions.GeneratedClass$GeneratedIteratorForCodegenStage1.deserializetoobject_doConsume_0$(Unknown Source)\r",
      "\tat org.apache.spark.sql.catalyst.expressions.GeneratedClass$GeneratedIteratorForCodegenStage1.processNext(Unknown Source)\r",
      "\tat org.apache.spark.sql.execution.BufferedRowIterator.hasNext(BufferedRowIterator.java:43)\r",
      "\tat org.apache.spark.sql.execution.WholeStageCodegenExec$$anon$1.hasNext(WholeStageCodegenExec.scala:755)\r",
      "\tat org.apache.spark.sql.execution.SparkPlan.$anonfun$getByteArrayRdd$1(SparkPlan.scala:345)\r",
      "\tat org.apache.spark.rdd.RDD.$anonfun$mapPartitionsInternal$2(RDD.scala:898)\r",
      "\tat org.apache.spark.rdd.RDD.$anonfun$mapPartitionsInternal$2$adapted(RDD.scala:898)\r",
      "\tat org.apache.spark.rdd.MapPartitionsRDD.compute(MapPartitionsRDD.scala:52)\r",
      "\tat org.apache.spark.rdd.RDD.computeOrReadCheckpoint(RDD.scala:373)\r",
      "\tat org.apache.spark.rdd.RDD.iterator(RDD.scala:337)\r",
      "\tat org.apache.spark.scheduler.ResultTask.runTask(ResultTask.scala:90)\r",
      "\tat org.apache.spark.scheduler.Task.run(Task.scala:131)\r",
      "\tat org.apache.spark.executor.Executor$TaskRunner.$anonfun$run$3(Executor.scala:497)\r",
      "\tat org.apache.spark.util.Utils$.tryWithSafeFinally(Utils.scala:1439)\r",
      "\tat org.apache.spark.executor.Executor$TaskRunner.run(Executor.scala:500)\r",
      "\tat java.base/java.util.concurrent.ThreadPoolExecutor.runWorker(ThreadPoolExecutor.java:1130)\r",
      "\tat java.base/java.util.concurrent.ThreadPoolExecutor$Worker.run(ThreadPoolExecutor.java:630)\r",
      "\tat java.base/java.lang.Thread.run(Thread.java:832)\r",
      "\r",
      "Driver stacktrace:\r",
      "  at org.apache.spark.scheduler.DAGScheduler.failJobAndIndependentStages(DAGScheduler.scala:2253)\r",
      "  at org.apache.spark.scheduler.DAGScheduler.$anonfun$abortStage$2(DAGScheduler.scala:2202)\r",
      "  at org.apache.spark.scheduler.DAGScheduler.$anonfun$abortStage$2$adapted(DAGScheduler.scala:2201)\r",
      "  at scala.collection.mutable.ResizableArray.foreach(ResizableArray.scala:62)\r",
      "  at scala.collection.mutable.ResizableArray.foreach$(ResizableArray.scala:55)\r",
      "  at scala.collection.mutable.ArrayBuffer.foreach(ArrayBuffer.scala:49)\r",
      "  at org.apache.spark.scheduler.DAGScheduler.abortStage(DAGScheduler.scala:2201)\r",
      "  at org.apache.spark.scheduler.DAGScheduler.$anonfun$handleTaskSetFailed$1(DAGScheduler.scala:1078)\r",
      "  at org.apache.spark.scheduler.DAGScheduler.$anonfun$handleTaskSetFailed$1$adapted(DAGScheduler.scala:1078)\r",
      "  at scala.Option.foreach(Option.scala:407)\r",
      "  at org.apache.spark.scheduler.DAGScheduler.handleTaskSetFailed(DAGScheduler.scala:1078)\r",
      "  at org.apache.spark.scheduler.DAGSchedulerEventProcessLoop.doOnReceive(DAGScheduler.scala:2440)\r",
      "  at org.apache.spark.scheduler.DAGSchedulerEventProcessLoop.onReceive(DAGScheduler.scala:2382)\r",
      "  at org.apache.spark.scheduler.DAGSchedulerEventProcessLoop.onReceive(DAGScheduler.scala:2371)\r",
      "  at org.apache.spark.util.EventLoop$$anon$1.run(EventLoop.scala:49)\r",
      "  at org.apache.spark.scheduler.DAGScheduler.runJob(DAGScheduler.scala:868)\r",
      "  at org.apache.spark.SparkContext.runJob(SparkContext.scala:2202)\r",
      "  at org.apache.spark.SparkContext.runJob(SparkContext.scala:2223)\r",
      "  at org.apache.spark.SparkContext.runJob(SparkContext.scala:2242)\r",
      "  at org.apache.spark.sql.execution.SparkPlan.executeTake(SparkPlan.scala:472)\r",
      "  at org.apache.spark.sql.execution.SparkPlan.executeTake(SparkPlan.scala:425)\r",
      "  at org.apache.spark.sql.execution.CollectLimitExec.executeCollect(limit.scala:47)\r",
      "  at org.apache.spark.sql.Dataset.collectFromPlan(Dataset.scala:3696)\r",
      "  at org.apache.spark.sql.Dataset.$anonfun$head$1(Dataset.scala:2722)\r",
      "  at org.apache.spark.sql.Dataset.$anonfun$withAction$1(Dataset.scala:3687)\r",
      "  at org.apache.spark.sql.execution.SQLExecution$.$anonfun$withNewExecutionId$5(SQLExecution.scala:103)\r",
      "  at org.apache.spark.sql.execution.SQLExecution$.withSQLConfPropagated(SQLExecution.scala:163)\r",
      "  at org.apache.spark.sql.execution.SQLExecution$.$anonfun$withNewExecutionId$1(SQLExecution.scala:90)\r",
      "  at org.apache.spark.sql.SparkSession.withActive(SparkSession.scala:772)\r",
      "  at org.apache.spark.sql.execution.SQLExecution$.withNewExecutionId(SQLExecution.scala:64)\r",
      "  at org.apache.spark.sql.Dataset.withAction(Dataset.scala:3685)\r",
      "  at org.apache.spark.sql.Dataset.head(Dataset.scala:2722)\r",
      "  at org.apache.spark.sql.Dataset.take(Dataset.scala:2929)\r",
      "  at org.apache.spark.sql.Dataset.getRows(Dataset.scala:301)\r",
      "  at org.apache.spark.sql.Dataset.showString(Dataset.scala:338)\r",
      "  at org.apache.spark.sql.Dataset.show(Dataset.scala:827)\r",
      "  ... 42 elided\r",
      "Caused by: java.lang.ClassCastException: class $iw cannot be cast to class $iw ($iw is in unnamed module of loader org.apache.spark.repl.ExecutorClassLoader @667235a5; $iw is in unnamed module of loader scala.tools.nsc.interpreter.IMain$TranslatingClassLoader @7c066ec2)\r",
      "  at org.apache.spark.sql.catalyst.expressions.GeneratedClass$GeneratedIteratorForCodegenStage1.deserializetoobject_doConsume_0$(Unknown Source)\r",
      "  at org.apache.spark.sql.catalyst.expressions.GeneratedClass$GeneratedIteratorForCodegenStage1.processNext(Unknown Source)\r",
      "  at org.apache.spark.sql.execution.BufferedRowIterator.hasNext(BufferedRowIterator.java:43)\r",
      "  at org.apache.spark.sql.execution.WholeStageCodegenExec$$anon$1.hasNext(WholeStageCodegenExec.scala:755)\r",
      "  at org.apache.spark.sql.execution.SparkPlan.$anonfun$getByteArrayRdd$1(SparkPlan.scala:345)\r",
      "  at org.apache.spark.rdd.RDD.$anonfun$mapPartitionsInternal$2(RDD.scala:898)\r",
      "  at org.apache.spark.rdd.RDD.$anonfun$mapPartitionsInternal$2$adapted(RDD.scala:898)\r",
      "  at org.apache.spark.rdd.MapPartitionsRDD.compute(MapPartitionsRDD.scala:52)\r",
      "  at org.apache.spark.rdd.RDD.computeOrReadCheckpoint(RDD.scala:373)\r",
      "  at org.apache.spark.rdd.RDD.iterator(RDD.scala:337)\r",
      "  at org.apache.spark.scheduler.ResultTask.runTask(ResultTask.scala:90)\r",
      "  at org.apache.spark.scheduler.Task.run(Task.scala:131)\r",
      "  at org.apache.spark.executor.Executor$TaskRunner.$anonfun$run$3(Executor.scala:497)\r",
      "  at org.apache.spark.util.Utils$.tryWithSafeFinally(Utils.scala:1439)\r",
      "  at org.apache.spark.executor.Executor$TaskRunner.run(Executor.scala:500)\r",
      "  at java.base/java.util.concurrent.ThreadPoolExecutor.runWorker(ThreadPoolExecutor.java:1130)\r",
      "  at java.base/java.util.concurrent.ThreadPoolExecutor$Worker.run(ThreadPoolExecutor.java:630)\r",
      "  ... 1 more\r",
      ""
     ]
    }
   ],
   "source": [
    "dsUsage.map(u => {if (u.usage > 750) u.usage * .15 else u.usage * .50 })\n",
    " .show(5, false)\n"
   ]
  },
  {
   "cell_type": "code",
   "execution_count": 32,
   "id": "04f57227",
   "metadata": {},
   "outputs": [
    {
     "name": "stdout",
     "output_type": "stream",
     "text": [
      "1=>4=>9=>16\r\n"
     ]
    },
    {
     "data": {
      "text/plain": [
       "input: org.apache.spark.rdd.RDD[Int] = ParallelCollectionRDD[63] at parallelize at <console>:37\r\n",
       "resultado: org.apache.spark.rdd.RDD[Int] = MapPartitionsRDD[64] at map at <console>:38\r\n"
      ]
     },
     "execution_count": 32,
     "metadata": {},
     "output_type": "execute_result"
    }
   ],
   "source": []
  }
 ],
 "metadata": {
  "kernelspec": {
   "display_name": "spylon-kernel",
   "language": "scala",
   "name": "spylon-kernel"
  },
  "language_info": {
   "codemirror_mode": "text/x-scala",
   "file_extension": ".scala",
   "help_links": [
    {
     "text": "MetaKernel Magics",
     "url": "https://metakernel.readthedocs.io/en/latest/source/README.html"
    }
   ],
   "mimetype": "text/x-scala",
   "name": "scala",
   "pygments_lexer": "scala",
   "version": "0.4.1"
  }
 },
 "nbformat": 4,
 "nbformat_minor": 5
}
