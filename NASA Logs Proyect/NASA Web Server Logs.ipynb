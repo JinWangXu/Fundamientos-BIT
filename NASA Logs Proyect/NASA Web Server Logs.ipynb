{
 "cells": [
  {
   "cell_type": "markdown",
   "id": "c27de0fb",
   "metadata": {},
   "source": [
    "# Web Server Logs Analysis\n",
    "\n",
    "De forma general, un server log es un archivo de log generado por el servidor con una \n",
    "lista de las actividades que se ejecutan. En este caso tenemos un web server log el cuál \n",
    "mantiene un historial de las peticiones realizadas a la página. Este tipo de server logs \n",
    "tienen un formato standard (Common Log Format). Y es una práctica general, el \n",
    "analizar estos logs para sacar distintas conclusiones, localizar ataques, errores \n",
    "comunes, etc.\n",
    "\n",
    "\n",
    "En nuestro caso tenemos el dataset de los web server logs de la NASA. Qué están compuestos por este tipo de registros:\n",
    "\n",
    "*133.43.96.45 - - [01/Aug/1995:00:00:23 -0400] \"GET /images/launch-logo.gif HTTP/1.0\" 200 1713*\n",
    "\n",
    "Por lo que tenemos los siguientes campos:\n",
    "1. Host: 133.43.96.45\n",
    "2. User-identifier: en este dataset, todos estos campos estarán con un “-“ que significa que faltan esos datos, por lo que obviaremos este campo.\n",
    "3. Userid: al igual que el anterior campo, también será obviado.\n",
    "4. Date: 01/Aug/1995:00:00:23 -0400, como podemos ver está en formato dd/MMM/yyyy:HH:mm:ss y el campo final “-0400” sería el timezone que en este caso omitiremos, además haremos una transformación de los meses a forma numérica.\n",
    "5. Request Method: GET, existen distintos métodos de petición.\n",
    "6. Resource: /images/launch-logo.gif, sería el recurso al que se accede en esta petición.\n",
    "7. Protocol: HTTP/1.0, y por ultimo en esta parte entre comillas tendríamos el protocolo utilizado al ser logs de 1995, seguramente sea el único protocolo utilizado.\n",
    "8. HTTP status code: 200, existen distintos códigos de estado de HTTP en el link a continuación tienes más información: link\n",
    "9. Size: 1713, y como ultimo campo tendríamos el tamaño del objeto recibido por el cliente en bytes. En casos de error del cliente, este campo no se encuentra por lo que al igual que en los userid, será indicado con un “-“, tenerlo en cuenta.\n",
    "\n",
    "\n",
    "Ahora que ya entendemos que se encuentra dentro de nuestro web server log, vamos a pasar a analizarlo. Primero debemos cargar el archivo como un archivo de texto normal y realizar las transformaciones pertinentes, a la hora de limpiar y estructurar nuestro dataset utilizaremos expresiones regulares para recoger los campos que necesitamos. \n",
    "\n",
    "\n",
    "Guardaremos nuestro nuevo DataFrame ya estructurado en formato parquet. Y de este leeremos para realizar nuestro análisis\n",
    "\n"
   ]
  },
  {
   "cell_type": "markdown",
   "id": "d2732788",
   "metadata": {},
   "source": [
    "### Lectura de todos los logs"
   ]
  },
  {
   "cell_type": "code",
   "execution_count": 2,
   "id": "a4165fac",
   "metadata": {},
   "outputs": [
    {
     "name": "stdout",
     "output_type": "stream",
     "text": [
      "+-----------------------------------------------------------------------------------------------------------------------+\n",
      "|value                                                                                                                  |\n",
      "+-----------------------------------------------------------------------------------------------------------------------+\n",
      "|199.72.81.55 - - [01/Jul/1995:00:00:01 -0400] \"GET /history/apollo/ HTTP/1.0\" 200 6245                                 |\n",
      "|unicomp6.unicomp.net - - [01/Jul/1995:00:00:06 -0400] \"GET /shuttle/countdown/ HTTP/1.0\" 200 3985                      |\n",
      "|199.120.110.21 - - [01/Jul/1995:00:00:09 -0400] \"GET /shuttle/missions/sts-73/mission-sts-73.html HTTP/1.0\" 200 4085   |\n",
      "|burger.letters.com - - [01/Jul/1995:00:00:11 -0400] \"GET /shuttle/countdown/liftoff.html HTTP/1.0\" 304 0               |\n",
      "|199.120.110.21 - - [01/Jul/1995:00:00:11 -0400] \"GET /shuttle/missions/sts-73/sts-73-patch-small.gif HTTP/1.0\" 200 4179|\n",
      "+-----------------------------------------------------------------------------------------------------------------------+\n",
      "only showing top 5 rows\n",
      "\n"
     ]
    }
   ],
   "source": [
    "nasaText = spark.read.text(\"access_log_Jul95\")\n",
    "\n",
    "nasaText.show(5, False)"
   ]
  },
  {
   "cell_type": "markdown",
   "id": "da083f35",
   "metadata": {},
   "source": [
    "### División de campos en diferentes columnas con expresiones regulares\n",
    "\n",
    "def regexp_extract(e: Column, exp: String, groupIdx: Int): \n",
    "\n",
    "Column Extract a specific group matched by a Java regex, from the specified string column. If the regex did not match, or the specified group did not match, an empty string is returned.\n"
   ]
  },
  {
   "cell_type": "markdown",
   "id": "060fdf7e",
   "metadata": {},
   "source": [
    "### Expresiones regulares\n",
    "\n",
    "https://regex101.com/r/78LS0X/1"
   ]
  },
  {
   "cell_type": "code",
   "execution_count": 3,
   "id": "b4619003",
   "metadata": {},
   "outputs": [
    {
     "name": "stdout",
     "output_type": "stream",
     "text": [
      "root\n",
      " |-- host: string (nullable = true)\n",
      " |-- timestamp: string (nullable = true)\n",
      " |-- method: string (nullable = true)\n",
      " |-- endpoint: string (nullable = true)\n",
      " |-- protocol: string (nullable = true)\n",
      " |-- status: integer (nullable = true)\n",
      " |-- content_size: integer (nullable = true)\n",
      "\n"
     ]
    }
   ],
   "source": [
    "from pyspark.sql.functions import regexp_extract\n",
    "\n",
    "nasa_df = nasaText.select(regexp_extract('value', r'(\\S+)', 1).alias('host'),\n",
    "                         regexp_extract('value', r'\\[(\\d{2}/\\w{3}/\\d{4}:\\d{2}:\\d{2}:\\d{2})', 1).alias('timestamp'),\n",
    "                         regexp_extract('value', r'\\\"(\\S+)\\s(\\S+)\\s*(\\S*)\\\"', 1).alias('method'),\n",
    "                         regexp_extract('value', r'\\\"(\\S+)\\s(\\S+)\\s*(\\S*)\\\"', 2).alias('endpoint'),\n",
    "                         regexp_extract('value', r'\\\"(\\S+)\\s(\\S+)\\s*(\\S*)\\\"', 3).alias('protocol'),\n",
    "                         regexp_extract('value', r'\\s(\\d{3})\\s', 1).cast('integer').alias('status'),\n",
    "                         regexp_extract('value', r'\\s(\\S+)$', 1).cast('integer').alias('content_size'))\n",
    "nasa_df.printSchema()"
   ]
  },
  {
   "cell_type": "code",
   "execution_count": 12,
   "id": "a4d4d213",
   "metadata": {},
   "outputs": [
    {
     "name": "stdout",
     "output_type": "stream",
     "text": [
      "+--------------------+--------------------+------+--------------------+--------+------+------------+\n",
      "|                host|           timestamp|method|            endpoint|protocol|status|content_size|\n",
      "+--------------------+--------------------+------+--------------------+--------+------+------------+\n",
      "|        199.72.81.55|01/Jul/1995:00:00:01|   GET|    /history/apollo/|HTTP/1.0|   200|        6245|\n",
      "|unicomp6.unicomp.net|01/Jul/1995:00:00:06|   GET| /shuttle/countdown/|HTTP/1.0|   200|        3985|\n",
      "|      199.120.110.21|01/Jul/1995:00:00:09|   GET|/shuttle/missions...|HTTP/1.0|   200|        4085|\n",
      "|  burger.letters.com|01/Jul/1995:00:00:11|   GET|/shuttle/countdow...|HTTP/1.0|   304|           0|\n",
      "|      199.120.110.21|01/Jul/1995:00:00:11|   GET|/shuttle/missions...|HTTP/1.0|   200|        4179|\n",
      "|  burger.letters.com|01/Jul/1995:00:00:12|   GET|/images/NASA-logo...|HTTP/1.0|   304|           0|\n",
      "|  burger.letters.com|01/Jul/1995:00:00:12|   GET|/shuttle/countdow...|HTTP/1.0|   200|           0|\n",
      "|     205.212.115.106|01/Jul/1995:00:00:12|   GET|/shuttle/countdow...|HTTP/1.0|   200|        3985|\n",
      "|         d104.aa.net|01/Jul/1995:00:00:13|   GET| /shuttle/countdown/|HTTP/1.0|   200|        3985|\n",
      "|      129.94.144.152|01/Jul/1995:00:00:13|   GET|                   /|HTTP/1.0|   200|        7074|\n",
      "|unicomp6.unicomp.net|01/Jul/1995:00:00:14|   GET|/shuttle/countdow...|HTTP/1.0|   200|       40310|\n",
      "|unicomp6.unicomp.net|01/Jul/1995:00:00:14|   GET|/images/NASA-logo...|HTTP/1.0|   200|         786|\n",
      "|unicomp6.unicomp.net|01/Jul/1995:00:00:14|   GET|/images/KSC-logos...|HTTP/1.0|   200|        1204|\n",
      "|         d104.aa.net|01/Jul/1995:00:00:15|   GET|/shuttle/countdow...|HTTP/1.0|   200|       40310|\n",
      "|         d104.aa.net|01/Jul/1995:00:00:15|   GET|/images/NASA-logo...|HTTP/1.0|   200|         786|\n",
      "|         d104.aa.net|01/Jul/1995:00:00:15|   GET|/images/KSC-logos...|HTTP/1.0|   200|        1204|\n",
      "|      129.94.144.152|01/Jul/1995:00:00:17|   GET|/images/ksclogo-m...|HTTP/1.0|   304|           0|\n",
      "|      199.120.110.21|01/Jul/1995:00:00:17|   GET|/images/launch-lo...|HTTP/1.0|   200|        1713|\n",
      "|ppptky391.asahi-n...|01/Jul/1995:00:00:18|   GET|/facts/about_ksc....|HTTP/1.0|   200|        3977|\n",
      "|  net-1-141.eden.com|01/Jul/1995:00:00:19|   GET|/shuttle/missions...|HTTP/1.0|   200|       34029|\n",
      "+--------------------+--------------------+------+--------------------+--------+------+------------+\n",
      "only showing top 20 rows\n",
      "\n"
     ]
    }
   ],
   "source": [
    "nasa_df.show()"
   ]
  },
  {
   "cell_type": "code",
   "execution_count": 4,
   "id": "d414834c",
   "metadata": {},
   "outputs": [],
   "source": [
    "from pyspark.sql.functions import *\n",
    "from pyspark.sql.types import *\n",
    "\n",
    "nasa_clean_df = nasa_df.withColumn(\"host\", when(col(\"host\") == \"\", \"Sin especificar\").otherwise(col(\"host\")))\\\n",
    "                        .withColumn(\"timestamp\", to_timestamp(col(\"timestamp\"), \"dd/MMM/yyyy:HH:mm:ss\"))\\\n",
    "                        .withColumn(\"method\", when(col(\"method\") == \"\", \"Sin especificar\").otherwise(col(\"method\")))\\\n",
    "                        .withColumn(\"endpoint\", when(col(\"endpoint\") == \"\", \"Sin especificar\").otherwise(col(\"endpoint\")))\\\n",
    "                        .withColumn(\"protocol\", when(col(\"protocol\") == \"\", \"Sin especificar\").otherwise(col(\"protocol\")))"
   ]
  },
  {
   "cell_type": "code",
   "execution_count": 5,
   "id": "f42d7a33",
   "metadata": {},
   "outputs": [
    {
     "name": "stdout",
     "output_type": "stream",
     "text": [
      "root\n",
      " |-- host: string (nullable = true)\n",
      " |-- timestamp: timestamp (nullable = true)\n",
      " |-- method: string (nullable = true)\n",
      " |-- endpoint: string (nullable = true)\n",
      " |-- protocol: string (nullable = true)\n",
      " |-- status: integer (nullable = true)\n",
      " |-- content_size: integer (nullable = true)\n",
      "\n",
      "+--------------------+-------------------+------+-----------------------------------------------+--------+------+------------+\n",
      "|host                |timestamp          |method|endpoint                                       |protocol|status|content_size|\n",
      "+--------------------+-------------------+------+-----------------------------------------------+--------+------+------------+\n",
      "|199.72.81.55        |1995-07-01 00:00:01|GET   |/history/apollo/                               |HTTP/1.0|200   |6245        |\n",
      "|unicomp6.unicomp.net|1995-07-01 00:00:06|GET   |/shuttle/countdown/                            |HTTP/1.0|200   |3985        |\n",
      "|199.120.110.21      |1995-07-01 00:00:09|GET   |/shuttle/missions/sts-73/mission-sts-73.html   |HTTP/1.0|200   |4085        |\n",
      "|burger.letters.com  |1995-07-01 00:00:11|GET   |/shuttle/countdown/liftoff.html                |HTTP/1.0|304   |0           |\n",
      "|199.120.110.21      |1995-07-01 00:00:11|GET   |/shuttle/missions/sts-73/sts-73-patch-small.gif|HTTP/1.0|200   |4179        |\n",
      "+--------------------+-------------------+------+-----------------------------------------------+--------+------+------------+\n",
      "only showing top 5 rows\n",
      "\n"
     ]
    }
   ],
   "source": [
    "nasa_clean_df.printSchema()\n",
    "nasa_clean_df.show(5, False)"
   ]
  },
  {
   "cell_type": "code",
   "execution_count": 6,
   "id": "9b11ebfb",
   "metadata": {},
   "outputs": [],
   "source": [
    "nasa_clean_df.write.format(\"parquet\")\\\n",
    "            .mode(\"overwrite\")\\\n",
    "            .option(\"compression\", \"snappy\")\\\n",
    "            .save(\"Parquet/nasa.parquet\")"
   ]
  },
  {
   "cell_type": "code",
   "execution_count": 7,
   "id": "b7291e68",
   "metadata": {},
   "outputs": [],
   "source": [
    "nasaParquet = spark.read.format(\"parquet\").load(\"Parquet/nasa.parquet\")"
   ]
  },
  {
   "cell_type": "markdown",
   "id": "6d3b0fb9",
   "metadata": {},
   "source": [
    "## Consultas\n",
    "\n",
    "- ¿Cuáles son los distintos protocolos web utilizados? Agrúpalos.\n",
    "- ¿Cuáles son los códigos de estado más comunes en la web? Agrúpalos y ordénalos \n",
    "para ver cuál es el más común.\n",
    "- ¿Y los métodos de petición (verbos) más utilizados?\n",
    "- ¿Qué recurso tuvo la mayor transferencia de bytes de la página web?\n",
    "- Además, queremos saber que recurso de nuestra web es el que más tráfico recibe. Es \n",
    "decir, el recurso con más registros en nuestro log.\n",
    "- ¿Qué días la web recibió más tráfico?\n",
    "- ¿Cuáles son los hosts son los más frecuentes?\n",
    "- ¿A qué horas se produce el mayor número de tráfico en la web?\n",
    "- ¿Cuál es el número de errores 404 que ha habido cada día?"
   ]
  },
  {
   "cell_type": "code",
   "execution_count": 22,
   "id": "be6b3927",
   "metadata": {},
   "outputs": [
    {
     "name": "stdout",
     "output_type": "stream",
     "text": [
      "+---------------+\n",
      "|       protocol|\n",
      "+---------------+\n",
      "|Sin especificar|\n",
      "|         HTTP/*|\n",
      "|      HTTP/V1.0|\n",
      "|       HTTP/1.0|\n",
      "|  STS-69</a><p>|\n",
      "+---------------+\n",
      "\n"
     ]
    }
   ],
   "source": [
    "# ¿Cuáles son los distintos protocolos web utilizados? Agrúpalos.\n",
    "nasaParquet.select(col(\"protocol\")).distinct().show()"
   ]
  },
  {
   "cell_type": "code",
   "execution_count": 23,
   "id": "4ca44f91",
   "metadata": {},
   "outputs": [
    {
     "name": "stdout",
     "output_type": "stream",
     "text": [
      "+------+-------+\n",
      "|status|  total|\n",
      "+------+-------+\n",
      "|   200|1701536|\n",
      "|   304| 132627|\n",
      "|   302|  46573|\n",
      "|   404|  10843|\n",
      "|   500|     62|\n",
      "|   403|     54|\n",
      "|   501|     14|\n",
      "|   400|      5|\n",
      "|  null|      0|\n",
      "+------+-------+\n",
      "\n"
     ]
    }
   ],
   "source": [
    "# ¿Cuáles son los códigos de estado más comunes en la web? Agrúpalos y ordénalos para ver cuál es el más común.\n",
    "\n",
    "nasaParquet.select(col(\"status\")).groupBy(col(\"status\"))\\\n",
    "                                .agg(count(col(\"status\")).alias(\"total\"))\\\n",
    "                                .orderBy(desc(col(\"total\")))\\\n",
    "                                .show()"
   ]
  },
  {
   "cell_type": "code",
   "execution_count": 41,
   "id": "8958ace3",
   "metadata": {},
   "outputs": [
    {
     "name": "stdout",
     "output_type": "stream",
     "text": [
      "+---------------+-------+\n",
      "|         method|  total|\n",
      "+---------------+-------+\n",
      "|            GET|1886791|\n",
      "|           HEAD|   3950|\n",
      "|Sin especificar|    863|\n",
      "|           POST|    111|\n",
      "+---------------+-------+\n",
      "\n"
     ]
    }
   ],
   "source": [
    "# ¿Y los métodos de petición (verbos) más utilizados?\n",
    "\n",
    "nasaParquet.select(col(\"method\")).groupBy(col(\"method\"))\\\n",
    "                                .agg(count(col(\"method\")).alias(\"total\"))\\\n",
    "                                .orderBy(desc(col(\"total\")))\\\n",
    "                                .show()"
   ]
  },
  {
   "cell_type": "code",
   "execution_count": 46,
   "id": "989df11a",
   "metadata": {},
   "outputs": [
    {
     "name": "stdout",
     "output_type": "stream",
     "text": [
      "+---------------------------------------+------------+\n",
      "|endpoint                               |content_size|\n",
      "+---------------------------------------+------------+\n",
      "|/shuttle/countdown/video/livevideo.jpeg|6823936     |\n",
      "+---------------------------------------+------------+\n",
      "only showing top 1 row\n",
      "\n"
     ]
    }
   ],
   "source": [
    "# ¿Qué recurso tuvo la mayor transferencia de bytes de la página web?\n",
    "\n",
    "nasaParquet.select(col(\"endpoint\"),col(\"content_size\"))\\\n",
    "                                .orderBy(desc(col(\"content_size\")))\\\n",
    "                                .show(1, False)"
   ]
  },
  {
   "cell_type": "code",
   "execution_count": 49,
   "id": "63eb1345",
   "metadata": {},
   "outputs": [
    {
     "name": "stdout",
     "output_type": "stream",
     "text": [
      "+--------------------------+------+\n",
      "|endpoint                  |total |\n",
      "+--------------------------+------+\n",
      "|/images/NASA-logosmall.gif|111330|\n",
      "+--------------------------+------+\n",
      "only showing top 1 row\n",
      "\n"
     ]
    }
   ],
   "source": [
    "# Además, queremos saber que recurso de nuestra web es el que más tráfico recibe. \n",
    "# Es decir, el recurso con más registros en nuestro log.\n",
    "\n",
    "nasaParquet.select(col(\"endpoint\")).groupBy(col(\"endpoint\"))\\\n",
    "                                .agg(count(col(\"endpoint\")).alias(\"total\"))\\\n",
    "                                .orderBy(desc(col(\"total\")))\\\n",
    "                                .show(1,False)"
   ]
  },
  {
   "cell_type": "code",
   "execution_count": 9,
   "id": "a85f669d",
   "metadata": {},
   "outputs": [
    {
     "name": "stdout",
     "output_type": "stream",
     "text": [
      "+----------+-------+\n",
      "| Timestamp|Trafico|\n",
      "+----------+-------+\n",
      "|1995-07-13| 134203|\n",
      "+----------+-------+\n",
      "only showing top 1 row\n",
      "\n"
     ]
    }
   ],
   "source": [
    "# ¿Qué días la web recibió más tráfico?\n",
    "\n",
    "nasaParquet.select(col(\"timestamp\")).groupBy(col(\"timestamp\").cast(\"date\").alias(\"Timestamp\"))\\\n",
    "                                    .agg(count(\"*\").alias(\"Trafico\"))\\\n",
    "                                    .orderBy(desc(col(\"Trafico\")))\\\n",
    "                                    .show(1)"
   ]
  },
  {
   "cell_type": "code",
   "execution_count": 16,
   "id": "9e511a5b",
   "metadata": {},
   "outputs": [
    {
     "name": "stdout",
     "output_type": "stream",
     "text": [
      "+--------------------+-------+\n",
      "|                host|Visitas|\n",
      "+--------------------+-------+\n",
      "|piweba3y.prodigy.com|  17572|\n",
      "|piweba4y.prodigy.com|  11591|\n",
      "|piweba1y.prodigy.com|   9868|\n",
      "|  alyssa.prodigy.com|   7852|\n",
      "| siltb10.orl.mmc.com|   7573|\n",
      "|piweba2y.prodigy.com|   5922|\n",
      "|  edams.ksc.nasa.gov|   5434|\n",
      "|        163.206.89.4|   4906|\n",
      "|         news.ti.com|   4863|\n",
      "|disarray.demon.co.uk|   4353|\n",
      "+--------------------+-------+\n",
      "only showing top 10 rows\n",
      "\n"
     ]
    }
   ],
   "source": [
    "# ¿Cuáles son los hosts son los más frecuentes?\n",
    "\n",
    "nasaParquet.select(col(\"host\")).groupBy(col(\"host\"))\\\n",
    "                                    .agg(count(\"*\").alias(\"Visitas\"))\\\n",
    "                                    .orderBy(desc(col(\"Visitas\")))\\\n",
    "                                    .show(10)"
   ]
  },
  {
   "cell_type": "code",
   "execution_count": 13,
   "id": "7df45985",
   "metadata": {},
   "outputs": [
    {
     "name": "stdout",
     "output_type": "stream",
     "text": [
      "+-----+-------+\n",
      "|Hours|Trafico|\n",
      "+-----+-------+\n",
      "|   23|  69362|\n",
      "|   22|  70759|\n",
      "|   21|  71922|\n",
      "|   20|  69809|\n",
      "|   19|  71776|\n",
      "|   18|  79282|\n",
      "|   17|  97609|\n",
      "|   16| 118037|\n",
      "|   15| 121200|\n",
      "|   14| 122479|\n",
      "|   13| 120814|\n",
      "|   12| 122085|\n",
      "|   11| 115720|\n",
      "|   10| 105507|\n",
      "|    9|  99969|\n",
      "|    8|  83750|\n",
      "|    7|  54017|\n",
      "|    6|  35253|\n",
      "|    5|  31919|\n",
      "|    4|  32234|\n",
      "|    3|  37398|\n",
      "|    2|  45297|\n",
      "|    1|  53066|\n",
      "|    0|  62450|\n",
      "+-----+-------+\n",
      "only showing top 24 rows\n",
      "\n"
     ]
    }
   ],
   "source": [
    "# ¿A qué horas se produce el mayor número de tráfico en la web?\n",
    "\n",
    "nasaParquet.select(col(\"timestamp\")).groupBy(hour(col(\"timestamp\")).alias(\"Hours\"))\\\n",
    "                                    .agg(count(\"*\").alias(\"Trafico\"))\\\n",
    "                                    .orderBy(desc(col(\"Hours\")))\\\n",
    "                                    .show(24)"
   ]
  },
  {
   "cell_type": "code",
   "execution_count": 23,
   "id": "a8e29022",
   "metadata": {},
   "outputs": [
    {
     "name": "stdout",
     "output_type": "stream",
     "text": [
      "+-----+------+\n",
      "|Hours|Errors|\n",
      "+-----+------+\n",
      "|   23|   465|\n",
      "|   22|   485|\n",
      "|   21|   445|\n",
      "|   20|   383|\n",
      "|   19|   412|\n",
      "|   18|   505|\n",
      "|   17|   617|\n",
      "|   16|   631|\n",
      "|   15|   833|\n",
      "|   14|   752|\n",
      "|   13|   537|\n",
      "|   12|   657|\n",
      "|   11|   732|\n",
      "|   10|   595|\n",
      "|    9|   481|\n",
      "|    8|   365|\n",
      "|    7|   240|\n",
      "|    6|   134|\n",
      "|    5|   147|\n",
      "|    4|   168|\n",
      "|    3|   240|\n",
      "|    2|   268|\n",
      "|    1|   321|\n",
      "|    0|   430|\n",
      "+-----+------+\n",
      "\n"
     ]
    }
   ],
   "source": [
    "# ¿Cuál es el número de errores 404 que ha habido cada día?\n",
    "\n",
    "nasaParquet.select(col(\"timestamp\"), col(\"status\")).where(col(\"status\") == 404)\\\n",
    "                                    .groupBy(hour(col(\"timestamp\")).alias(\"Hours\"))\\\n",
    "                                    .agg(count(\"*\").alias(\"Errors\"))\\\n",
    "                                    .orderBy(desc(col(\"Hours\")))\\\n",
    "                                    .show(24)"
   ]
  }
 ],
 "metadata": {
  "kernelspec": {
   "display_name": "Python 3",
   "language": "python",
   "name": "python3"
  },
  "language_info": {
   "codemirror_mode": {
    "name": "ipython",
    "version": 3
   },
   "file_extension": ".py",
   "mimetype": "text/x-python",
   "name": "python",
   "nbconvert_exporter": "python",
   "pygments_lexer": "ipython3",
   "version": "3.8.8"
  }
 },
 "nbformat": 4,
 "nbformat_minor": 5
}
